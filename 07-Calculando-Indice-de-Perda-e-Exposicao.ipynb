{
 "cells": [
  {
   "cell_type": "markdown",
   "id": "fbf189d8",
   "metadata": {},
   "source": [
    "## Importações"
   ]
  },
  {
   "cell_type": "code",
   "execution_count": 1,
   "id": "5006c7c7",
   "metadata": {},
   "outputs": [],
   "source": [
    "from funcoes.funcoes import *\n",
    "\n",
    "pd.set_option('display.max_rows', 200)\n",
    "pd.set_option('display.max_columns', 200)"
   ]
  },
  {
   "cell_type": "code",
   "execution_count": 2,
   "id": "3da7f73c",
   "metadata": {},
   "outputs": [],
   "source": [
    "# importando dados\n",
    "\n",
    "df_dados = pd.read_csv('dados/loan_data_2007_2014_preprocessed.zip', index_col=0)"
   ]
  },
  {
   "cell_type": "markdown",
   "id": "d1052b71",
   "metadata": {},
   "source": [
    "---\n",
    "\n",
    "# 1. Calculando o Índice de Perda por Inadimplência e Exposição em Caso de Inadimplência"
   ]
  },
  {
   "cell_type": "markdown",
   "id": "453f7a7f",
   "metadata": {},
   "source": [
    "## 1.1 Loss Given Default - LGD\n",
    "\n",
    "\n",
    "Para calcular LGD, perda por inadimplência, é preciso calcular a porcentagem de exposição recuperada após a inadimplência do mutuário. A LGD total de uma instituição financeira é calculada após uma análise de todos os empréstimos pendentes usando as perdas e a exposição acumuladas. \n",
    "\n",
    "Seu cálculo será:\n",
    "\n",
    "`LGD = 1 - taxa de recuperação`"
   ]
  },
  {
   "cell_type": "markdown",
   "id": "77f93281",
   "metadata": {},
   "source": [
    "Primeiro serão selecionandos apenas os dados dos mutuários que entraram em default."
   ]
  },
  {
   "cell_type": "code",
   "execution_count": 4,
   "id": "27b8d32f",
   "metadata": {},
   "outputs": [],
   "source": [
    "LC_defaults = df_dados[df_dados['loan_status'].isin(['Charged Off','Does not meet the credit policy. Status:Charged Off'])]"
   ]
  },
  {
   "cell_type": "markdown",
   "id": "6addcd49",
   "metadata": {},
   "source": [
    "### 1.1.1 Variáveis independentes"
   ]
  },
  {
   "cell_type": "code",
   "execution_count": 6,
   "id": "1418385e",
   "metadata": {
    "scrolled": true
   },
   "outputs": [
    {
     "data": {
      "text/plain": [
       "Unnamed: 0                                                             0\n",
       "id                                                                     0\n",
       "member_id                                                              0\n",
       "loan_amnt                                                              0\n",
       "funded_amnt                                                            0\n",
       "funded_amnt_inv                                                        0\n",
       "term                                                                   0\n",
       "int_rate                                                               0\n",
       "installment                                                            0\n",
       "grade                                                                  0\n",
       "sub_grade                                                              0\n",
       "emp_title                                                           3287\n",
       "emp_length                                                          2337\n",
       "home_ownership                                                         0\n",
       "annual_inc                                                             0\n",
       "verification_status                                                    0\n",
       "issue_d                                                                0\n",
       "loan_status                                                            0\n",
       "pymnt_plan                                                             0\n",
       "url                                                                    0\n",
       "desc                                                               27396\n",
       "purpose                                                                0\n",
       "title                                                                  3\n",
       "zip_code                                                               0\n",
       "addr_state                                                             0\n",
       "dti                                                                    0\n",
       "delinq_2yrs                                                            0\n",
       "earliest_cr_line                                                       3\n",
       "inq_last_6mths                                                         0\n",
       "mths_since_last_delinq                                             23950\n",
       "mths_since_last_record                                             37821\n",
       "open_acc                                                               0\n",
       "pub_rec                                                                0\n",
       "revol_bal                                                              0\n",
       "revol_util                                                            53\n",
       "total_acc                                                              0\n",
       "initial_list_status                                                    0\n",
       "out_prncp                                                              0\n",
       "out_prncp_inv                                                          0\n",
       "total_pymnt                                                            0\n",
       "total_pymnt_inv                                                        0\n",
       "total_rec_prncp                                                        0\n",
       "total_rec_int                                                          0\n",
       "total_rec_late_fee                                                     0\n",
       "recoveries                                                             0\n",
       "collection_recovery_fee                                                0\n",
       "last_pymnt_d                                                         376\n",
       "last_pymnt_amnt                                                        0\n",
       "next_pymnt_d                                                       42475\n",
       "last_credit_pull_d                                                     6\n",
       "collections_12_mths_ex_med                                            28\n",
       "mths_since_last_major_derog                                        35283\n",
       "policy_code                                                            0\n",
       "application_type                                                       0\n",
       "annual_inc_joint                                                   43236\n",
       "dti_joint                                                          43236\n",
       "verification_status_joint                                          43236\n",
       "acc_now_delinq                                                         0\n",
       "tot_coll_amt                                                       10780\n",
       "tot_cur_bal                                                        10780\n",
       "open_acc_6m                                                        43236\n",
       "open_il_6m                                                         43236\n",
       "open_il_12m                                                        43236\n",
       "open_il_24m                                                        43236\n",
       "mths_since_rcnt_il                                                 43236\n",
       "total_bal_il                                                       43236\n",
       "il_util                                                            43236\n",
       "open_rv_12m                                                        43236\n",
       "open_rv_24m                                                        43236\n",
       "max_bal_bc                                                         43236\n",
       "all_util                                                           43236\n",
       "total_rev_hi_lim                                                       0\n",
       "inq_fi                                                             43236\n",
       "total_cu_tl                                                        43236\n",
       "inq_last_12m                                                       43236\n",
       "emp_length_int                                                         0\n",
       "earliest_cr_line_date                                                  3\n",
       "mths_since_earliest_cr_line                                            0\n",
       "term_int                                                               0\n",
       "issue_d_date                                                           0\n",
       "mths_since_issue_d                                                     0\n",
       "grade:A                                                                0\n",
       "grade:B                                                                0\n",
       "grade:C                                                                0\n",
       "grade:D                                                                0\n",
       "grade:E                                                                0\n",
       "grade:F                                                                0\n",
       "grade:G                                                                0\n",
       "sub_grade:A1                                                           0\n",
       "sub_grade:A2                                                           0\n",
       "sub_grade:A3                                                           0\n",
       "sub_grade:A4                                                           0\n",
       "sub_grade:A5                                                           0\n",
       "sub_grade:B1                                                           0\n",
       "sub_grade:B2                                                           0\n",
       "sub_grade:B3                                                           0\n",
       "sub_grade:B4                                                           0\n",
       "sub_grade:B5                                                           0\n",
       "sub_grade:C1                                                           0\n",
       "sub_grade:C2                                                           0\n",
       "sub_grade:C3                                                           0\n",
       "sub_grade:C4                                                           0\n",
       "sub_grade:C5                                                           0\n",
       "sub_grade:D1                                                           0\n",
       "sub_grade:D2                                                           0\n",
       "sub_grade:D3                                                           0\n",
       "sub_grade:D4                                                           0\n",
       "sub_grade:D5                                                           0\n",
       "sub_grade:E1                                                           0\n",
       "sub_grade:E2                                                           0\n",
       "sub_grade:E3                                                           0\n",
       "sub_grade:E4                                                           0\n",
       "sub_grade:E5                                                           0\n",
       "sub_grade:F1                                                           0\n",
       "sub_grade:F2                                                           0\n",
       "sub_grade:F3                                                           0\n",
       "sub_grade:F4                                                           0\n",
       "sub_grade:F5                                                           0\n",
       "sub_grade:G1                                                           0\n",
       "sub_grade:G2                                                           0\n",
       "sub_grade:G3                                                           0\n",
       "sub_grade:G4                                                           0\n",
       "sub_grade:G5                                                           0\n",
       "home_ownership:ANY                                                     0\n",
       "home_ownership:MORTGAGE                                                0\n",
       "home_ownership:NONE                                                    0\n",
       "home_ownership:OTHER                                                   0\n",
       "home_ownership:OWN                                                     0\n",
       "home_ownership:RENT                                                    0\n",
       "verification_status:Not Verified                                       0\n",
       "verification_status:Source Verified                                    0\n",
       "verification_status:Verified                                           0\n",
       "loan_status:Charged Off                                                0\n",
       "loan_status:Current                                                    0\n",
       "loan_status:Default                                                    0\n",
       "loan_status:Does not meet the credit policy. Status:Charged Off        0\n",
       "loan_status:Does not meet the credit policy. Status:Fully Paid         0\n",
       "loan_status:Fully Paid                                                 0\n",
       "loan_status:In Grace Period                                            0\n",
       "loan_status:Late (16-30 days)                                          0\n",
       "loan_status:Late (31-120 days)                                         0\n",
       "purpose:car                                                            0\n",
       "purpose:credit_card                                                    0\n",
       "purpose:debt_consolidation                                             0\n",
       "purpose:educational                                                    0\n",
       "purpose:home_improvement                                               0\n",
       "purpose:house                                                          0\n",
       "purpose:major_purchase                                                 0\n",
       "purpose:medical                                                        0\n",
       "purpose:moving                                                         0\n",
       "purpose:other                                                          0\n",
       "purpose:renewable_energy                                               0\n",
       "purpose:small_business                                                 0\n",
       "purpose:vacation                                                       0\n",
       "purpose:wedding                                                        0\n",
       "addr_state:AK                                                          0\n",
       "addr_state:AL                                                          0\n",
       "addr_state:AR                                                          0\n",
       "addr_state:AZ                                                          0\n",
       "addr_state:CA                                                          0\n",
       "addr_state:CO                                                          0\n",
       "addr_state:CT                                                          0\n",
       "addr_state:DC                                                          0\n",
       "addr_state:DE                                                          0\n",
       "addr_state:FL                                                          0\n",
       "addr_state:GA                                                          0\n",
       "addr_state:HI                                                          0\n",
       "addr_state:IA                                                          0\n",
       "addr_state:ID                                                          0\n",
       "addr_state:IL                                                          0\n",
       "addr_state:IN                                                          0\n",
       "addr_state:KS                                                          0\n",
       "addr_state:KY                                                          0\n",
       "addr_state:LA                                                          0\n",
       "addr_state:MA                                                          0\n",
       "addr_state:MD                                                          0\n",
       "addr_state:ME                                                          0\n",
       "addr_state:MI                                                          0\n",
       "addr_state:MN                                                          0\n",
       "addr_state:MO                                                          0\n",
       "addr_state:MS                                                          0\n",
       "addr_state:MT                                                          0\n",
       "addr_state:NC                                                          0\n",
       "addr_state:NE                                                          0\n",
       "addr_state:NH                                                          0\n",
       "addr_state:NJ                                                          0\n",
       "addr_state:NM                                                          0\n",
       "addr_state:NV                                                          0\n",
       "addr_state:NY                                                          0\n",
       "addr_state:OH                                                          0\n",
       "addr_state:OK                                                          0\n",
       "addr_state:OR                                                          0\n",
       "addr_state:PA                                                          0\n",
       "addr_state:RI                                                          0\n",
       "addr_state:SC                                                          0\n",
       "addr_state:SD                                                          0\n",
       "addr_state:TN                                                          0\n",
       "addr_state:TX                                                          0\n",
       "addr_state:UT                                                          0\n",
       "addr_state:VA                                                          0\n",
       "addr_state:VT                                                          0\n",
       "addr_state:WA                                                          0\n",
       "addr_state:WI                                                          0\n",
       "addr_state:WV                                                          0\n",
       "addr_state:WY                                                          0\n",
       "initial_list_status:f                                                  0\n",
       "initial_list_status:w                                                  0\n",
       "good_bad                                                               0\n",
       "dtype: int64"
      ]
     },
     "execution_count": 6,
     "metadata": {},
     "output_type": "execute_result"
    }
   ],
   "source": [
    "# verificando valores nan\n",
    "# nenhum tratamento será necessário para as variáveis independentes\n",
    "\n",
    "pd.options.display.max_rows = None\n",
    "\n",
    "LC_defaults.isnull().sum()"
   ]
  },
  {
   "cell_type": "markdown",
   "id": "11fc7a93",
   "metadata": {},
   "source": [
    "### 1.1.2 Variáveis dependentes\n",
    "\n",
    "- **recoveries:** Pós cobrança da recuperação bruta;\n",
    "- **funded_amnt:** O valor total comprometido com esse empréstimo naquele momento.\n",
    "\n",
    "O cálculo da taxa de recuperação será realizado, mas seu valor máximo fica um pouco acima de 1 (por ser uma taxa ela deve estar entre 0 e 1), o que pode acontecer durante os cálculos."
   ]
  },
  {
   "cell_type": "code",
   "execution_count": 7,
   "id": "08ae0d4d",
   "metadata": {},
   "outputs": [
    {
     "data": {
      "text/plain": [
       "count    43236.000000\n",
       "mean         0.060820\n",
       "std          0.089770\n",
       "min          0.000000\n",
       "25%          0.000000\n",
       "50%          0.029466\n",
       "75%          0.114044\n",
       "max          1.220774\n",
       "Name: taxa_recuperacao, dtype: float64"
      ]
     },
     "execution_count": 7,
     "metadata": {},
     "output_type": "execute_result"
    }
   ],
   "source": [
    "LC_defaults['taxa_recuperacao'] = LC_defaults['recoveries'] / LC_defaults['funded_amnt']\n",
    "LC_defaults['taxa_recuperacao'].describe()"
   ]
  },
  {
   "cell_type": "code",
   "execution_count": 8,
   "id": "be5610da",
   "metadata": {},
   "outputs": [
    {
     "data": {
      "text/plain": [
       "count    43236.000000\n",
       "mean         0.060770\n",
       "std          0.089202\n",
       "min          0.000000\n",
       "25%          0.000000\n",
       "50%          0.029466\n",
       "75%          0.114044\n",
       "max          1.000000\n",
       "Name: taxa_recuperacao, dtype: float64"
      ]
     },
     "execution_count": 8,
     "metadata": {},
     "output_type": "execute_result"
    }
   ],
   "source": [
    "# corrigindo a taxa de recuperação\n",
    "\n",
    "LC_defaults['taxa_recuperacao'] = np.where(LC_defaults['taxa_recuperacao'] > 1, 1, LC_defaults['taxa_recuperacao'])\n",
    "LC_defaults['taxa_recuperacao'] = np.where(LC_defaults['taxa_recuperacao'] < 0, 0, LC_defaults['taxa_recuperacao'])\n",
    "LC_defaults['taxa_recuperacao'].describe()"
   ]
  },
  {
   "cell_type": "code",
   "execution_count": 9,
   "id": "ae834f88",
   "metadata": {},
   "outputs": [
    {
     "data": {
      "image/png": "[encoded data removed]",
      "text/plain": [
       "<Figure size 432x288 with 1 Axes>"
      ]
     },
     "metadata": {
      "needs_background": "light"
     },
     "output_type": "display_data"
    }
   ],
   "source": [
    "plt.title('Distribuição da Taxa de Recuperação')\n",
    "plt.hist(LC_defaults['taxa_recuperacao'], bins = 50);"
   ]
  },
  {
   "cell_type": "markdown",
   "id": "179d0e0e",
   "metadata": {},
   "source": [
    "Criando uma variável para a taxa de recuperação, onde será aplicada a regressão logística e se a `taxa_recuperacao` for zero, a taxa de recuperação será zero. Onde for maior do que zero, será usada a Regressão Linear para estimá-la."
   ]
  },
  {
   "cell_type": "code",
   "execution_count": 10,
   "id": "a3fc7a45",
   "metadata": {},
   "outputs": [],
   "source": [
    "LC_defaults['taxa_recuperacao_0_1'] = np.where(LC_defaults['taxa_recuperacao'] == 0, 0, 1)"
   ]
  },
  {
   "cell_type": "markdown",
   "id": "8e4d1301",
   "metadata": {},
   "source": [
    "## 1.2 Exposure at Default - EAD\n",
    "---\n",
    "\n",
    "EAD, exposição em caso de inadimplência, é o valor total ao qual uma instituição financeira está exposta quando um empréstimo entra em default. \n",
    "\n",
    "Pode ser calculado por:\n",
    "\n",
    "`EAD = valor total financiado * fator de conversão de crédito`\n",
    "\n",
    "### 1.2.1 Calculando o fator de conversão de crédito\n",
    "\n",
    "- **funded_amnt:** O valor total comprometido com esse empréstimo naquele momento;\n",
    "- **total_rec_prncp:** Principal recebido até o momento."
   ]
  },
  {
   "cell_type": "code",
   "execution_count": 11,
   "id": "c188637e",
   "metadata": {},
   "outputs": [
    {
     "data": {
      "text/plain": [
       "count    43236.000000\n",
       "mean         0.735952\n",
       "std          0.200742\n",
       "min          0.000438\n",
       "25%          0.632088\n",
       "50%          0.789908\n",
       "75%          0.888543\n",
       "max          1.000000\n",
       "Name: fator_conversao_credito, dtype: float64"
      ]
     },
     "execution_count": 11,
     "metadata": {},
     "output_type": "execute_result"
    }
   ],
   "source": [
    "LC_defaults['fator_conversao_credito'] = (LC_defaults['funded_amnt'] - LC_defaults['total_rec_prncp']) / LC_defaults['funded_amnt']\n",
    "LC_defaults['fator_conversao_credito'].describe()"
   ]
  },
  {
   "cell_type": "markdown",
   "id": "a47a3cda",
   "metadata": {},
   "source": [
    "Observando a distribuição beta, a mesma da taxa de recuperação, que nesse caso será aplicada a Regressão Linear, já que fatores de conversão são mais homogeaneamente distribuídos. "
   ]
  },
  {
   "cell_type": "code",
   "execution_count": 12,
   "id": "e27bfd2c",
   "metadata": {},
   "outputs": [
    {
     "data": {
      "image/png": "[encoded data removed]",
      "text/plain": [
       "<Figure size 432x288 with 1 Axes>"
      ]
     },
     "metadata": {
      "needs_background": "light"
     },
     "output_type": "display_data"
    }
   ],
   "source": [
    "plt.title('Distribuição do Fator de Conversão de Crédito')\n",
    "plt.hist(LC_defaults['fator_conversao_credito'], bins = 100);"
   ]
  },
  {
   "cell_type": "markdown",
   "id": "f603f06b",
   "metadata": {},
   "source": [
    "---"
   ]
  },
  {
   "cell_type": "markdown",
   "id": "634b7a9c",
   "metadata": {},
   "source": [
    "*Esse dataset foi criado para a Regressão Linear do notebook de índice de perda por inadimplência, será a junção das variáveis e dummies das variáveis selecionadas por WoE e IV com as taxas e fator de conversão criados neste notebook*"
   ]
  },
  {
   "cell_type": "code",
   "execution_count": 13,
   "id": "0a9d950c",
   "metadata": {},
   "outputs": [],
   "source": [
    "dados_WoE_VI = pd.read_csv('dados/selected_data.zip')"
   ]
  },
  {
   "cell_type": "code",
   "execution_count": 14,
   "id": "206ef70d",
   "metadata": {},
   "outputs": [],
   "source": [
    "df2 = pd.concat([dados_WoE_VI, LC_defaults[['taxa_recuperacao', 'taxa_recuperacao_0_1', \n",
    "                                            'fator_conversao_credito','funded_amnt','total_rec_prncp',\n",
    "                                            'recoveries']]], axis = 1)\n",
    "df2.fillna(0, inplace=True)"
   ]
  },
  {
   "cell_type": "code",
   "execution_count": 15,
   "id": "b8a92947",
   "metadata": {},
   "outputs": [],
   "source": [
    "df2.to_csv('dados/dados_WoE_VI_LGD_EAD_regressao.csv', index=False)"
   ]
  },
  {
   "cell_type": "markdown",
   "id": "f952fa1f",
   "metadata": {},
   "source": [
    "---"
   ]
  }
 ],
 "metadata": {
  "hide_input": false,
  "kernelspec": {
   "display_name": "Python 3 (ipykernel)",
   "language": "python",
   "name": "python3"
  },
  "language_info": {
   "codemirror_mode": {
    "name": "ipython",
    "version": 3
   },
   "file_extension": ".py",
   "mimetype": "text/x-python",
   "name": "python",
   "nbconvert_exporter": "python",
   "pygments_lexer": "ipython3",
   "version": "3.9.12"
  }
 },
 "nbformat": 4,
 "nbformat_minor": 5
}
