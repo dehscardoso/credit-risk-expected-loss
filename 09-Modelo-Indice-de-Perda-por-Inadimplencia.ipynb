{
 "cells": [
  {
   "cell_type": "markdown",
   "id": "48f4d855",
   "metadata": {},
   "source": [
    "<img src = \"https://thumbs2.imgbox.com/32/93/xRH3CBEG_t.png\" width=\"250\">"
   ]
  },
  {
   "cell_type": "markdown",
   "id": "a8d41f6b",
   "metadata": {},
   "source": [
    "# Modelo Índice de Perda por Inadimplência\n",
    "---"
   ]
  },
  {
   "cell_type": "code",
   "execution_count": 1,
   "id": "f5ff5d56",
   "metadata": {},
   "outputs": [],
   "source": [
    "import numpy as np\n",
    "import pandas as pd\n",
    "import seaborn as sns\n",
    "import matplotlib.pyplot as plt\n",
    "\n",
    "from imblearn.over_sampling import SMOTE\n",
    "from sklearn.model_selection import train_test_split\n",
    "\n",
    "from sklearn import linear_model\n",
    "from sklearn.preprocessing import StandardScaler\n",
    "from sklearn.metrics import mean_squared_error, r2_score\n",
    "from sklearn.metrics import roc_curve, roc_auc_score, classification_report, accuracy_score\n",
    "\n",
    "from funcoes.funcoes import *\n",
    "\n",
    "import warnings\n",
    "warnings.filterwarnings(\"ignore\")"
   ]
  },
  {
   "cell_type": "code",
   "execution_count": 2,
   "id": "a880d2b2",
   "metadata": {},
   "outputs": [],
   "source": [
    "LC_defaults = pd.read_csv('dados/dados_WoE_VI_LGD_EAD_regressao.csv')"
   ]
  },
  {
   "cell_type": "code",
   "execution_count": 3,
   "id": "b0ee2a48",
   "metadata": {},
   "outputs": [
    {
     "data": {
      "text/html": [
       "<div>\n",
       "<style scoped>\n",
       "    .dataframe tbody tr th:only-of-type {\n",
       "        vertical-align: middle;\n",
       "    }\n",
       "\n",
       "    .dataframe tbody tr th {\n",
       "        vertical-align: top;\n",
       "    }\n",
       "\n",
       "    .dataframe thead th {\n",
       "        text-align: right;\n",
       "    }\n",
       "</style>\n",
       "<table border=\"1\" class=\"dataframe\">\n",
       "  <thead>\n",
       "    <tr style=\"text-align: right;\">\n",
       "      <th></th>\n",
       "      <th>funded_amnt</th>\n",
       "      <th>term</th>\n",
       "      <th>int_rate</th>\n",
       "      <th>annual_inc</th>\n",
       "      <th>dti</th>\n",
       "      <th>inq_last_6mths</th>\n",
       "      <th>revol_util</th>\n",
       "      <th>tot_cur_bal</th>\n",
       "      <th>mths_since_rcnt_il</th>\n",
       "      <th>total_bal_il</th>\n",
       "      <th>...</th>\n",
       "      <th>initial_list_status:w</th>\n",
       "      <th>grade:B</th>\n",
       "      <th>grade:C</th>\n",
       "      <th>grade:D</th>\n",
       "      <th>grade:E</th>\n",
       "      <th>grade:F</th>\n",
       "      <th>grade:G</th>\n",
       "      <th>taxa_recuperacao</th>\n",
       "      <th>taxa_recuperacao_0_1</th>\n",
       "      <th>fator_conversao_credito</th>\n",
       "    </tr>\n",
       "  </thead>\n",
       "  <tbody>\n",
       "    <tr>\n",
       "      <th>0</th>\n",
       "      <td>9000</td>\n",
       "      <td>36</td>\n",
       "      <td>5.32</td>\n",
       "      <td>58000.0</td>\n",
       "      <td>10.39</td>\n",
       "      <td>0</td>\n",
       "      <td>4.2</td>\n",
       "      <td>7063</td>\n",
       "      <td>26</td>\n",
       "      <td>1982</td>\n",
       "      <td>...</td>\n",
       "      <td>1</td>\n",
       "      <td>0</td>\n",
       "      <td>0</td>\n",
       "      <td>0</td>\n",
       "      <td>0</td>\n",
       "      <td>0</td>\n",
       "      <td>0</td>\n",
       "      <td>0.0</td>\n",
       "      <td>0</td>\n",
       "      <td>0.0</td>\n",
       "    </tr>\n",
       "    <tr>\n",
       "      <th>1</th>\n",
       "      <td>8300</td>\n",
       "      <td>36</td>\n",
       "      <td>9.44</td>\n",
       "      <td>54000.0</td>\n",
       "      <td>16.91</td>\n",
       "      <td>0</td>\n",
       "      <td>30.7</td>\n",
       "      <td>26958</td>\n",
       "      <td>4</td>\n",
       "      <td>21058</td>\n",
       "      <td>...</td>\n",
       "      <td>1</td>\n",
       "      <td>1</td>\n",
       "      <td>0</td>\n",
       "      <td>0</td>\n",
       "      <td>0</td>\n",
       "      <td>0</td>\n",
       "      <td>0</td>\n",
       "      <td>0.0</td>\n",
       "      <td>0</td>\n",
       "      <td>0.0</td>\n",
       "    </tr>\n",
       "    <tr>\n",
       "      <th>2</th>\n",
       "      <td>4225</td>\n",
       "      <td>36</td>\n",
       "      <td>17.57</td>\n",
       "      <td>35000.0</td>\n",
       "      <td>29.25</td>\n",
       "      <td>2</td>\n",
       "      <td>82.0</td>\n",
       "      <td>35796</td>\n",
       "      <td>0</td>\n",
       "      <td>0</td>\n",
       "      <td>...</td>\n",
       "      <td>0</td>\n",
       "      <td>0</td>\n",
       "      <td>0</td>\n",
       "      <td>1</td>\n",
       "      <td>0</td>\n",
       "      <td>0</td>\n",
       "      <td>0</td>\n",
       "      <td>0.0</td>\n",
       "      <td>0</td>\n",
       "      <td>0.0</td>\n",
       "    </tr>\n",
       "    <tr>\n",
       "      <th>3</th>\n",
       "      <td>28000</td>\n",
       "      <td>36</td>\n",
       "      <td>7.49</td>\n",
       "      <td>425000.0</td>\n",
       "      <td>8.97</td>\n",
       "      <td>0</td>\n",
       "      <td>28.0</td>\n",
       "      <td>503070</td>\n",
       "      <td>0</td>\n",
       "      <td>0</td>\n",
       "      <td>...</td>\n",
       "      <td>0</td>\n",
       "      <td>0</td>\n",
       "      <td>0</td>\n",
       "      <td>0</td>\n",
       "      <td>0</td>\n",
       "      <td>0</td>\n",
       "      <td>0</td>\n",
       "      <td>0.0</td>\n",
       "      <td>0</td>\n",
       "      <td>0.0</td>\n",
       "    </tr>\n",
       "    <tr>\n",
       "      <th>4</th>\n",
       "      <td>3000</td>\n",
       "      <td>36</td>\n",
       "      <td>5.31</td>\n",
       "      <td>72000.0</td>\n",
       "      <td>14.60</td>\n",
       "      <td>0</td>\n",
       "      <td>3.0</td>\n",
       "      <td>305664</td>\n",
       "      <td>3</td>\n",
       "      <td>28880</td>\n",
       "      <td>...</td>\n",
       "      <td>1</td>\n",
       "      <td>0</td>\n",
       "      <td>0</td>\n",
       "      <td>0</td>\n",
       "      <td>0</td>\n",
       "      <td>0</td>\n",
       "      <td>0</td>\n",
       "      <td>0.0</td>\n",
       "      <td>0</td>\n",
       "      <td>0.0</td>\n",
       "    </tr>\n",
       "  </tbody>\n",
       "</table>\n",
       "<p>5 rows × 45 columns</p>\n",
       "</div>"
      ],
      "text/plain": [
       "   funded_amnt  term  int_rate  annual_inc    dti  inq_last_6mths  revol_util  \\\n",
       "0         9000    36      5.32     58000.0  10.39               0         4.2   \n",
       "1         8300    36      9.44     54000.0  16.91               0        30.7   \n",
       "2         4225    36     17.57     35000.0  29.25               2        82.0   \n",
       "3        28000    36      7.49    425000.0   8.97               0        28.0   \n",
       "4         3000    36      5.31     72000.0  14.60               0         3.0   \n",
       "\n",
       "   tot_cur_bal  mths_since_rcnt_il  total_bal_il  ...  initial_list_status:w  \\\n",
       "0         7063                  26          1982  ...                      1   \n",
       "1        26958                   4         21058  ...                      1   \n",
       "2        35796                   0             0  ...                      0   \n",
       "3       503070                   0             0  ...                      0   \n",
       "4       305664                   3         28880  ...                      1   \n",
       "\n",
       "   grade:B  grade:C  grade:D  grade:E  grade:F  grade:G  taxa_recuperacao  \\\n",
       "0        0        0        0        0        0        0               0.0   \n",
       "1        1        0        0        0        0        0               0.0   \n",
       "2        0        0        1        0        0        0               0.0   \n",
       "3        0        0        0        0        0        0               0.0   \n",
       "4        0        0        0        0        0        0               0.0   \n",
       "\n",
       "   taxa_recuperacao_0_1  fator_conversao_credito  \n",
       "0                     0                      0.0  \n",
       "1                     0                      0.0  \n",
       "2                     0                      0.0  \n",
       "3                     0                      0.0  \n",
       "4                     0                      0.0  \n",
       "\n",
       "[5 rows x 45 columns]"
      ]
     },
     "execution_count": 3,
     "metadata": {},
     "output_type": "execute_result"
    }
   ],
   "source": [
    "LC_defaults.head()"
   ]
  },
  {
   "cell_type": "code",
   "execution_count": 4,
   "id": "bd8e888f",
   "metadata": {},
   "outputs": [
    {
     "data": {
      "image/png": "[encoded data removed]",
      "text/plain": [
       "<Figure size 432x288 with 1 Axes>"
      ]
     },
     "metadata": {
      "needs_background": "light"
     },
     "output_type": "display_data"
    }
   ],
   "source": [
    "plt.title('Distribuição da Variável Taxa de Recuperação_0_1 Após SMOTE')\n",
    "sns.countplot(x = LC_defaults.taxa_recuperacao_0_1 , palette = ['red', 'green']);"
   ]
  },
  {
   "cell_type": "code",
   "execution_count": 5,
   "id": "af4309b8",
   "metadata": {},
   "outputs": [],
   "source": [
    "# separando dados\n",
    "X = LC_defaults.drop(['target', 'taxa_recuperacao', 'taxa_recuperacao_0_1', 'fator_conversao_credito', 'funded_amnt', 'total_rec_prncp', 'recoveries'], axis = 1)\n",
    "y = LC_defaults['taxa_recuperacao_0_1']"
   ]
  },
  {
   "cell_type": "code",
   "execution_count": 6,
   "id": "df75e003",
   "metadata": {},
   "outputs": [],
   "source": [
    "# tratando o desbalanceamento das classes da variável taxa_recuperacao_0_1\n",
    "smote = SMOTE(random_state=42)\n",
    "X_smote, y_smote = smote.fit_resample(X, y)"
   ]
  },
  {
   "cell_type": "code",
   "execution_count": 7,
   "id": "a47bd96c",
   "metadata": {},
   "outputs": [],
   "source": [
    "# separando dados de teste e treino\n",
    "X_train1, X_test1, y_train1, y_test1 = train_test_split(X_smote, y_smote, test_size = 0.3, random_state = 42)"
   ]
  },
  {
   "cell_type": "code",
   "execution_count": 8,
   "id": "add6e3be",
   "metadata": {},
   "outputs": [
    {
     "name": "stdout",
     "output_type": "stream",
     "text": [
      "(1117625, 38)\n",
      "(478983, 38)\n",
      "(1117625,)\n",
      "(478983,)\n"
     ]
    }
   ],
   "source": [
    "print(X_train1.shape)\n",
    "print(X_test1.shape)\n",
    "print(y_train1.shape)\n",
    "print(y_test1.shape)"
   ]
  },
  {
   "cell_type": "code",
   "execution_count": 9,
   "id": "c137ea9c",
   "metadata": {},
   "outputs": [],
   "source": [
    "# Instanciando a função\n",
    "scaler = StandardScaler()\n",
    "\n",
    "# Transformando os dados\n",
    "Xtrain_scaled = scaler.fit_transform(X_train1)\n",
    "Xtest_scaled = scaler.transform(X_test1)"
   ]
  },
  {
   "cell_type": "markdown",
   "id": "e080170b",
   "metadata": {},
   "source": [
    "### Regressão Logística - Parte 1"
   ]
  },
  {
   "cell_type": "code",
   "execution_count": 10,
   "id": "d2b1d776",
   "metadata": {},
   "outputs": [],
   "source": [
    "reglgd1 = LogisticRegression_with_p_values()\n",
    "reglgd1.fit(X_train1, y_train1)"
   ]
  },
  {
   "cell_type": "code",
   "execution_count": 11,
   "id": "cce203ee",
   "metadata": {},
   "outputs": [],
   "source": [
    "nomes_features = X_train1.columns.values"
   ]
  },
  {
   "cell_type": "code",
   "execution_count": 12,
   "id": "5097a608",
   "metadata": {
    "scrolled": true
   },
   "outputs": [
    {
     "data": {
      "text/html": [
       "<div>\n",
       "<style scoped>\n",
       "    .dataframe tbody tr th:only-of-type {\n",
       "        vertical-align: middle;\n",
       "    }\n",
       "\n",
       "    .dataframe tbody tr th {\n",
       "        vertical-align: top;\n",
       "    }\n",
       "\n",
       "    .dataframe thead th {\n",
       "        text-align: right;\n",
       "    }\n",
       "</style>\n",
       "<table border=\"1\" class=\"dataframe\">\n",
       "  <thead>\n",
       "    <tr style=\"text-align: right;\">\n",
       "      <th></th>\n",
       "      <th>nome_feature</th>\n",
       "      <th>coeficiente</th>\n",
       "      <th>p_valor</th>\n",
       "    </tr>\n",
       "  </thead>\n",
       "  <tbody>\n",
       "    <tr>\n",
       "      <th>0</th>\n",
       "      <td>intercept</td>\n",
       "      <td>-1.447064e-04</td>\n",
       "      <td>NaN</td>\n",
       "    </tr>\n",
       "    <tr>\n",
       "      <th>1</th>\n",
       "      <td>term</td>\n",
       "      <td>4.492722e-03</td>\n",
       "      <td>1.835149e-125</td>\n",
       "    </tr>\n",
       "    <tr>\n",
       "      <th>2</th>\n",
       "      <td>int_rate</td>\n",
       "      <td>9.666047e-03</td>\n",
       "      <td>2.180057e-69</td>\n",
       "    </tr>\n",
       "    <tr>\n",
       "      <th>3</th>\n",
       "      <td>annual_inc</td>\n",
       "      <td>-6.001198e-07</td>\n",
       "      <td>1.612923e-43</td>\n",
       "    </tr>\n",
       "    <tr>\n",
       "      <th>4</th>\n",
       "      <td>dti</td>\n",
       "      <td>1.586323e-03</td>\n",
       "      <td>2.324074e-24</td>\n",
       "    </tr>\n",
       "    <tr>\n",
       "      <th>5</th>\n",
       "      <td>inq_last_6mths</td>\n",
       "      <td>-3.271905e-04</td>\n",
       "      <td>8.960244e-01</td>\n",
       "    </tr>\n",
       "    <tr>\n",
       "      <th>6</th>\n",
       "      <td>revol_util</td>\n",
       "      <td>6.866662e-03</td>\n",
       "      <td>0.000000e+00</td>\n",
       "    </tr>\n",
       "    <tr>\n",
       "      <th>7</th>\n",
       "      <td>tot_cur_bal</td>\n",
       "      <td>-7.505393e-07</td>\n",
       "      <td>0.000000e+00</td>\n",
       "    </tr>\n",
       "    <tr>\n",
       "      <th>8</th>\n",
       "      <td>mths_since_rcnt_il</td>\n",
       "      <td>-1.452646e-02</td>\n",
       "      <td>0.000000e+00</td>\n",
       "    </tr>\n",
       "    <tr>\n",
       "      <th>9</th>\n",
       "      <td>total_bal_il</td>\n",
       "      <td>-1.533378e-06</td>\n",
       "      <td>1.115941e-138</td>\n",
       "    </tr>\n",
       "    <tr>\n",
       "      <th>10</th>\n",
       "      <td>max_bal_bc</td>\n",
       "      <td>-5.420180e-05</td>\n",
       "      <td>0.000000e+00</td>\n",
       "    </tr>\n",
       "    <tr>\n",
       "      <th>11</th>\n",
       "      <td>total_rev_hi_lim</td>\n",
       "      <td>-4.510744e-06</td>\n",
       "      <td>0.000000e+00</td>\n",
       "    </tr>\n",
       "    <tr>\n",
       "      <th>12</th>\n",
       "      <td>purpose:car</td>\n",
       "      <td>-4.537029e-05</td>\n",
       "      <td>9.986102e-01</td>\n",
       "    </tr>\n",
       "    <tr>\n",
       "      <th>13</th>\n",
       "      <td>purpose:credit_card</td>\n",
       "      <td>-8.183227e-04</td>\n",
       "      <td>8.895216e-01</td>\n",
       "    </tr>\n",
       "    <tr>\n",
       "      <th>14</th>\n",
       "      <td>purpose:educational</td>\n",
       "      <td>-4.847048e-07</td>\n",
       "      <td>9.999983e-01</td>\n",
       "    </tr>\n",
       "    <tr>\n",
       "      <th>15</th>\n",
       "      <td>purpose:home_improvement</td>\n",
       "      <td>-2.415001e-04</td>\n",
       "      <td>9.818422e-01</td>\n",
       "    </tr>\n",
       "    <tr>\n",
       "      <th>16</th>\n",
       "      <td>purpose:house</td>\n",
       "      <td>-2.710063e-05</td>\n",
       "      <td>9.993258e-01</td>\n",
       "    </tr>\n",
       "    <tr>\n",
       "      <th>17</th>\n",
       "      <td>purpose:major_purchase</td>\n",
       "      <td>-8.618920e-05</td>\n",
       "      <td>9.961904e-01</td>\n",
       "    </tr>\n",
       "    <tr>\n",
       "      <th>18</th>\n",
       "      <td>purpose:medical</td>\n",
       "      <td>-4.881722e-05</td>\n",
       "      <td>9.983843e-01</td>\n",
       "    </tr>\n",
       "    <tr>\n",
       "      <th>19</th>\n",
       "      <td>purpose:moving</td>\n",
       "      <td>-2.552683e-05</td>\n",
       "      <td>9.993781e-01</td>\n",
       "    </tr>\n",
       "    <tr>\n",
       "      <th>20</th>\n",
       "      <td>purpose:other</td>\n",
       "      <td>-2.336820e-04</td>\n",
       "      <td>9.826881e-01</td>\n",
       "    </tr>\n",
       "    <tr>\n",
       "      <th>21</th>\n",
       "      <td>purpose:renewable_energy</td>\n",
       "      <td>-2.638517e-06</td>\n",
       "      <td>9.999803e-01</td>\n",
       "    </tr>\n",
       "    <tr>\n",
       "      <th>22</th>\n",
       "      <td>purpose:small_business</td>\n",
       "      <td>-3.317090e-05</td>\n",
       "      <td>9.989824e-01</td>\n",
       "    </tr>\n",
       "    <tr>\n",
       "      <th>23</th>\n",
       "      <td>purpose:vacation</td>\n",
       "      <td>-2.882073e-05</td>\n",
       "      <td>9.992721e-01</td>\n",
       "    </tr>\n",
       "    <tr>\n",
       "      <th>24</th>\n",
       "      <td>purpose:wedding</td>\n",
       "      <td>-3.836257e-06</td>\n",
       "      <td>9.999676e-01</td>\n",
       "    </tr>\n",
       "    <tr>\n",
       "      <th>25</th>\n",
       "      <td>home_ownership:ANY</td>\n",
       "      <td>-5.251033e-06</td>\n",
       "      <td>9.999446e-01</td>\n",
       "    </tr>\n",
       "    <tr>\n",
       "      <th>26</th>\n",
       "      <td>home_ownership:MORTGAGE</td>\n",
       "      <td>-7.296378e-04</td>\n",
       "      <td>8.855548e-01</td>\n",
       "    </tr>\n",
       "    <tr>\n",
       "      <th>27</th>\n",
       "      <td>home_ownership:NONE</td>\n",
       "      <td>-9.992486e-08</td>\n",
       "      <td>9.999999e-01</td>\n",
       "    </tr>\n",
       "    <tr>\n",
       "      <th>28</th>\n",
       "      <td>home_ownership:OTHER</td>\n",
       "      <td>-4.170524e-07</td>\n",
       "      <td>9.999988e-01</td>\n",
       "    </tr>\n",
       "    <tr>\n",
       "      <th>29</th>\n",
       "      <td>home_ownership:OWN</td>\n",
       "      <td>-3.967183e-04</td>\n",
       "      <td>9.615201e-01</td>\n",
       "    </tr>\n",
       "    <tr>\n",
       "      <th>30</th>\n",
       "      <td>verification_status:Not Verified</td>\n",
       "      <td>-1.310295e-03</td>\n",
       "      <td>7.967322e-01</td>\n",
       "    </tr>\n",
       "    <tr>\n",
       "      <th>31</th>\n",
       "      <td>verification_status:Verified</td>\n",
       "      <td>-3.945868e-04</td>\n",
       "      <td>9.404280e-01</td>\n",
       "    </tr>\n",
       "    <tr>\n",
       "      <th>32</th>\n",
       "      <td>initial_list_status:w</td>\n",
       "      <td>-1.149407e-03</td>\n",
       "      <td>7.932978e-01</td>\n",
       "    </tr>\n",
       "    <tr>\n",
       "      <th>33</th>\n",
       "      <td>grade:B</td>\n",
       "      <td>-1.091263e-03</td>\n",
       "      <td>8.487432e-01</td>\n",
       "    </tr>\n",
       "    <tr>\n",
       "      <th>34</th>\n",
       "      <td>grade:C</td>\n",
       "      <td>-6.799790e-04</td>\n",
       "      <td>9.005413e-01</td>\n",
       "    </tr>\n",
       "    <tr>\n",
       "      <th>35</th>\n",
       "      <td>grade:D</td>\n",
       "      <td>-3.290637e-04</td>\n",
       "      <td>9.642031e-01</td>\n",
       "    </tr>\n",
       "    <tr>\n",
       "      <th>36</th>\n",
       "      <td>grade:E</td>\n",
       "      <td>-8.693141e-05</td>\n",
       "      <td>9.941145e-01</td>\n",
       "    </tr>\n",
       "    <tr>\n",
       "      <th>37</th>\n",
       "      <td>grade:F</td>\n",
       "      <td>-2.875810e-05</td>\n",
       "      <td>9.989463e-01</td>\n",
       "    </tr>\n",
       "    <tr>\n",
       "      <th>38</th>\n",
       "      <td>grade:G</td>\n",
       "      <td>-7.722377e-06</td>\n",
       "      <td>9.998483e-01</td>\n",
       "    </tr>\n",
       "  </tbody>\n",
       "</table>\n",
       "</div>"
      ],
      "text/plain": [
       "                        nome_feature   coeficiente        p_valor\n",
       "0                          intercept -1.447064e-04            NaN\n",
       "1                               term  4.492722e-03  1.835149e-125\n",
       "2                           int_rate  9.666047e-03   2.180057e-69\n",
       "3                         annual_inc -6.001198e-07   1.612923e-43\n",
       "4                                dti  1.586323e-03   2.324074e-24\n",
       "5                     inq_last_6mths -3.271905e-04   8.960244e-01\n",
       "6                         revol_util  6.866662e-03   0.000000e+00\n",
       "7                        tot_cur_bal -7.505393e-07   0.000000e+00\n",
       "8                 mths_since_rcnt_il -1.452646e-02   0.000000e+00\n",
       "9                       total_bal_il -1.533378e-06  1.115941e-138\n",
       "10                        max_bal_bc -5.420180e-05   0.000000e+00\n",
       "11                  total_rev_hi_lim -4.510744e-06   0.000000e+00\n",
       "12                       purpose:car -4.537029e-05   9.986102e-01\n",
       "13               purpose:credit_card -8.183227e-04   8.895216e-01\n",
       "14               purpose:educational -4.847048e-07   9.999983e-01\n",
       "15          purpose:home_improvement -2.415001e-04   9.818422e-01\n",
       "16                     purpose:house -2.710063e-05   9.993258e-01\n",
       "17            purpose:major_purchase -8.618920e-05   9.961904e-01\n",
       "18                   purpose:medical -4.881722e-05   9.983843e-01\n",
       "19                    purpose:moving -2.552683e-05   9.993781e-01\n",
       "20                     purpose:other -2.336820e-04   9.826881e-01\n",
       "21          purpose:renewable_energy -2.638517e-06   9.999803e-01\n",
       "22            purpose:small_business -3.317090e-05   9.989824e-01\n",
       "23                  purpose:vacation -2.882073e-05   9.992721e-01\n",
       "24                   purpose:wedding -3.836257e-06   9.999676e-01\n",
       "25                home_ownership:ANY -5.251033e-06   9.999446e-01\n",
       "26           home_ownership:MORTGAGE -7.296378e-04   8.855548e-01\n",
       "27               home_ownership:NONE -9.992486e-08   9.999999e-01\n",
       "28              home_ownership:OTHER -4.170524e-07   9.999988e-01\n",
       "29                home_ownership:OWN -3.967183e-04   9.615201e-01\n",
       "30  verification_status:Not Verified -1.310295e-03   7.967322e-01\n",
       "31      verification_status:Verified -3.945868e-04   9.404280e-01\n",
       "32             initial_list_status:w -1.149407e-03   7.932978e-01\n",
       "33                           grade:B -1.091263e-03   8.487432e-01\n",
       "34                           grade:C -6.799790e-04   9.005413e-01\n",
       "35                           grade:D -3.290637e-04   9.642031e-01\n",
       "36                           grade:E -8.693141e-05   9.941145e-01\n",
       "37                           grade:F -2.875810e-05   9.989463e-01\n",
       "38                           grade:G -7.722377e-06   9.998483e-01"
      ]
     },
     "execution_count": 12,
     "metadata": {},
     "output_type": "execute_result"
    }
   ],
   "source": [
    "tabela_sumario = pd.DataFrame(columns = ['nome_feature'], data = nomes_features)\n",
    "tabela_sumario['coeficiente'] = np.transpose(reglgd1.coef_)\n",
    "tabela_sumario.index = tabela_sumario.index + 1\n",
    "tabela_sumario.loc[0] = ['intercept', reglgd1.intercept_[0]]\n",
    "tabela_sumario = tabela_sumario.sort_index()\n",
    "\n",
    "p_values = reglgd1.p_values\n",
    "p_values = np.append(np.nan, np.array(p_values))\n",
    "tabela_sumario['p_valor'] = p_values\n",
    "tabela_sumario"
   ]
  },
  {
   "cell_type": "markdown",
   "id": "23abb56d",
   "metadata": {},
   "source": [
    "#### Testando o modelo"
   ]
  },
  {
   "cell_type": "code",
   "execution_count": 13,
   "id": "c05a682f",
   "metadata": {},
   "outputs": [],
   "source": [
    "y_pred_test1  = reglgd1.model.predict(X_test1)\n",
    "y_test_proba1 = reglgd1.model.predict_proba(X_test1)"
   ]
  },
  {
   "cell_type": "code",
   "execution_count": 14,
   "id": "ee14a19d",
   "metadata": {},
   "outputs": [],
   "source": [
    "y_test_proba1 = y_test_proba1[: ][: , 1]"
   ]
  },
  {
   "cell_type": "code",
   "execution_count": 15,
   "id": "d9dd0a29",
   "metadata": {},
   "outputs": [
    {
     "data": {
      "text/html": [
       "<div>\n",
       "<style scoped>\n",
       "    .dataframe tbody tr th:only-of-type {\n",
       "        vertical-align: middle;\n",
       "    }\n",
       "\n",
       "    .dataframe tbody tr th {\n",
       "        vertical-align: top;\n",
       "    }\n",
       "\n",
       "    .dataframe thead th {\n",
       "        text-align: right;\n",
       "    }\n",
       "</style>\n",
       "<table border=\"1\" class=\"dataframe\">\n",
       "  <thead>\n",
       "    <tr style=\"text-align: right;\">\n",
       "      <th></th>\n",
       "      <th>y_test1</th>\n",
       "      <th>y_test_proba1</th>\n",
       "    </tr>\n",
       "  </thead>\n",
       "  <tbody>\n",
       "    <tr>\n",
       "      <th>831940</th>\n",
       "      <td>0</td>\n",
       "      <td>0.483107</td>\n",
       "    </tr>\n",
       "    <tr>\n",
       "      <th>1423765</th>\n",
       "      <td>1</td>\n",
       "      <td>0.545522</td>\n",
       "    </tr>\n",
       "    <tr>\n",
       "      <th>623730</th>\n",
       "      <td>0</td>\n",
       "      <td>0.490970</td>\n",
       "    </tr>\n",
       "    <tr>\n",
       "      <th>1586908</th>\n",
       "      <td>1</td>\n",
       "      <td>0.475697</td>\n",
       "    </tr>\n",
       "    <tr>\n",
       "      <th>756497</th>\n",
       "      <td>1</td>\n",
       "      <td>0.608236</td>\n",
       "    </tr>\n",
       "  </tbody>\n",
       "</table>\n",
       "</div>"
      ],
      "text/plain": [
       "         y_test1  y_test_proba1\n",
       "831940         0       0.483107\n",
       "1423765        1       0.545522\n",
       "623730         0       0.490970\n",
       "1586908        1       0.475697\n",
       "756497         1       0.608236"
      ]
     },
     "execution_count": 15,
     "metadata": {},
     "output_type": "execute_result"
    }
   ],
   "source": [
    "y_test1_temp = y_test1\n",
    "\n",
    "y_test1_temp.reset_index(drop = True, inplace = True)\n",
    "df_pred_probs_atual = pd.concat([pd.DataFrame(y_test1_temp), pd.DataFrame(y_test_proba1)], axis = 1)\n",
    "df_pred_probs_atual.columns = ['y_test1', 'y_test_proba1']\n",
    "df_pred_probs_atual.index = X_test1.index\n",
    "df_pred_probs_atual.head()"
   ]
  },
  {
   "cell_type": "markdown",
   "id": "b5c0f3b1",
   "metadata": {},
   "source": [
    "#### Estimando o acurácia do modelo"
   ]
  },
  {
   "cell_type": "code",
   "execution_count": 16,
   "id": "bc875a2d",
   "metadata": {},
   "outputs": [],
   "source": [
    "tr = 0.5\n",
    "df_pred_probs_atual['y_pred_test1'] = np.where(df_pred_probs_atual['y_test_proba1'] > tr, 1, 0)"
   ]
  },
  {
   "cell_type": "code",
   "execution_count": 17,
   "id": "804f5ed3",
   "metadata": {},
   "outputs": [
    {
     "data": {
      "text/html": [
       "<div>\n",
       "<style scoped>\n",
       "    .dataframe tbody tr th:only-of-type {\n",
       "        vertical-align: middle;\n",
       "    }\n",
       "\n",
       "    .dataframe tbody tr th {\n",
       "        vertical-align: top;\n",
       "    }\n",
       "\n",
       "    .dataframe thead th {\n",
       "        text-align: right;\n",
       "    }\n",
       "</style>\n",
       "<table border=\"1\" class=\"dataframe\">\n",
       "  <thead>\n",
       "    <tr style=\"text-align: right;\">\n",
       "      <th>predito</th>\n",
       "      <th>0</th>\n",
       "      <th>1</th>\n",
       "    </tr>\n",
       "    <tr>\n",
       "      <th>atual</th>\n",
       "      <th></th>\n",
       "      <th></th>\n",
       "    </tr>\n",
       "  </thead>\n",
       "  <tbody>\n",
       "    <tr>\n",
       "      <th>0</th>\n",
       "      <td>125415</td>\n",
       "      <td>114031</td>\n",
       "    </tr>\n",
       "    <tr>\n",
       "      <th>1</th>\n",
       "      <td>68997</td>\n",
       "      <td>170540</td>\n",
       "    </tr>\n",
       "  </tbody>\n",
       "</table>\n",
       "</div>"
      ],
      "text/plain": [
       "predito       0       1\n",
       "atual                  \n",
       "0        125415  114031\n",
       "1         68997  170540"
      ]
     },
     "execution_count": 17,
     "metadata": {},
     "output_type": "execute_result"
    }
   ],
   "source": [
    "pd.crosstab(df_pred_probs_atual['y_test1'], df_pred_probs_atual['y_pred_test1'], rownames = ['atual'], colnames = ['predito'])"
   ]
  },
  {
   "cell_type": "code",
   "execution_count": 18,
   "id": "da48ef93",
   "metadata": {},
   "outputs": [
    {
     "data": {
      "text/html": [
       "<div>\n",
       "<style scoped>\n",
       "    .dataframe tbody tr th:only-of-type {\n",
       "        vertical-align: middle;\n",
       "    }\n",
       "\n",
       "    .dataframe tbody tr th {\n",
       "        vertical-align: top;\n",
       "    }\n",
       "\n",
       "    .dataframe thead th {\n",
       "        text-align: right;\n",
       "    }\n",
       "</style>\n",
       "<table border=\"1\" class=\"dataframe\">\n",
       "  <thead>\n",
       "    <tr style=\"text-align: right;\">\n",
       "      <th>predito</th>\n",
       "      <th>0</th>\n",
       "      <th>1</th>\n",
       "    </tr>\n",
       "    <tr>\n",
       "      <th>atual</th>\n",
       "      <th></th>\n",
       "      <th></th>\n",
       "    </tr>\n",
       "  </thead>\n",
       "  <tbody>\n",
       "    <tr>\n",
       "      <th>0</th>\n",
       "      <td>0.261836</td>\n",
       "      <td>0.238069</td>\n",
       "    </tr>\n",
       "    <tr>\n",
       "      <th>1</th>\n",
       "      <td>0.144049</td>\n",
       "      <td>0.356046</td>\n",
       "    </tr>\n",
       "  </tbody>\n",
       "</table>\n",
       "</div>"
      ],
      "text/plain": [
       "predito         0         1\n",
       "atual                      \n",
       "0        0.261836  0.238069\n",
       "1        0.144049  0.356046"
      ]
     },
     "execution_count": 18,
     "metadata": {},
     "output_type": "execute_result"
    }
   ],
   "source": [
    "pd.crosstab(df_pred_probs_atual['y_test1'], df_pred_probs_atual['y_pred_test1'], \n",
    "            rownames = ['atual'], colnames = ['predito']) / df_pred_probs_atual.shape[0]"
   ]
  },
  {
   "cell_type": "code",
   "execution_count": 19,
   "id": "f8334e20",
   "metadata": {},
   "outputs": [
    {
     "data": {
      "text/plain": [
       "0.6178820542691494"
      ]
     },
     "execution_count": 19,
     "metadata": {},
     "output_type": "execute_result"
    }
   ],
   "source": [
    "(pd.crosstab(df_pred_probs_atual['y_test1'], df_pred_probs_atual['y_pred_test1'], rownames = ['atual'], colnames = ['predito']) / df_pred_probs_atual.shape[0]).iloc[0, 0] + (pd.crosstab(df_pred_probs_atual['y_test1'], df_pred_probs_atual['y_pred_test1'], rownames = ['atual'], colnames = ['predito']) / df_pred_probs_atual.shape[0]).iloc[1, 1]"
   ]
  },
  {
   "cell_type": "code",
   "execution_count": 20,
   "id": "e4e041c3",
   "metadata": {},
   "outputs": [],
   "source": [
    "tfp, tvp, thresholds = roc_curve(df_pred_probs_atual['y_test1'], df_pred_probs_atual['y_test_proba1'])"
   ]
  },
  {
   "cell_type": "code",
   "execution_count": 21,
   "id": "4944818f",
   "metadata": {},
   "outputs": [
    {
     "data": {
      "image/png": "[encoded data removed]",
      "text/plain": [
       "<Figure size 432x288 with 1 Axes>"
      ]
     },
     "metadata": {
      "needs_background": "light"
     },
     "output_type": "display_data"
    }
   ],
   "source": [
    "plt.plot(tfp, tvp)\n",
    "plt.plot(tfp, tfp, linestyle = '--', color = 'k')\n",
    "plt.xlabel('Taxa de Falso Positivo')\n",
    "plt.ylabel('Taxa de Verdadeiro Positivo')\n",
    "plt.title('ROC curve');"
   ]
  },
  {
   "cell_type": "code",
   "execution_count": 22,
   "id": "5a8ee10c",
   "metadata": {},
   "outputs": [
    {
     "data": {
      "text/plain": [
       "0.6621780688724193"
      ]
     },
     "execution_count": 22,
     "metadata": {},
     "output_type": "execute_result"
    }
   ],
   "source": [
    "AUROC = roc_auc_score(df_pred_probs_atual['y_test1'], df_pred_probs_atual['y_test_proba1'])\n",
    "AUROC"
   ]
  },
  {
   "cell_type": "code",
   "execution_count": 23,
   "id": "76c1cf9d",
   "metadata": {},
   "outputs": [
    {
     "data": {
      "text/plain": [
       "array([1, 0, 0, ..., 1, 1, 1], dtype=int64)"
      ]
     },
     "execution_count": 23,
     "metadata": {},
     "output_type": "execute_result"
    }
   ],
   "source": [
    "y_pred_train1 = reglgd1.model.predict(X_train1)\n",
    "y_pred_train1"
   ]
  },
  {
   "cell_type": "code",
   "execution_count": 24,
   "id": "794a83b3",
   "metadata": {},
   "outputs": [
    {
     "name": "stdout",
     "output_type": "stream",
     "text": [
      "Acurácia de teste: 0.6179\n",
      "Acurácia de treino: 0.6189\n"
     ]
    }
   ],
   "source": [
    "print('Acurácia de teste: {0:0.4f}'.format(accuracy_score(y_test1, y_pred_test1)))\n",
    "print('Acurácia de treino: {0:0.4f}'.format(accuracy_score(y_train1, y_pred_train1)))"
   ]
  },
  {
   "cell_type": "markdown",
   "id": "00eba0d5",
   "metadata": {},
   "source": [
    "Comparação da precisão do conjunto de treino e do conjunto de teste para verificar se há overfitting. Como os valores são próximos, não há overfiting (uma grande diferença nos dois valores pode indicar overfitting ou underfitting). "
   ]
  },
  {
   "cell_type": "code",
   "execution_count": 25,
   "id": "cfa9a48f",
   "metadata": {},
   "outputs": [
    {
     "name": "stdout",
     "output_type": "stream",
     "text": [
      "Score de treino: 0.6189\n",
      "Score de teste: 0.6179\n"
     ]
    }
   ],
   "source": [
    "print('Score de treino: {:.4f}'.format(reglgd1.model.score(X_train1, y_train1)))\n",
    "print('Score de teste: {:.4f}'.format(reglgd1.model.score(X_test1, y_test1)))"
   ]
  },
  {
   "cell_type": "code",
   "execution_count": 26,
   "id": "aa2ca278",
   "metadata": {},
   "outputs": [
    {
     "name": "stdout",
     "output_type": "stream",
     "text": [
      "              precision    recall  f1-score   support\n",
      "\n",
      "           0       0.65      0.52      0.58    239446\n",
      "           1       0.60      0.71      0.65    239537\n",
      "\n",
      "    accuracy                           0.62    478983\n",
      "   macro avg       0.62      0.62      0.61    478983\n",
      "weighted avg       0.62      0.62      0.61    478983\n",
      "\n"
     ]
    }
   ],
   "source": [
    "print(classification_report(y_test1, y_pred_test1))"
   ]
  },
  {
   "cell_type": "markdown",
   "id": "85e8c311",
   "metadata": {},
   "source": [
    "#### Salvando o modelo"
   ]
  },
  {
   "cell_type": "code",
   "execution_count": 27,
   "id": "cfb6446c",
   "metadata": {},
   "outputs": [],
   "source": [
    "import pickle\n",
    "pickle.dump(reglgd1, open('modelos/modelo_lgd_v1.sav', 'wb'))"
   ]
  },
  {
   "cell_type": "markdown",
   "id": "4600f38b",
   "metadata": {},
   "source": [
    "### Resultados\n",
    "\n",
    "   - A acurácia do modelo de regressão logística foi de 61% e a ROC-AUC que se aproxima de 1. Assim, pode-se concluir que o classificador fez um bom trabalho em prever a taxa de recuperação, sem mostrar sinais de overfitting. \n",
    "    \n",
    "   - f-1 score: 65%, Recall: 71%"
   ]
  },
  {
   "cell_type": "markdown",
   "id": "9679127f",
   "metadata": {},
   "source": [
    "### Regressão Linear - Parte 2"
   ]
  },
  {
   "cell_type": "code",
   "execution_count": 28,
   "id": "d9cdc880",
   "metadata": {},
   "outputs": [],
   "source": [
    "LC_defaults2 = LC_defaults[LC_defaults['taxa_recuperacao_0_1'] == 1]"
   ]
  },
  {
   "cell_type": "code",
   "execution_count": 29,
   "id": "71462f41",
   "metadata": {},
   "outputs": [],
   "source": [
    "# separando dados\n",
    "X2 = LC_defaults2.drop(['target', 'taxa_recuperacao','taxa_recuperacao_0_1', 'fator_conversao_credito', 'funded_amnt', 'total_rec_prncp', 'recoveries'] , axis = 1)\n",
    "y2 = LC_defaults2['taxa_recuperacao']"
   ]
  },
  {
   "cell_type": "code",
   "execution_count": 30,
   "id": "cd61366f",
   "metadata": {},
   "outputs": [],
   "source": [
    "# separando dados de teste e treino\n",
    "X_train2, X_test2, y_train2, y_test2 = train_test_split(X2, y2, test_size = 0.3, random_state = 42)"
   ]
  },
  {
   "cell_type": "code",
   "execution_count": 31,
   "id": "87e7f026",
   "metadata": {},
   "outputs": [
    {
     "name": "stdout",
     "output_type": "stream",
     "text": [
      "(55540, 38)\n",
      "(23804, 38)\n",
      "(55540,)\n",
      "(23804,)\n"
     ]
    }
   ],
   "source": [
    "print(X_train2.shape)\n",
    "print(X_test2.shape)\n",
    "print(y_train2.shape)\n",
    "print(y_test2.shape)"
   ]
  },
  {
   "cell_type": "code",
   "execution_count": 32,
   "id": "1db499f0",
   "metadata": {},
   "outputs": [],
   "source": [
    "# Instanciando a função\n",
    "scaler = StandardScaler()\n",
    "\n",
    "# Transformando os dados\n",
    "Xtrain_scaled = scaler.fit_transform(X_train2)\n",
    "Xtest_scaled = scaler.transform(X_test2)"
   ]
  },
  {
   "cell_type": "code",
   "execution_count": 33,
   "id": "6f3895aa",
   "metadata": {},
   "outputs": [
    {
     "data": {
      "text/html": [
       "<style>#sk-container-id-1 {color: black;background-color: white;}#sk-container-id-1 pre{padding: 0;}#sk-container-id-1 div.sk-toggleable {background-color: white;}#sk-container-id-1 label.sk-toggleable__label {cursor: pointer;display: block;width: 100%;margin-bottom: 0;padding: 0.3em;box-sizing: border-box;text-align: center;}#sk-container-id-1 label.sk-toggleable__label-arrow:before {content: \"▸\";float: left;margin-right: 0.25em;color: #696969;}#sk-container-id-1 label.sk-toggleable__label-arrow:hover:before {color: black;}#sk-container-id-1 div.sk-estimator:hover label.sk-toggleable__label-arrow:before {color: black;}#sk-container-id-1 div.sk-toggleable__content {max-height: 0;max-width: 0;overflow: hidden;text-align: left;background-color: #f0f8ff;}#sk-container-id-1 div.sk-toggleable__content pre {margin: 0.2em;color: black;border-radius: 0.25em;background-color: #f0f8ff;}#sk-container-id-1 input.sk-toggleable__control:checked~div.sk-toggleable__content {max-height: 200px;max-width: 100%;overflow: auto;}#sk-container-id-1 input.sk-toggleable__control:checked~label.sk-toggleable__label-arrow:before {content: \"▾\";}#sk-container-id-1 div.sk-estimator input.sk-toggleable__control:checked~label.sk-toggleable__label {background-color: #d4ebff;}#sk-container-id-1 div.sk-label input.sk-toggleable__control:checked~label.sk-toggleable__label {background-color: #d4ebff;}#sk-container-id-1 input.sk-hidden--visually {border: 0;clip: rect(1px 1px 1px 1px);clip: rect(1px, 1px, 1px, 1px);height: 1px;margin: -1px;overflow: hidden;padding: 0;position: absolute;width: 1px;}#sk-container-id-1 div.sk-estimator {font-family: monospace;background-color: #f0f8ff;border: 1px dotted black;border-radius: 0.25em;box-sizing: border-box;margin-bottom: 0.5em;}#sk-container-id-1 div.sk-estimator:hover {background-color: #d4ebff;}#sk-container-id-1 div.sk-parallel-item::after {content: \"\";width: 100%;border-bottom: 1px solid gray;flex-grow: 1;}#sk-container-id-1 div.sk-label:hover label.sk-toggleable__label {background-color: #d4ebff;}#sk-container-id-1 div.sk-serial::before {content: \"\";position: absolute;border-left: 1px solid gray;box-sizing: border-box;top: 0;bottom: 0;left: 50%;z-index: 0;}#sk-container-id-1 div.sk-serial {display: flex;flex-direction: column;align-items: center;background-color: white;padding-right: 0.2em;padding-left: 0.2em;position: relative;}#sk-container-id-1 div.sk-item {position: relative;z-index: 1;}#sk-container-id-1 div.sk-parallel {display: flex;align-items: stretch;justify-content: center;background-color: white;position: relative;}#sk-container-id-1 div.sk-item::before, #sk-container-id-1 div.sk-parallel-item::before {content: \"\";position: absolute;border-left: 1px solid gray;box-sizing: border-box;top: 0;bottom: 0;left: 50%;z-index: -1;}#sk-container-id-1 div.sk-parallel-item {display: flex;flex-direction: column;z-index: 1;position: relative;background-color: white;}#sk-container-id-1 div.sk-parallel-item:first-child::after {align-self: flex-end;width: 50%;}#sk-container-id-1 div.sk-parallel-item:last-child::after {align-self: flex-start;width: 50%;}#sk-container-id-1 div.sk-parallel-item:only-child::after {width: 0;}#sk-container-id-1 div.sk-dashed-wrapped {border: 1px dashed gray;margin: 0 0.4em 0.5em 0.4em;box-sizing: border-box;padding-bottom: 0.4em;background-color: white;}#sk-container-id-1 div.sk-label label {font-family: monospace;font-weight: bold;display: inline-block;line-height: 1.2em;}#sk-container-id-1 div.sk-label-container {text-align: center;}#sk-container-id-1 div.sk-container {/* jupyter's `normalize.less` sets `[hidden] { display: none; }` but bootstrap.min.css set `[hidden] { display: none !important; }` so we also need the `!important` here to be able to override the default hidden behavior on the sphinx rendered scikit-learn.org. See: https://github.com/scikit-learn/scikit-learn/issues/21755 */display: inline-block !important;position: relative;}#sk-container-id-1 div.sk-text-repr-fallback {display: none;}</style><div id=\"sk-container-id-1\" class=\"sk-top-container\"><div class=\"sk-text-repr-fallback\"><pre>LinearRegression()</pre><b>In a Jupyter environment, please rerun this cell to show the HTML representation or trust the notebook. <br />On GitHub, the HTML representation is unable to render, please try loading this page with nbviewer.org.</b></div><div class=\"sk-container\" hidden><div class=\"sk-item\"><div class=\"sk-estimator sk-toggleable\"><input class=\"sk-toggleable__control sk-hidden--visually\" id=\"sk-estimator-id-1\" type=\"checkbox\" checked><label for=\"sk-estimator-id-1\" class=\"sk-toggleable__label sk-toggleable__label-arrow\">LinearRegression</label><div class=\"sk-toggleable__content\"><pre>LinearRegression()</pre></div></div></div></div></div>"
      ],
      "text/plain": [
       "LinearRegression()"
      ]
     },
     "execution_count": 33,
     "metadata": {},
     "output_type": "execute_result"
    }
   ],
   "source": [
    "reglgd2 = LinearRegression()\n",
    "reglgd2.fit(X_train2, y_train2)"
   ]
  },
  {
   "cell_type": "code",
   "execution_count": 34,
   "id": "f66edcaf",
   "metadata": {},
   "outputs": [],
   "source": [
    "nomes_features = X_train2.columns.values"
   ]
  },
  {
   "cell_type": "code",
   "execution_count": 35,
   "id": "04896b6c",
   "metadata": {
    "scrolled": true
   },
   "outputs": [
    {
     "data": {
      "text/html": [
       "<div>\n",
       "<style scoped>\n",
       "    .dataframe tbody tr th:only-of-type {\n",
       "        vertical-align: middle;\n",
       "    }\n",
       "\n",
       "    .dataframe tbody tr th {\n",
       "        vertical-align: top;\n",
       "    }\n",
       "\n",
       "    .dataframe thead th {\n",
       "        text-align: right;\n",
       "    }\n",
       "</style>\n",
       "<table border=\"1\" class=\"dataframe\">\n",
       "  <thead>\n",
       "    <tr style=\"text-align: right;\">\n",
       "      <th></th>\n",
       "      <th>nome_feature</th>\n",
       "      <th>coeficiente</th>\n",
       "      <th>p_valor</th>\n",
       "    </tr>\n",
       "  </thead>\n",
       "  <tbody>\n",
       "    <tr>\n",
       "      <th>0</th>\n",
       "      <td>intercept</td>\n",
       "      <td>7.922448e-02</td>\n",
       "      <td>NaN</td>\n",
       "    </tr>\n",
       "    <tr>\n",
       "      <th>1</th>\n",
       "      <td>term</td>\n",
       "      <td>5.572222e-04</td>\n",
       "      <td>0.000</td>\n",
       "    </tr>\n",
       "    <tr>\n",
       "      <th>2</th>\n",
       "      <td>int_rate</td>\n",
       "      <td>-9.513980e-05</td>\n",
       "      <td>0.665</td>\n",
       "    </tr>\n",
       "    <tr>\n",
       "      <th>3</th>\n",
       "      <td>annual_inc</td>\n",
       "      <td>-8.330514e-09</td>\n",
       "      <td>0.176</td>\n",
       "    </tr>\n",
       "    <tr>\n",
       "      <th>4</th>\n",
       "      <td>dti</td>\n",
       "      <td>3.005757e-04</td>\n",
       "      <td>0.000</td>\n",
       "    </tr>\n",
       "    <tr>\n",
       "      <th>5</th>\n",
       "      <td>inq_last_6mths</td>\n",
       "      <td>-1.525047e-03</td>\n",
       "      <td>0.000</td>\n",
       "    </tr>\n",
       "    <tr>\n",
       "      <th>6</th>\n",
       "      <td>revol_util</td>\n",
       "      <td>-1.047867e-04</td>\n",
       "      <td>0.000</td>\n",
       "    </tr>\n",
       "    <tr>\n",
       "      <th>7</th>\n",
       "      <td>tot_cur_bal</td>\n",
       "      <td>2.442837e-08</td>\n",
       "      <td>0.000</td>\n",
       "    </tr>\n",
       "    <tr>\n",
       "      <th>8</th>\n",
       "      <td>mths_since_rcnt_il</td>\n",
       "      <td>8.467217e-05</td>\n",
       "      <td>0.000</td>\n",
       "    </tr>\n",
       "    <tr>\n",
       "      <th>9</th>\n",
       "      <td>total_bal_il</td>\n",
       "      <td>2.255243e-08</td>\n",
       "      <td>0.105</td>\n",
       "    </tr>\n",
       "    <tr>\n",
       "      <th>10</th>\n",
       "      <td>max_bal_bc</td>\n",
       "      <td>1.234862e-06</td>\n",
       "      <td>0.000</td>\n",
       "    </tr>\n",
       "    <tr>\n",
       "      <th>11</th>\n",
       "      <td>total_rev_hi_lim</td>\n",
       "      <td>1.375068e-08</td>\n",
       "      <td>0.444</td>\n",
       "    </tr>\n",
       "    <tr>\n",
       "      <th>12</th>\n",
       "      <td>purpose:car</td>\n",
       "      <td>-1.369058e-03</td>\n",
       "      <td>0.785</td>\n",
       "    </tr>\n",
       "    <tr>\n",
       "      <th>13</th>\n",
       "      <td>purpose:credit_card</td>\n",
       "      <td>-1.313443e-03</td>\n",
       "      <td>0.259</td>\n",
       "    </tr>\n",
       "    <tr>\n",
       "      <th>14</th>\n",
       "      <td>purpose:educational</td>\n",
       "      <td>-3.907087e-02</td>\n",
       "      <td>0.138</td>\n",
       "    </tr>\n",
       "    <tr>\n",
       "      <th>15</th>\n",
       "      <td>purpose:home_improvement</td>\n",
       "      <td>-3.211361e-03</td>\n",
       "      <td>0.088</td>\n",
       "    </tr>\n",
       "    <tr>\n",
       "      <th>16</th>\n",
       "      <td>purpose:house</td>\n",
       "      <td>4.231548e-03</td>\n",
       "      <td>0.419</td>\n",
       "    </tr>\n",
       "    <tr>\n",
       "      <th>17</th>\n",
       "      <td>purpose:major_purchase</td>\n",
       "      <td>-5.768960e-03</td>\n",
       "      <td>0.057</td>\n",
       "    </tr>\n",
       "    <tr>\n",
       "      <th>18</th>\n",
       "      <td>purpose:medical</td>\n",
       "      <td>4.608080e-03</td>\n",
       "      <td>0.249</td>\n",
       "    </tr>\n",
       "    <tr>\n",
       "      <th>19</th>\n",
       "      <td>purpose:moving</td>\n",
       "      <td>-4.475957e-04</td>\n",
       "      <td>0.926</td>\n",
       "    </tr>\n",
       "    <tr>\n",
       "      <th>20</th>\n",
       "      <td>purpose:other</td>\n",
       "      <td>-3.885051e-04</td>\n",
       "      <td>0.829</td>\n",
       "    </tr>\n",
       "    <tr>\n",
       "      <th>21</th>\n",
       "      <td>purpose:renewable_energy</td>\n",
       "      <td>1.282663e-02</td>\n",
       "      <td>0.432</td>\n",
       "    </tr>\n",
       "    <tr>\n",
       "      <th>22</th>\n",
       "      <td>purpose:small_business</td>\n",
       "      <td>-1.587815e-02</td>\n",
       "      <td>0.000</td>\n",
       "    </tr>\n",
       "    <tr>\n",
       "      <th>23</th>\n",
       "      <td>purpose:vacation</td>\n",
       "      <td>3.724244e-03</td>\n",
       "      <td>0.478</td>\n",
       "    </tr>\n",
       "    <tr>\n",
       "      <th>24</th>\n",
       "      <td>purpose:wedding</td>\n",
       "      <td>-4.700991e-02</td>\n",
       "      <td>0.001</td>\n",
       "    </tr>\n",
       "    <tr>\n",
       "      <th>25</th>\n",
       "      <td>home_ownership:ANY</td>\n",
       "      <td>3.438490e-03</td>\n",
       "      <td>0.861</td>\n",
       "    </tr>\n",
       "    <tr>\n",
       "      <th>26</th>\n",
       "      <td>home_ownership:MORTGAGE</td>\n",
       "      <td>2.743666e-03</td>\n",
       "      <td>0.011</td>\n",
       "    </tr>\n",
       "    <tr>\n",
       "      <th>27</th>\n",
       "      <td>home_ownership:NONE</td>\n",
       "      <td>4.148260e-02</td>\n",
       "      <td>0.684</td>\n",
       "    </tr>\n",
       "    <tr>\n",
       "      <th>28</th>\n",
       "      <td>home_ownership:OTHER</td>\n",
       "      <td>-2.270289e-02</td>\n",
       "      <td>0.504</td>\n",
       "    </tr>\n",
       "    <tr>\n",
       "      <th>29</th>\n",
       "      <td>home_ownership:OWN</td>\n",
       "      <td>2.702803e-03</td>\n",
       "      <td>0.063</td>\n",
       "    </tr>\n",
       "    <tr>\n",
       "      <th>30</th>\n",
       "      <td>verification_status:Not Verified</td>\n",
       "      <td>-4.518354e-05</td>\n",
       "      <td>0.968</td>\n",
       "    </tr>\n",
       "    <tr>\n",
       "      <th>31</th>\n",
       "      <td>verification_status:Verified</td>\n",
       "      <td>-1.017401e-03</td>\n",
       "      <td>0.310</td>\n",
       "    </tr>\n",
       "    <tr>\n",
       "      <th>32</th>\n",
       "      <td>initial_list_status:w</td>\n",
       "      <td>4.453599e-03</td>\n",
       "      <td>0.000</td>\n",
       "    </tr>\n",
       "    <tr>\n",
       "      <th>33</th>\n",
       "      <td>grade:B</td>\n",
       "      <td>-6.210905e-03</td>\n",
       "      <td>0.007</td>\n",
       "    </tr>\n",
       "    <tr>\n",
       "      <th>34</th>\n",
       "      <td>grade:C</td>\n",
       "      <td>-2.803018e-03</td>\n",
       "      <td>0.310</td>\n",
       "    </tr>\n",
       "    <tr>\n",
       "      <th>35</th>\n",
       "      <td>grade:D</td>\n",
       "      <td>5.253334e-03</td>\n",
       "      <td>0.133</td>\n",
       "    </tr>\n",
       "    <tr>\n",
       "      <th>36</th>\n",
       "      <td>grade:E</td>\n",
       "      <td>1.343216e-02</td>\n",
       "      <td>0.002</td>\n",
       "    </tr>\n",
       "    <tr>\n",
       "      <th>37</th>\n",
       "      <td>grade:F</td>\n",
       "      <td>1.739619e-02</td>\n",
       "      <td>0.001</td>\n",
       "    </tr>\n",
       "    <tr>\n",
       "      <th>38</th>\n",
       "      <td>grade:G</td>\n",
       "      <td>3.026192e-02</td>\n",
       "      <td>0.000</td>\n",
       "    </tr>\n",
       "  </tbody>\n",
       "</table>\n",
       "</div>"
      ],
      "text/plain": [
       "                        nome_feature   coeficiente  p_valor\n",
       "0                          intercept  7.922448e-02      NaN\n",
       "1                               term  5.572222e-04    0.000\n",
       "2                           int_rate -9.513980e-05    0.665\n",
       "3                         annual_inc -8.330514e-09    0.176\n",
       "4                                dti  3.005757e-04    0.000\n",
       "5                     inq_last_6mths -1.525047e-03    0.000\n",
       "6                         revol_util -1.047867e-04    0.000\n",
       "7                        tot_cur_bal  2.442837e-08    0.000\n",
       "8                 mths_since_rcnt_il  8.467217e-05    0.000\n",
       "9                       total_bal_il  2.255243e-08    0.105\n",
       "10                        max_bal_bc  1.234862e-06    0.000\n",
       "11                  total_rev_hi_lim  1.375068e-08    0.444\n",
       "12                       purpose:car -1.369058e-03    0.785\n",
       "13               purpose:credit_card -1.313443e-03    0.259\n",
       "14               purpose:educational -3.907087e-02    0.138\n",
       "15          purpose:home_improvement -3.211361e-03    0.088\n",
       "16                     purpose:house  4.231548e-03    0.419\n",
       "17            purpose:major_purchase -5.768960e-03    0.057\n",
       "18                   purpose:medical  4.608080e-03    0.249\n",
       "19                    purpose:moving -4.475957e-04    0.926\n",
       "20                     purpose:other -3.885051e-04    0.829\n",
       "21          purpose:renewable_energy  1.282663e-02    0.432\n",
       "22            purpose:small_business -1.587815e-02    0.000\n",
       "23                  purpose:vacation  3.724244e-03    0.478\n",
       "24                   purpose:wedding -4.700991e-02    0.001\n",
       "25                home_ownership:ANY  3.438490e-03    0.861\n",
       "26           home_ownership:MORTGAGE  2.743666e-03    0.011\n",
       "27               home_ownership:NONE  4.148260e-02    0.684\n",
       "28              home_ownership:OTHER -2.270289e-02    0.504\n",
       "29                home_ownership:OWN  2.702803e-03    0.063\n",
       "30  verification_status:Not Verified -4.518354e-05    0.968\n",
       "31      verification_status:Verified -1.017401e-03    0.310\n",
       "32             initial_list_status:w  4.453599e-03    0.000\n",
       "33                           grade:B -6.210905e-03    0.007\n",
       "34                           grade:C -2.803018e-03    0.310\n",
       "35                           grade:D  5.253334e-03    0.133\n",
       "36                           grade:E  1.343216e-02    0.002\n",
       "37                           grade:F  1.739619e-02    0.001\n",
       "38                           grade:G  3.026192e-02    0.000"
      ]
     },
     "execution_count": 35,
     "metadata": {},
     "output_type": "execute_result"
    }
   ],
   "source": [
    "tabela_sumario = pd.DataFrame(columns = ['nome_feature'], data = nomes_features)\n",
    "tabela_sumario['coeficiente'] = np.transpose(reglgd2.coef_)\n",
    "tabela_sumario.index = tabela_sumario.index + 1\n",
    "tabela_sumario.loc[0] = ['intercept', reglgd2.intercept_]\n",
    "tabela_sumario = tabela_sumario.sort_index()\n",
    "\n",
    "p_values = reglgd2.p\n",
    "p_values = np.append(np.nan,np.array(p_values))\n",
    "tabela_sumario['p_valor'] = p_values.round(3)\n",
    "tabela_sumario"
   ]
  },
  {
   "cell_type": "markdown",
   "id": "0e4029c5",
   "metadata": {},
   "source": [
    "#### Avaliação da regressão linear"
   ]
  },
  {
   "cell_type": "code",
   "execution_count": 37,
   "id": "286eaaed",
   "metadata": {},
   "outputs": [],
   "source": [
    "y_pred_test2 = reglgd2.predict(X_test2)"
   ]
  },
  {
   "cell_type": "code",
   "execution_count": 38,
   "id": "faeee3d3",
   "metadata": {},
   "outputs": [
    {
     "data": {
      "text/html": [
       "<div>\n",
       "<style scoped>\n",
       "    .dataframe tbody tr th:only-of-type {\n",
       "        vertical-align: middle;\n",
       "    }\n",
       "\n",
       "    .dataframe tbody tr th {\n",
       "        vertical-align: top;\n",
       "    }\n",
       "\n",
       "    .dataframe thead th {\n",
       "        text-align: right;\n",
       "    }\n",
       "</style>\n",
       "<table border=\"1\" class=\"dataframe\">\n",
       "  <thead>\n",
       "    <tr style=\"text-align: right;\">\n",
       "      <th></th>\n",
       "      <th>taxa_recuperacao</th>\n",
       "      <th>0</th>\n",
       "    </tr>\n",
       "  </thead>\n",
       "  <tbody>\n",
       "    <tr>\n",
       "      <th>taxa_recuperacao</th>\n",
       "      <td>1.000000</td>\n",
       "      <td>0.148884</td>\n",
       "    </tr>\n",
       "    <tr>\n",
       "      <th>0</th>\n",
       "      <td>0.148884</td>\n",
       "      <td>1.000000</td>\n",
       "    </tr>\n",
       "  </tbody>\n",
       "</table>\n",
       "</div>"
      ],
      "text/plain": [
       "                  taxa_recuperacao         0\n",
       "taxa_recuperacao          1.000000  0.148884\n",
       "0                         0.148884  1.000000"
      ]
     },
     "execution_count": 38,
     "metadata": {},
     "output_type": "execute_result"
    }
   ],
   "source": [
    "# baixa correlação, mas satisfatórica para um modelo LGD\n",
    "# caso a correlação fosse muito alta, o modelo teria que ser refeito\n",
    "y_test_temp2 = y_test2\n",
    "y_test_temp2 = y_test_temp2.reset_index(drop = True)\n",
    "pd.concat([pd.DataFrame(y_test_temp2), pd.DataFrame(y_pred_test2)], axis = 1).corr()"
   ]
  },
  {
   "cell_type": "code",
   "execution_count": 39,
   "id": "f5aac3c0",
   "metadata": {},
   "outputs": [
    {
     "data": {
      "image/png": "[encoded data removed]",
      "text/plain": [
       "<Figure size 432x288 with 1 Axes>"
      ]
     },
     "metadata": {
      "needs_background": "light"
     },
     "output_type": "display_data"
    }
   ],
   "source": [
    "# distribuição concentrada perto de zero, condizendo com os dados\n",
    "# então o modelo é aceitável metodologicamente\n",
    "sns.distplot(y_test2 - y_pred_test2);"
   ]
  },
  {
   "cell_type": "markdown",
   "id": "2637feb0",
   "metadata": {},
   "source": [
    "O valor RMSE foi encontrado para ser 0.10. Isso significa que o desvio padrão para nossa previsão é 0.10. "
   ]
  },
  {
   "cell_type": "code",
   "execution_count": 40,
   "id": "be6d5d22",
   "metadata": {},
   "outputs": [
    {
     "name": "stdout",
     "output_type": "stream",
     "text": [
      "RMSE value : 0.10\n"
     ]
    }
   ],
   "source": [
    "# RMSE(Root Mean Square Error)\n",
    "\n",
    "from sklearn.metrics import mean_squared_error\n",
    "mse = mean_squared_error(y_test2, y_pred_test2)\n",
    "rmse = np.sqrt(mse)\n",
    "print(\"RMSE value : {:.2f}\".format(rmse))"
   ]
  },
  {
   "cell_type": "code",
   "execution_count": 41,
   "id": "7ea1cc3d",
   "metadata": {},
   "outputs": [
    {
     "name": "stdout",
     "output_type": "stream",
     "text": [
      "Score de treino: 0.0238\n",
      "Score de teste: 0.0218\n"
     ]
    }
   ],
   "source": [
    "# verificando over ou underfiting\n",
    "print('Score de treino: {:.4f}'.format(reglgd2.score(X_train2, y_train2)))\n",
    "print('Score de teste: {:.4f}'.format(reglgd2.score(X_test2, y_test2)))"
   ]
  },
  {
   "cell_type": "markdown",
   "id": "451a2884",
   "metadata": {},
   "source": [
    "#### Salvando o modelo"
   ]
  },
  {
   "cell_type": "code",
   "execution_count": 42,
   "id": "95a940bc",
   "metadata": {},
   "outputs": [],
   "source": [
    "import pickle\n",
    "pickle.dump(reglgd2, open('modelos/modelo_lgd_v2.sav', 'wb'))"
   ]
  },
  {
   "cell_type": "markdown",
   "id": "12e9d090",
   "metadata": {},
   "source": [
    "### Combinando os modelos\n",
    "\n",
    "Na regressão logística o valor da taxa de recuperação foi classificado em 1 ou 0, e nos casos em que era 1, seu valor foi predito pela regressão linear. "
   ]
  },
  {
   "cell_type": "code",
   "execution_count": 43,
   "id": "e811a383",
   "metadata": {},
   "outputs": [],
   "source": [
    "y_pred_test_comb = reglgd2.predict(X_test1)"
   ]
  },
  {
   "cell_type": "code",
   "execution_count": 44,
   "id": "401f9dcf",
   "metadata": {},
   "outputs": [
    {
     "data": {
      "text/plain": [
       "array([0.11420379, 0.10081259, 0.10644427, ..., 0.12739744, 0.12322937,\n",
       "       0.10879644])"
      ]
     },
     "execution_count": 44,
     "metadata": {},
     "output_type": "execute_result"
    }
   ],
   "source": [
    "y_pred_test_comb"
   ]
  },
  {
   "cell_type": "markdown",
   "id": "5bf0b25b",
   "metadata": {},
   "source": [
    "Combinando as estimações dos modelos multiplicando os valores preditos. "
   ]
  },
  {
   "cell_type": "code",
   "execution_count": 45,
   "id": "58dc659c",
   "metadata": {},
   "outputs": [],
   "source": [
    "y_hat_test_lgd = df_pred_probs_atual.y_pred_test1 * y_pred_test_comb"
   ]
  },
  {
   "cell_type": "markdown",
   "id": "a45b102c",
   "metadata": {},
   "source": [
    "Valores máximos e mínimos dentro dos valores que deveriam ser preditos, 1 e 0."
   ]
  },
  {
   "cell_type": "code",
   "execution_count": 46,
   "id": "675cfce6",
   "metadata": {},
   "outputs": [
    {
     "data": {
      "text/html": [
       "<div>\n",
       "<style scoped>\n",
       "    .dataframe tbody tr th:only-of-type {\n",
       "        vertical-align: middle;\n",
       "    }\n",
       "\n",
       "    .dataframe tbody tr th {\n",
       "        vertical-align: top;\n",
       "    }\n",
       "\n",
       "    .dataframe thead th {\n",
       "        text-align: right;\n",
       "    }\n",
       "</style>\n",
       "<table border=\"1\" class=\"dataframe\">\n",
       "  <thead>\n",
       "    <tr style=\"text-align: right;\">\n",
       "      <th></th>\n",
       "      <th>y_pred_test1</th>\n",
       "    </tr>\n",
       "  </thead>\n",
       "  <tbody>\n",
       "    <tr>\n",
       "      <th>count</th>\n",
       "      <td>478983.000000</td>\n",
       "    </tr>\n",
       "    <tr>\n",
       "      <th>mean</th>\n",
       "      <td>0.064622</td>\n",
       "    </tr>\n",
       "    <tr>\n",
       "      <th>std</th>\n",
       "      <td>0.054218</td>\n",
       "    </tr>\n",
       "    <tr>\n",
       "      <th>min</th>\n",
       "      <td>0.000000</td>\n",
       "    </tr>\n",
       "    <tr>\n",
       "      <th>25%</th>\n",
       "      <td>0.000000</td>\n",
       "    </tr>\n",
       "    <tr>\n",
       "      <th>50%</th>\n",
       "      <td>0.097538</td>\n",
       "    </tr>\n",
       "    <tr>\n",
       "      <th>75%</th>\n",
       "      <td>0.109740</td>\n",
       "    </tr>\n",
       "    <tr>\n",
       "      <th>max</th>\n",
       "      <td>0.430175</td>\n",
       "    </tr>\n",
       "  </tbody>\n",
       "</table>\n",
       "</div>"
      ],
      "text/plain": [
       "        y_pred_test1\n",
       "count  478983.000000\n",
       "mean        0.064622\n",
       "std         0.054218\n",
       "min         0.000000\n",
       "25%         0.000000\n",
       "50%         0.097538\n",
       "75%         0.109740\n",
       "max         0.430175"
      ]
     },
     "execution_count": 46,
     "metadata": {},
     "output_type": "execute_result"
    }
   ],
   "source": [
    "pd.DataFrame(y_hat_test_lgd).describe()"
   ]
  },
  {
   "cell_type": "markdown",
   "id": "0a503597",
   "metadata": {},
   "source": [
    "---"
   ]
  }
 ],
 "metadata": {
  "hide_input": false,
  "kernelspec": {
   "display_name": "Python 3 (ipykernel)",
   "language": "python",
   "name": "python3"
  },
  "language_info": {
   "codemirror_mode": {
    "name": "ipython",
    "version": 3
   },
   "file_extension": ".py",
   "mimetype": "text/x-python",
   "name": "python",
   "nbconvert_exporter": "python",
   "pygments_lexer": "ipython3",
   "version": "3.9.7"
  }
 },
 "nbformat": 4,
 "nbformat_minor": 5
}
