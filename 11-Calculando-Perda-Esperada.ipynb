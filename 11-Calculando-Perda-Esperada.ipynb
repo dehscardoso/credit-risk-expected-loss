{
 "cells": [
  {
   "cell_type": "markdown",
   "metadata": {},
   "source": [
    "<img src = \"https://thumbs2.imgbox.com/32/93/xRH3CBEG_t.png\" width=\"250\">"
   ]
  },
  {
   "cell_type": "markdown",
   "metadata": {},
   "source": [
    "# Cálculo da Perda Esperada\n",
    "---\n"
   ]
  },
  {
   "cell_type": "code",
   "execution_count": 5,
   "metadata": {},
   "outputs": [],
   "source": [
    "import numpy as np\n",
    "import pandas as pd\n",
    "import seaborn as sns\n",
    "import matplotlib.pyplot as plt\n",
    "\n",
    "from imblearn.over_sampling import SMOTE\n",
    "from sklearn.model_selection import train_test_split\n",
    "\n",
    "from sklearn import linear_model\n",
    "from sklearn.metrics import mean_squared_error, r2_score\n",
    "from sklearn.metrics import roc_curve, roc_auc_score\n",
    "\n",
    "from funcoes.funcoes import *\n",
    "\n",
    "import joblib\n",
    "\n",
    "import warnings\n",
    "warnings.filterwarnings(\"ignore\")"
   ]
  },
  {
   "cell_type": "code",
   "execution_count": 12,
   "metadata": {},
   "outputs": [],
   "source": [
    "LC_defaults = pd.read_csv('dados/dados_WoE_VI_LGD_EAD_regressao.csv')"
   ]
  },
  {
   "cell_type": "code",
   "execution_count": 13,
   "metadata": {},
   "outputs": [],
   "source": [
    "modelo_lgd1 = joblib.load('modelos/modelo_lgd_v1.sav')\n",
    "modelo_lgd2 = joblib.load('modelos/modelo_lgd_v2.sav')\n",
    "modelo_ead  = joblib.load('modelos/modelo_ead_v1.sav')\n",
    "modelo_pd   = joblib.load('modelos/modelo_pd_v1.sav')"
   ]
  },
  {
   "cell_type": "code",
   "execution_count": 14,
   "metadata": {},
   "outputs": [
    {
     "data": {
      "text/html": [
       "<div>\n",
       "<style scoped>\n",
       "    .dataframe tbody tr th:only-of-type {\n",
       "        vertical-align: middle;\n",
       "    }\n",
       "\n",
       "    .dataframe tbody tr th {\n",
       "        vertical-align: top;\n",
       "    }\n",
       "\n",
       "    .dataframe thead th {\n",
       "        text-align: right;\n",
       "    }\n",
       "</style>\n",
       "<table border=\"1\" class=\"dataframe\">\n",
       "  <thead>\n",
       "    <tr style=\"text-align: right;\">\n",
       "      <th></th>\n",
       "      <th>funded_amnt</th>\n",
       "      <th>term</th>\n",
       "      <th>int_rate</th>\n",
       "      <th>annual_inc</th>\n",
       "      <th>dti</th>\n",
       "      <th>inq_last_6mths</th>\n",
       "      <th>revol_util</th>\n",
       "      <th>tot_cur_bal</th>\n",
       "      <th>mths_since_rcnt_il</th>\n",
       "      <th>total_bal_il</th>\n",
       "      <th>...</th>\n",
       "      <th>initial_list_status:w</th>\n",
       "      <th>grade:B</th>\n",
       "      <th>grade:C</th>\n",
       "      <th>grade:D</th>\n",
       "      <th>grade:E</th>\n",
       "      <th>grade:F</th>\n",
       "      <th>grade:G</th>\n",
       "      <th>taxa_recuperacao</th>\n",
       "      <th>taxa_recuperacao_0_1</th>\n",
       "      <th>fator_conversao_credito</th>\n",
       "    </tr>\n",
       "  </thead>\n",
       "  <tbody>\n",
       "    <tr>\n",
       "      <th>0</th>\n",
       "      <td>9000</td>\n",
       "      <td>36</td>\n",
       "      <td>5.32</td>\n",
       "      <td>58000.0</td>\n",
       "      <td>10.39</td>\n",
       "      <td>0</td>\n",
       "      <td>4.2</td>\n",
       "      <td>7063</td>\n",
       "      <td>26</td>\n",
       "      <td>1982</td>\n",
       "      <td>...</td>\n",
       "      <td>1</td>\n",
       "      <td>0</td>\n",
       "      <td>0</td>\n",
       "      <td>0</td>\n",
       "      <td>0</td>\n",
       "      <td>0</td>\n",
       "      <td>0</td>\n",
       "      <td>0.0</td>\n",
       "      <td>0</td>\n",
       "      <td>0.0</td>\n",
       "    </tr>\n",
       "    <tr>\n",
       "      <th>1</th>\n",
       "      <td>8300</td>\n",
       "      <td>36</td>\n",
       "      <td>9.44</td>\n",
       "      <td>54000.0</td>\n",
       "      <td>16.91</td>\n",
       "      <td>0</td>\n",
       "      <td>30.7</td>\n",
       "      <td>26958</td>\n",
       "      <td>4</td>\n",
       "      <td>21058</td>\n",
       "      <td>...</td>\n",
       "      <td>1</td>\n",
       "      <td>1</td>\n",
       "      <td>0</td>\n",
       "      <td>0</td>\n",
       "      <td>0</td>\n",
       "      <td>0</td>\n",
       "      <td>0</td>\n",
       "      <td>0.0</td>\n",
       "      <td>0</td>\n",
       "      <td>0.0</td>\n",
       "    </tr>\n",
       "    <tr>\n",
       "      <th>2</th>\n",
       "      <td>4225</td>\n",
       "      <td>36</td>\n",
       "      <td>17.57</td>\n",
       "      <td>35000.0</td>\n",
       "      <td>29.25</td>\n",
       "      <td>2</td>\n",
       "      <td>82.0</td>\n",
       "      <td>35796</td>\n",
       "      <td>0</td>\n",
       "      <td>0</td>\n",
       "      <td>...</td>\n",
       "      <td>0</td>\n",
       "      <td>0</td>\n",
       "      <td>0</td>\n",
       "      <td>1</td>\n",
       "      <td>0</td>\n",
       "      <td>0</td>\n",
       "      <td>0</td>\n",
       "      <td>0.0</td>\n",
       "      <td>0</td>\n",
       "      <td>0.0</td>\n",
       "    </tr>\n",
       "    <tr>\n",
       "      <th>3</th>\n",
       "      <td>28000</td>\n",
       "      <td>36</td>\n",
       "      <td>7.49</td>\n",
       "      <td>425000.0</td>\n",
       "      <td>8.97</td>\n",
       "      <td>0</td>\n",
       "      <td>28.0</td>\n",
       "      <td>503070</td>\n",
       "      <td>0</td>\n",
       "      <td>0</td>\n",
       "      <td>...</td>\n",
       "      <td>0</td>\n",
       "      <td>0</td>\n",
       "      <td>0</td>\n",
       "      <td>0</td>\n",
       "      <td>0</td>\n",
       "      <td>0</td>\n",
       "      <td>0</td>\n",
       "      <td>0.0</td>\n",
       "      <td>0</td>\n",
       "      <td>0.0</td>\n",
       "    </tr>\n",
       "    <tr>\n",
       "      <th>4</th>\n",
       "      <td>3000</td>\n",
       "      <td>36</td>\n",
       "      <td>5.31</td>\n",
       "      <td>72000.0</td>\n",
       "      <td>14.60</td>\n",
       "      <td>0</td>\n",
       "      <td>3.0</td>\n",
       "      <td>305664</td>\n",
       "      <td>3</td>\n",
       "      <td>28880</td>\n",
       "      <td>...</td>\n",
       "      <td>1</td>\n",
       "      <td>0</td>\n",
       "      <td>0</td>\n",
       "      <td>0</td>\n",
       "      <td>0</td>\n",
       "      <td>0</td>\n",
       "      <td>0</td>\n",
       "      <td>0.0</td>\n",
       "      <td>0</td>\n",
       "      <td>0.0</td>\n",
       "    </tr>\n",
       "  </tbody>\n",
       "</table>\n",
       "<p>5 rows × 45 columns</p>\n",
       "</div>"
      ],
      "text/plain": [
       "   funded_amnt  term  int_rate  annual_inc    dti  inq_last_6mths  revol_util  \\\n",
       "0         9000    36      5.32     58000.0  10.39               0         4.2   \n",
       "1         8300    36      9.44     54000.0  16.91               0        30.7   \n",
       "2         4225    36     17.57     35000.0  29.25               2        82.0   \n",
       "3        28000    36      7.49    425000.0   8.97               0        28.0   \n",
       "4         3000    36      5.31     72000.0  14.60               0         3.0   \n",
       "\n",
       "   tot_cur_bal  mths_since_rcnt_il  total_bal_il  ...  initial_list_status:w  \\\n",
       "0         7063                  26          1982  ...                      1   \n",
       "1        26958                   4         21058  ...                      1   \n",
       "2        35796                   0             0  ...                      0   \n",
       "3       503070                   0             0  ...                      0   \n",
       "4       305664                   3         28880  ...                      1   \n",
       "\n",
       "   grade:B  grade:C  grade:D  grade:E  grade:F  grade:G  taxa_recuperacao  \\\n",
       "0        0        0        0        0        0        0               0.0   \n",
       "1        1        0        0        0        0        0               0.0   \n",
       "2        0        0        1        0        0        0               0.0   \n",
       "3        0        0        0        0        0        0               0.0   \n",
       "4        0        0        0        0        0        0               0.0   \n",
       "\n",
       "   taxa_recuperacao_0_1  fator_conversao_credito  \n",
       "0                     0                      0.0  \n",
       "1                     0                      0.0  \n",
       "2                     0                      0.0  \n",
       "3                     0                      0.0  \n",
       "4                     0                      0.0  \n",
       "\n",
       "[5 rows x 45 columns]"
      ]
     },
     "execution_count": 14,
     "metadata": {},
     "output_type": "execute_result"
    }
   ],
   "source": [
    "LC_defaults.head()"
   ]
  },
  {
   "cell_type": "markdown",
   "metadata": {},
   "source": [
    "#### LGD"
   ]
  },
  {
   "cell_type": "code",
   "execution_count": 17,
   "metadata": {},
   "outputs": [],
   "source": [
    "# separando dados\n",
    "X = LC_defaults.drop(['target', 'taxa_recuperacao', 'taxa_recuperacao_0_1', 'fator_conversao_credito', 'funded_amnt', 'total_rec_prncp', 'recoveries'], axis = 1)"
   ]
  },
  {
   "cell_type": "code",
   "execution_count": 18,
   "metadata": {},
   "outputs": [],
   "source": [
    "# Combinando os valores previstos do modelo parte 1 (regressão logística) e do modelo parte 2 (regressão linear)\n",
    "# para calcular a taxa de recuperação final estimada\n",
    "LC_defaults['taxa_recuperacao_1'] = modelo_lgd1.model.predict(X)\n",
    "LC_defaults['taxa_recuperacao_2'] = modelo_lgd2.predict(X)\n",
    "\n",
    "LC_defaults['taxa_recuperacao_final'] = LC_defaults['taxa_recuperacao_1'] * LC_defaults['taxa_recuperacao_2']"
   ]
  },
  {
   "cell_type": "code",
   "execution_count": 19,
   "metadata": {},
   "outputs": [],
   "source": [
    "LC_defaults['taxa_recuperacao_final'] = np.where(LC_defaults['taxa_recuperacao_final'] < 0, 0, LC_defaults['taxa_recuperacao_final'])\n",
    "LC_defaults['taxa_recuperacao_final'] = np.where(LC_defaults['taxa_recuperacao_final'] > 1, 1, LC_defaults['taxa_recuperacao_final'])"
   ]
  },
  {
   "cell_type": "code",
   "execution_count": 20,
   "metadata": {},
   "outputs": [
    {
     "data": {
      "text/plain": [
       "count    877648.000000\n",
       "mean          0.946048\n",
       "std           0.055340\n",
       "min           0.546411\n",
       "25%           0.893635\n",
       "50%           1.000000\n",
       "75%           1.000000\n",
       "max           1.000000\n",
       "Name: LGD, dtype: float64"
      ]
     },
     "execution_count": 20,
     "metadata": {},
     "output_type": "execute_result"
    }
   ],
   "source": [
    "# Calcula-se a LGD estimada. A LGD estimada é igual a 1 - taxa de recuperação estimada\n",
    "LC_defaults['LGD'] = 1 - LC_defaults['taxa_recuperacao_final']\n",
    "\n",
    "LC_defaults['LGD'].describe()"
   ]
  },
  {
   "cell_type": "markdown",
   "metadata": {},
   "source": [
    "#### EAD"
   ]
  },
  {
   "cell_type": "code",
   "execution_count": 32,
   "metadata": {},
   "outputs": [],
   "source": [
    "X2 = LC_defaults.drop(['target', 'taxa_recuperacao','taxa_recuperacao_0_1','fator_conversao_credito', 'LGD', 'taxa_recuperacao_final', 'taxa_recuperacao_1', 'taxa_recuperacao_2'], axis = 1)"
   ]
  },
  {
   "cell_type": "code",
   "execution_count": 34,
   "metadata": {},
   "outputs": [],
   "source": [
    "# Aplica-se o modelo EAD para calcular o fator de conversão de crédito estimado\n",
    "LC_defaults['CCF'] = modelo_ead.predict(X2)\n",
    "\n",
    "LC_defaults['CCF'] = np.where(LC_defaults['CCF'] < 0, 0, LC_defaults['CCF'])\n",
    "LC_defaults['CCF'] = np.where(LC_defaults['CCF'] > 1, 1, LC_defaults['CCF'])"
   ]
  },
  {
   "cell_type": "code",
   "execution_count": 36,
   "metadata": {},
   "outputs": [
    {
     "data": {
      "text/plain": [
       "count    877648.000000\n",
       "mean       1581.203176\n",
       "std        3400.674334\n",
       "min           0.000000\n",
       "25%         111.482578\n",
       "50%         517.068132\n",
       "75%        1484.368546\n",
       "max       40000.000000\n",
       "Name: EAD, dtype: float64"
      ]
     },
     "execution_count": 36,
     "metadata": {},
     "output_type": "execute_result"
    }
   ],
   "source": [
    "# Calcula-se o EAD estimado. O EAD estimado é igual ao CCF estimado multiplicado pelo valor financiado\n",
    "LC_defaults['EAD'] = LC_defaults['CCF'] * LC_defaults['funded_amnt']\n",
    "\n",
    "LC_defaults['EAD'].describe()"
   ]
  },
  {
   "cell_type": "markdown",
   "metadata": {},
   "source": [
    "#### PD"
   ]
  },
  {
   "cell_type": "code",
   "execution_count": 55,
   "metadata": {},
   "outputs": [],
   "source": [
    "LC_defaults_pd = pd.read_csv('dados/dados_WoE_VI_final.csv')"
   ]
  },
  {
   "cell_type": "code",
   "execution_count": 66,
   "metadata": {},
   "outputs": [
    {
     "data": {
      "text/plain": [
       "array([0.39892484, 0.10574108, 0.30274515, ..., 0.24496837, 0.59653926,\n",
       "       0.07756227])"
      ]
     },
     "execution_count": 66,
     "metadata": {},
     "output_type": "execute_result"
    }
   ],
   "source": [
    "# aplica-se o modelo PD para calcular as probabilidades de default estimadas.\n",
    "modelo_pd.predict_proba(LC_defaults_pd.drop(['loan_status', 'target', 'funded_amnt', 'total_rec_prncp','recoveries'], axis = 1))[: ][: , 0]"
   ]
  },
  {
   "cell_type": "code",
   "execution_count": 68,
   "metadata": {},
   "outputs": [],
   "source": [
    "LC_defaults_pd['PD'] = modelo_pd.predict_proba(LC_defaults_pd.drop(['loan_status', 'target', 'funded_amnt', 'total_rec_prncp','recoveries'], axis = 1))[:][: , 0]"
   ]
  },
  {
   "cell_type": "code",
   "execution_count": 70,
   "metadata": {},
   "outputs": [
    {
     "data": {
      "text/plain": [
       "0    0.398925\n",
       "1    0.105741\n",
       "2    0.302745\n",
       "3    0.042795\n",
       "4    0.107472\n",
       "Name: PD, dtype: float64"
      ]
     },
     "execution_count": 70,
     "metadata": {},
     "output_type": "execute_result"
    }
   ],
   "source": [
    "LC_defaults_pd['PD'].head()"
   ]
  },
  {
   "cell_type": "code",
   "execution_count": 71,
   "metadata": {},
   "outputs": [
    {
     "data": {
      "text/plain": [
       "count    877648.000000\n",
       "mean          0.318410\n",
       "std           0.240625\n",
       "min           0.000262\n",
       "25%           0.118434\n",
       "50%           0.255322\n",
       "75%           0.477564\n",
       "max           0.999768\n",
       "Name: PD, dtype: float64"
      ]
     },
     "execution_count": 71,
     "metadata": {},
     "output_type": "execute_result"
    }
   ],
   "source": [
    "LC_defaults_pd['PD'].describe()"
   ]
  },
  {
   "cell_type": "markdown",
   "metadata": {},
   "source": [
    "### Perda Esperada"
   ]
  },
  {
   "cell_type": "code",
   "execution_count": 72,
   "metadata": {},
   "outputs": [],
   "source": [
    "# junta-se os dataframes onde calculamos LGD e EAD e o dataframe onde calculamos PD ao longo das colunas\n",
    "LC_defaults_new = pd.concat([LC_defaults, LC_defaults_pd], axis = 1)"
   ]
  },
  {
   "cell_type": "code",
   "execution_count": 73,
   "metadata": {},
   "outputs": [
    {
     "data": {
      "text/plain": [
       "(877648, 134)"
      ]
     },
     "execution_count": 73,
     "metadata": {},
     "output_type": "execute_result"
    }
   ],
   "source": [
    "LC_defaults_new.shape"
   ]
  },
  {
   "cell_type": "code",
   "execution_count": 74,
   "metadata": {},
   "outputs": [
    {
     "data": {
      "text/html": [
       "<div>\n",
       "<style scoped>\n",
       "    .dataframe tbody tr th:only-of-type {\n",
       "        vertical-align: middle;\n",
       "    }\n",
       "\n",
       "    .dataframe tbody tr th {\n",
       "        vertical-align: top;\n",
       "    }\n",
       "\n",
       "    .dataframe thead th {\n",
       "        text-align: right;\n",
       "    }\n",
       "</style>\n",
       "<table border=\"1\" class=\"dataframe\">\n",
       "  <thead>\n",
       "    <tr style=\"text-align: right;\">\n",
       "      <th></th>\n",
       "      <th>funded_amnt</th>\n",
       "      <th>term</th>\n",
       "      <th>int_rate</th>\n",
       "      <th>annual_inc</th>\n",
       "      <th>dti</th>\n",
       "      <th>inq_last_6mths</th>\n",
       "      <th>revol_util</th>\n",
       "      <th>tot_cur_bal</th>\n",
       "      <th>mths_since_rcnt_il</th>\n",
       "      <th>total_bal_il</th>\n",
       "      <th>...</th>\n",
       "      <th>total_rev_hi_lim:20000-40000</th>\n",
       "      <th>total_rev_hi_lim:40000-60000</th>\n",
       "      <th>total_rev_hi_lim:60000-80000</th>\n",
       "      <th>total_rev_hi_lim:80000-100000</th>\n",
       "      <th>funded_amnt</th>\n",
       "      <th>total_rec_prncp</th>\n",
       "      <th>loan_status</th>\n",
       "      <th>recoveries</th>\n",
       "      <th>target</th>\n",
       "      <th>PD</th>\n",
       "    </tr>\n",
       "  </thead>\n",
       "  <tbody>\n",
       "    <tr>\n",
       "      <th>0</th>\n",
       "      <td>9000</td>\n",
       "      <td>36</td>\n",
       "      <td>5.32</td>\n",
       "      <td>58000.0</td>\n",
       "      <td>10.39</td>\n",
       "      <td>0</td>\n",
       "      <td>4.2</td>\n",
       "      <td>7063</td>\n",
       "      <td>26</td>\n",
       "      <td>1982</td>\n",
       "      <td>...</td>\n",
       "      <td>0</td>\n",
       "      <td>0</td>\n",
       "      <td>0</td>\n",
       "      <td>0</td>\n",
       "      <td>9000.0</td>\n",
       "      <td>9000.00</td>\n",
       "      <td>Fully Paid</td>\n",
       "      <td>0.0</td>\n",
       "      <td>1</td>\n",
       "      <td>0.398925</td>\n",
       "    </tr>\n",
       "    <tr>\n",
       "      <th>1</th>\n",
       "      <td>8300</td>\n",
       "      <td>36</td>\n",
       "      <td>9.44</td>\n",
       "      <td>54000.0</td>\n",
       "      <td>16.91</td>\n",
       "      <td>0</td>\n",
       "      <td>30.7</td>\n",
       "      <td>26958</td>\n",
       "      <td>4</td>\n",
       "      <td>21058</td>\n",
       "      <td>...</td>\n",
       "      <td>0</td>\n",
       "      <td>0</td>\n",
       "      <td>0</td>\n",
       "      <td>0</td>\n",
       "      <td>8300.0</td>\n",
       "      <td>8300.00</td>\n",
       "      <td>Fully Paid</td>\n",
       "      <td>0.0</td>\n",
       "      <td>1</td>\n",
       "      <td>0.105741</td>\n",
       "    </tr>\n",
       "    <tr>\n",
       "      <th>2</th>\n",
       "      <td>4225</td>\n",
       "      <td>36</td>\n",
       "      <td>17.57</td>\n",
       "      <td>35000.0</td>\n",
       "      <td>29.25</td>\n",
       "      <td>2</td>\n",
       "      <td>82.0</td>\n",
       "      <td>35796</td>\n",
       "      <td>0</td>\n",
       "      <td>0</td>\n",
       "      <td>...</td>\n",
       "      <td>0</td>\n",
       "      <td>0</td>\n",
       "      <td>0</td>\n",
       "      <td>0</td>\n",
       "      <td>4225.0</td>\n",
       "      <td>4225.00</td>\n",
       "      <td>Fully Paid</td>\n",
       "      <td>0.0</td>\n",
       "      <td>1</td>\n",
       "      <td>0.302745</td>\n",
       "    </tr>\n",
       "    <tr>\n",
       "      <th>3</th>\n",
       "      <td>28000</td>\n",
       "      <td>36</td>\n",
       "      <td>7.49</td>\n",
       "      <td>425000.0</td>\n",
       "      <td>8.97</td>\n",
       "      <td>0</td>\n",
       "      <td>28.0</td>\n",
       "      <td>503070</td>\n",
       "      <td>0</td>\n",
       "      <td>0</td>\n",
       "      <td>...</td>\n",
       "      <td>0</td>\n",
       "      <td>0</td>\n",
       "      <td>1</td>\n",
       "      <td>0</td>\n",
       "      <td>28000.0</td>\n",
       "      <td>28000.00</td>\n",
       "      <td>Fully Paid</td>\n",
       "      <td>0.0</td>\n",
       "      <td>1</td>\n",
       "      <td>0.042795</td>\n",
       "    </tr>\n",
       "    <tr>\n",
       "      <th>4</th>\n",
       "      <td>3000</td>\n",
       "      <td>36</td>\n",
       "      <td>5.31</td>\n",
       "      <td>72000.0</td>\n",
       "      <td>14.60</td>\n",
       "      <td>0</td>\n",
       "      <td>3.0</td>\n",
       "      <td>305664</td>\n",
       "      <td>3</td>\n",
       "      <td>28880</td>\n",
       "      <td>...</td>\n",
       "      <td>0</td>\n",
       "      <td>1</td>\n",
       "      <td>0</td>\n",
       "      <td>0</td>\n",
       "      <td>3000.0</td>\n",
       "      <td>1861.51</td>\n",
       "      <td>Current</td>\n",
       "      <td>0.0</td>\n",
       "      <td>1</td>\n",
       "      <td>0.107472</td>\n",
       "    </tr>\n",
       "  </tbody>\n",
       "</table>\n",
       "<p>5 rows × 134 columns</p>\n",
       "</div>"
      ],
      "text/plain": [
       "   funded_amnt  term  int_rate  annual_inc    dti  inq_last_6mths  revol_util  \\\n",
       "0         9000    36      5.32     58000.0  10.39               0         4.2   \n",
       "1         8300    36      9.44     54000.0  16.91               0        30.7   \n",
       "2         4225    36     17.57     35000.0  29.25               2        82.0   \n",
       "3        28000    36      7.49    425000.0   8.97               0        28.0   \n",
       "4         3000    36      5.31     72000.0  14.60               0         3.0   \n",
       "\n",
       "   tot_cur_bal  mths_since_rcnt_il  total_bal_il  ...  \\\n",
       "0         7063                  26          1982  ...   \n",
       "1        26958                   4         21058  ...   \n",
       "2        35796                   0             0  ...   \n",
       "3       503070                   0             0  ...   \n",
       "4       305664                   3         28880  ...   \n",
       "\n",
       "   total_rev_hi_lim:20000-40000  total_rev_hi_lim:40000-60000  \\\n",
       "0                             0                             0   \n",
       "1                             0                             0   \n",
       "2                             0                             0   \n",
       "3                             0                             0   \n",
       "4                             0                             1   \n",
       "\n",
       "   total_rev_hi_lim:60000-80000  total_rev_hi_lim:80000-100000  funded_amnt  \\\n",
       "0                             0                              0       9000.0   \n",
       "1                             0                              0       8300.0   \n",
       "2                             0                              0       4225.0   \n",
       "3                             1                              0      28000.0   \n",
       "4                             0                              0       3000.0   \n",
       "\n",
       "   total_rec_prncp  loan_status  recoveries  target        PD  \n",
       "0          9000.00   Fully Paid         0.0       1  0.398925  \n",
       "1          8300.00   Fully Paid         0.0       1  0.105741  \n",
       "2          4225.00   Fully Paid         0.0       1  0.302745  \n",
       "3         28000.00   Fully Paid         0.0       1  0.042795  \n",
       "4          1861.51      Current         0.0       1  0.107472  \n",
       "\n",
       "[5 rows x 134 columns]"
      ]
     },
     "execution_count": 74,
     "metadata": {},
     "output_type": "execute_result"
    }
   ],
   "source": [
    "LC_defaults_new.head()"
   ]
  },
  {
   "cell_type": "code",
   "execution_count": 75,
   "metadata": {},
   "outputs": [],
   "source": [
    "# # calculando a Perda Esperada. EL = PD * LGD * EAD\n",
    "LC_defaults_new['EL'] = LC_defaults_new['PD'] * LC_defaults_new['LGD'] * LC_defaults_new['EAD']"
   ]
  },
  {
   "cell_type": "code",
   "execution_count": 76,
   "metadata": {},
   "outputs": [
    {
     "data": {
      "text/plain": [
       "count    877648.000000\n",
       "mean        592.286591\n",
       "std        1639.462039\n",
       "min           0.000000\n",
       "25%           9.430153\n",
       "50%         108.249487\n",
       "75%         461.909622\n",
       "max       37975.992326\n",
       "Name: EL, dtype: float64"
      ]
     },
     "execution_count": 76,
     "metadata": {},
     "output_type": "execute_result"
    }
   ],
   "source": [
    "LC_defaults_new['EL'].describe()"
   ]
  },
  {
   "cell_type": "code",
   "execution_count": 77,
   "metadata": {},
   "outputs": [
    {
     "data": {
      "text/html": [
       "<div>\n",
       "<style scoped>\n",
       "    .dataframe tbody tr th:only-of-type {\n",
       "        vertical-align: middle;\n",
       "    }\n",
       "\n",
       "    .dataframe tbody tr th {\n",
       "        vertical-align: top;\n",
       "    }\n",
       "\n",
       "    .dataframe thead th {\n",
       "        text-align: right;\n",
       "    }\n",
       "</style>\n",
       "<table border=\"1\" class=\"dataframe\">\n",
       "  <thead>\n",
       "    <tr style=\"text-align: right;\">\n",
       "      <th></th>\n",
       "      <th>funded_amnt</th>\n",
       "      <th>funded_amnt</th>\n",
       "      <th>PD</th>\n",
       "      <th>LGD</th>\n",
       "      <th>EAD</th>\n",
       "      <th>EL</th>\n",
       "    </tr>\n",
       "  </thead>\n",
       "  <tbody>\n",
       "    <tr>\n",
       "      <th>0</th>\n",
       "      <td>9000</td>\n",
       "      <td>9000.0</td>\n",
       "      <td>0.398925</td>\n",
       "      <td>1.000000</td>\n",
       "      <td>280.664364</td>\n",
       "      <td>111.963986</td>\n",
       "    </tr>\n",
       "    <tr>\n",
       "      <th>1</th>\n",
       "      <td>8300</td>\n",
       "      <td>8300.0</td>\n",
       "      <td>0.105741</td>\n",
       "      <td>0.896422</td>\n",
       "      <td>414.463541</td>\n",
       "      <td>39.286418</td>\n",
       "    </tr>\n",
       "    <tr>\n",
       "      <th>2</th>\n",
       "      <td>4225</td>\n",
       "      <td>4225.0</td>\n",
       "      <td>0.302745</td>\n",
       "      <td>0.899318</td>\n",
       "      <td>607.859910</td>\n",
       "      <td>165.498450</td>\n",
       "    </tr>\n",
       "    <tr>\n",
       "      <th>3</th>\n",
       "      <td>28000</td>\n",
       "      <td>28000.0</td>\n",
       "      <td>0.042795</td>\n",
       "      <td>1.000000</td>\n",
       "      <td>0.000000</td>\n",
       "      <td>0.000000</td>\n",
       "    </tr>\n",
       "    <tr>\n",
       "      <th>4</th>\n",
       "      <td>3000</td>\n",
       "      <td>3000.0</td>\n",
       "      <td>0.107472</td>\n",
       "      <td>1.000000</td>\n",
       "      <td>151.103670</td>\n",
       "      <td>16.239469</td>\n",
       "    </tr>\n",
       "  </tbody>\n",
       "</table>\n",
       "</div>"
      ],
      "text/plain": [
       "   funded_amnt  funded_amnt        PD       LGD         EAD          EL\n",
       "0         9000       9000.0  0.398925  1.000000  280.664364  111.963986\n",
       "1         8300       8300.0  0.105741  0.896422  414.463541   39.286418\n",
       "2         4225       4225.0  0.302745  0.899318  607.859910  165.498450\n",
       "3        28000      28000.0  0.042795  1.000000    0.000000    0.000000\n",
       "4         3000       3000.0  0.107472  1.000000  151.103670   16.239469"
      ]
     },
     "execution_count": 77,
     "metadata": {},
     "output_type": "execute_result"
    }
   ],
   "source": [
    "LC_defaults_new[['funded_amnt', 'PD', 'LGD', 'EAD', 'EL']].head()"
   ]
  },
  {
   "cell_type": "code",
   "execution_count": 102,
   "metadata": {},
   "outputs": [
    {
     "data": {
      "text/html": [
       "<div>\n",
       "<style scoped>\n",
       "    .dataframe tbody tr th:only-of-type {\n",
       "        vertical-align: middle;\n",
       "    }\n",
       "\n",
       "    .dataframe tbody tr th {\n",
       "        vertical-align: top;\n",
       "    }\n",
       "\n",
       "    .dataframe thead th {\n",
       "        text-align: right;\n",
       "    }\n",
       "</style>\n",
       "<table border=\"1\" class=\"dataframe\">\n",
       "  <thead>\n",
       "    <tr style=\"text-align: right;\">\n",
       "      <th></th>\n",
       "      <th>funded_amnt</th>\n",
       "      <th>funded_amnt</th>\n",
       "    </tr>\n",
       "  </thead>\n",
       "  <tbody>\n",
       "    <tr>\n",
       "      <th>count</th>\n",
       "      <td>877648.000000</td>\n",
       "      <td>877648.000000</td>\n",
       "    </tr>\n",
       "    <tr>\n",
       "      <th>mean</th>\n",
       "      <td>15345.913396</td>\n",
       "      <td>15345.913396</td>\n",
       "    </tr>\n",
       "    <tr>\n",
       "      <th>std</th>\n",
       "      <td>9466.009368</td>\n",
       "      <td>9466.009368</td>\n",
       "    </tr>\n",
       "    <tr>\n",
       "      <th>min</th>\n",
       "      <td>500.000000</td>\n",
       "      <td>500.000000</td>\n",
       "    </tr>\n",
       "    <tr>\n",
       "      <th>25%</th>\n",
       "      <td>8000.000000</td>\n",
       "      <td>8000.000000</td>\n",
       "    </tr>\n",
       "    <tr>\n",
       "      <th>50%</th>\n",
       "      <td>13000.000000</td>\n",
       "      <td>13000.000000</td>\n",
       "    </tr>\n",
       "    <tr>\n",
       "      <th>75%</th>\n",
       "      <td>20000.000000</td>\n",
       "      <td>20000.000000</td>\n",
       "    </tr>\n",
       "    <tr>\n",
       "      <th>max</th>\n",
       "      <td>40000.000000</td>\n",
       "      <td>40000.000000</td>\n",
       "    </tr>\n",
       "  </tbody>\n",
       "</table>\n",
       "</div>"
      ],
      "text/plain": [
       "         funded_amnt    funded_amnt\n",
       "count  877648.000000  877648.000000\n",
       "mean    15345.913396   15345.913396\n",
       "std      9466.009368    9466.009368\n",
       "min       500.000000     500.000000\n",
       "25%      8000.000000    8000.000000\n",
       "50%     13000.000000   13000.000000\n",
       "75%     20000.000000   20000.000000\n",
       "max     40000.000000   40000.000000"
      ]
     },
     "execution_count": 102,
     "metadata": {},
     "output_type": "execute_result"
    }
   ],
   "source": [
    "LC_defaults_new['funded_amnt'].describe()"
   ]
  },
  {
   "cell_type": "code",
   "execution_count": 94,
   "metadata": {},
   "outputs": [
    {
     "data": {
      "image/png": "[encoded data removed]",
      "text/plain": [
       "<Figure size 432x288 with 1 Axes>"
      ]
     },
     "metadata": {
      "needs_background": "light"
     },
     "output_type": "display_data"
    }
   ],
   "source": [
    "plt.title('Distribuição da Valor do Empréstimo')\n",
    "sns.distplot(LC_defaults_new.funded_amnt);"
   ]
  },
  {
   "cell_type": "code",
   "execution_count": 79,
   "metadata": {},
   "outputs": [
    {
     "data": {
      "text/plain": [
       "519819141.8860071"
      ]
     },
     "execution_count": 79,
     "metadata": {},
     "output_type": "execute_result"
    }
   ],
   "source": [
    "# Perda Total Esperada para todos os empréstimos\n",
    "LC_defaults_new['EL'].sum()"
   ]
  },
  {
   "cell_type": "code",
   "execution_count": 97,
   "metadata": {},
   "outputs": [
    {
     "data": {
      "text/plain": [
       "funded_amnt    1.346831e+10\n",
       "funded_amnt    1.346831e+10\n",
       "dtype: float64"
      ]
     },
     "execution_count": 97,
     "metadata": {},
     "output_type": "execute_result"
    }
   ],
   "source": [
    "# Valor total financiado para todos os empréstimos\n",
    "LC_defaults_new['funded_amnt'].sum()"
   ]
  },
  {
   "cell_type": "code",
   "execution_count": 96,
   "metadata": {
    "scrolled": true
   },
   "outputs": [
    {
     "data": {
      "text/plain": [
       "funded_amnt    0.038596\n",
       "funded_amnt    0.038596\n",
       "dtype: float64"
      ]
     },
     "execution_count": 96,
     "metadata": {},
     "output_type": "execute_result"
    }
   ],
   "source": [
    "# Perda total esperada como proporção do valor total financiado para todos os empréstimos\n",
    "LC_defaults_new['EL'].sum() / LC_defaults_new['funded_amnt'].sum()"
   ]
  },
  {
   "cell_type": "code",
   "execution_count": 93,
   "metadata": {},
   "outputs": [
    {
     "data": {
      "image/png": "[encoded data removed]",
      "text/plain": [
       "<Figure size 432x288 with 1 Axes>"
      ]
     },
     "metadata": {
      "needs_background": "light"
     },
     "output_type": "display_data"
    }
   ],
   "source": [
    "plt.title('Distribuição da Probabilidade de Default')\n",
    "sns.distplot(LC_defaults_new.PD);"
   ]
  },
  {
   "cell_type": "code",
   "execution_count": 92,
   "metadata": {},
   "outputs": [
    {
     "data": {
      "image/png": "[encoded data removed]",
      "text/plain": [
       "<Figure size 432x288 with 1 Axes>"
      ]
     },
     "metadata": {
      "needs_background": "light"
     },
     "output_type": "display_data"
    }
   ],
   "source": [
    "plt.title('Distribuição da Perda por Default')\n",
    "sns.distplot(LC_defaults_new.LGD);"
   ]
  },
  {
   "cell_type": "code",
   "execution_count": 95,
   "metadata": {},
   "outputs": [
    {
     "data": {
      "image/png": "[encoded data removed]",
      "text/plain": [
       "<Figure size 432x288 with 1 Axes>"
      ]
     },
     "metadata": {
      "needs_background": "light"
     },
     "output_type": "display_data"
    }
   ],
   "source": [
    "plt.title('Distribuição da Exposição por Default')\n",
    "sns.distplot(LC_defaults_new.EAD);"
   ]
  },
  {
   "cell_type": "code",
   "execution_count": 91,
   "metadata": {},
   "outputs": [
    {
     "data": {
      "image/png": "[encoded data removed]",
      "text/plain": [
       "<Figure size 432x288 with 1 Axes>"
      ]
     },
     "metadata": {
      "needs_background": "light"
     },
     "output_type": "display_data"
    }
   ],
   "source": [
    "plt.title('Distribuição da Perda Esperada')\n",
    "sns.distplot(LC_defaults_new.EL);"
   ]
  },
  {
   "cell_type": "markdown",
   "metadata": {},
   "source": [
    "---"
   ]
  }
 ],
 "metadata": {
  "hide_input": false,
  "kernelspec": {
   "display_name": "Python 3 (ipykernel)",
   "language": "python",
   "name": "python3"
  },
  "language_info": {
   "codemirror_mode": {
    "name": "ipython",
    "version": 3
   },
   "file_extension": ".py",
   "mimetype": "text/x-python",
   "name": "python",
   "nbconvert_exporter": "python",
   "pygments_lexer": "ipython3",
   "version": "3.9.7"
  }
 },
 "nbformat": 4,
 "nbformat_minor": 2
}
