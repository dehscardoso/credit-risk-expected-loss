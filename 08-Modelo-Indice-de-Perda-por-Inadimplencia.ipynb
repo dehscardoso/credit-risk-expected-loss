{
 "cells": [
  {
   "cell_type": "code",
   "execution_count": 46,
   "id": "f5ff5d56",
   "metadata": {},
   "outputs": [],
   "source": [
    "from funcoes.funcoes import *\n",
    "\n",
    "pd.set_option('display.max_rows', 200)\n",
    "pd.set_option('display.max_columns', 200)"
   ]
  },
  {
   "cell_type": "code",
   "execution_count": 47,
   "id": "a880d2b2",
   "metadata": {},
   "outputs": [],
   "source": [
    "LC_defaults = pd.read_csv('dados/dados_WoE_VI_LGD_EAD_regressao.csv')"
   ]
  },
  {
   "cell_type": "markdown",
   "id": "a8d41f6b",
   "metadata": {},
   "source": [
    "# Modelo Índice de Perda por Inadimplência\n",
    "---"
   ]
  },
  {
   "cell_type": "code",
   "execution_count": 49,
   "id": "af4309b8",
   "metadata": {},
   "outputs": [],
   "source": [
    "# separando dados\n",
    "\n",
    "X = LC_defaults.drop(['target', 'taxa_recuperacao', 'taxa_recuperacao_0_1', 'fator_conversao_credito', 'funded_amnt', 'total_rec_prncp', 'recoveries'], axis = 1)\n",
    "y = LC_defaults['taxa_recuperacao_0_1']"
   ]
  },
  {
   "cell_type": "code",
   "execution_count": 50,
   "id": "a47bd96c",
   "metadata": {},
   "outputs": [],
   "source": [
    "# separando dados de teste e treino\n",
    "X_train1, X_test1, y_train1, y_test1 = train_test_split(X, y, test_size = 0.3, random_state = 42)"
   ]
  },
  {
   "cell_type": "code",
   "execution_count": 51,
   "id": "c137ea9c",
   "metadata": {},
   "outputs": [],
   "source": [
    "# Instanciando a função\n",
    "\n",
    "scaler = StandardScaler()\n",
    "\n",
    "\n",
    "# Transformando os dados\n",
    "\n",
    "Xtrain_scaled = scaler.fit_transform(X_train1)\n",
    "Xtest_scaled = scaler.transform(X_test1)"
   ]
  },
  {
   "cell_type": "markdown",
   "id": "e080170b",
   "metadata": {},
   "source": [
    "### Regressão Logística - Parte 1"
   ]
  },
  {
   "cell_type": "code",
   "execution_count": 52,
   "id": "d2b1d776",
   "metadata": {},
   "outputs": [],
   "source": [
    "reglgd1 = LogisticRegression_p_values()\n",
    "reglgd1.fit(X_train1, y_train1)"
   ]
  },
  {
   "cell_type": "code",
   "execution_count": 53,
   "id": "cce203ee",
   "metadata": {},
   "outputs": [],
   "source": [
    "nomes_features = X_train1.columns.values"
   ]
  },
  {
   "cell_type": "code",
   "execution_count": 54,
   "id": "5097a608",
   "metadata": {
    "scrolled": true
   },
   "outputs": [
    {
     "data": {
      "text/html": [
       "<div>\n",
       "<style scoped>\n",
       "    .dataframe tbody tr th:only-of-type {\n",
       "        vertical-align: middle;\n",
       "    }\n",
       "\n",
       "    .dataframe tbody tr th {\n",
       "        vertical-align: top;\n",
       "    }\n",
       "\n",
       "    .dataframe thead th {\n",
       "        text-align: right;\n",
       "    }\n",
       "</style>\n",
       "<table border=\"1\" class=\"dataframe\">\n",
       "  <thead>\n",
       "    <tr style=\"text-align: right;\">\n",
       "      <th></th>\n",
       "      <th>nome_feature</th>\n",
       "      <th>coeficiente</th>\n",
       "      <th>p_valor</th>\n",
       "    </tr>\n",
       "  </thead>\n",
       "  <tbody>\n",
       "    <tr>\n",
       "      <th>0</th>\n",
       "      <td>intercept</td>\n",
       "      <td>0.701567</td>\n",
       "      <td>NaN</td>\n",
       "    </tr>\n",
       "    <tr>\n",
       "      <th>1</th>\n",
       "      <td>grade:A</td>\n",
       "      <td>-1.057583</td>\n",
       "      <td>1.950813e-11</td>\n",
       "    </tr>\n",
       "    <tr>\n",
       "      <th>2</th>\n",
       "      <td>grade:B</td>\n",
       "      <td>-0.873376</td>\n",
       "      <td>6.622634e-24</td>\n",
       "    </tr>\n",
       "    <tr>\n",
       "      <th>3</th>\n",
       "      <td>grade:C</td>\n",
       "      <td>-0.664666</td>\n",
       "      <td>5.270324e-17</td>\n",
       "    </tr>\n",
       "    <tr>\n",
       "      <th>4</th>\n",
       "      <td>grade:D</td>\n",
       "      <td>-0.417188</td>\n",
       "      <td>2.965556e-08</td>\n",
       "    </tr>\n",
       "    <tr>\n",
       "      <th>...</th>\n",
       "      <td>...</td>\n",
       "      <td>...</td>\n",
       "      <td>...</td>\n",
       "    </tr>\n",
       "    <tr>\n",
       "      <th>100</th>\n",
       "      <td>mths_since_last_record:3-20</td>\n",
       "      <td>-0.068904</td>\n",
       "      <td>7.224298e-01</td>\n",
       "    </tr>\n",
       "    <tr>\n",
       "      <th>101</th>\n",
       "      <td>mths_since_last_record:21-31</td>\n",
       "      <td>-0.109482</td>\n",
       "      <td>5.375878e-01</td>\n",
       "    </tr>\n",
       "    <tr>\n",
       "      <th>102</th>\n",
       "      <td>mths_since_last_record:32-80</td>\n",
       "      <td>-0.166915</td>\n",
       "      <td>1.797937e-01</td>\n",
       "    </tr>\n",
       "    <tr>\n",
       "      <th>103</th>\n",
       "      <td>mths_since_last_record:81-86</td>\n",
       "      <td>0.059009</td>\n",
       "      <td>7.035614e-01</td>\n",
       "    </tr>\n",
       "    <tr>\n",
       "      <th>104</th>\n",
       "      <td>mths_since_last_record:&gt;86</td>\n",
       "      <td>-0.179439</td>\n",
       "      <td>1.392664e-01</td>\n",
       "    </tr>\n",
       "  </tbody>\n",
       "</table>\n",
       "<p>105 rows × 3 columns</p>\n",
       "</div>"
      ],
      "text/plain": [
       "                     nome_feature  coeficiente       p_valor\n",
       "0                       intercept     0.701567           NaN\n",
       "1                         grade:A    -1.057583  1.950813e-11\n",
       "2                         grade:B    -0.873376  6.622634e-24\n",
       "3                         grade:C    -0.664666  5.270324e-17\n",
       "4                         grade:D    -0.417188  2.965556e-08\n",
       "..                            ...          ...           ...\n",
       "100   mths_since_last_record:3-20    -0.068904  7.224298e-01\n",
       "101  mths_since_last_record:21-31    -0.109482  5.375878e-01\n",
       "102  mths_since_last_record:32-80    -0.166915  1.797937e-01\n",
       "103  mths_since_last_record:81-86     0.059009  7.035614e-01\n",
       "104    mths_since_last_record:>86    -0.179439  1.392664e-01\n",
       "\n",
       "[105 rows x 3 columns]"
      ]
     },
     "execution_count": 54,
     "metadata": {},
     "output_type": "execute_result"
    }
   ],
   "source": [
    "tabela_sumario = pd.DataFrame(columns = ['nome_feature'], data = nomes_features)\n",
    "tabela_sumario['coeficiente'] = np.transpose(reglgd1.coef_)\n",
    "tabela_sumario.index = tabela_sumario.index + 1\n",
    "tabela_sumario.loc[0] = ['intercept', reglgd1.intercept_[0]]\n",
    "tabela_sumario = tabela_sumario.sort_index()\n",
    "\n",
    "p_values = reglgd1.p_values\n",
    "p_values = np.append(np.nan, np.array(p_values))\n",
    "tabela_sumario['p_valor'] = p_values\n",
    "tabela_sumario"
   ]
  },
  {
   "cell_type": "markdown",
   "id": "23abb56d",
   "metadata": {},
   "source": [
    "#### Testando o modelo"
   ]
  },
  {
   "cell_type": "code",
   "execution_count": 55,
   "id": "c05a682f",
   "metadata": {},
   "outputs": [],
   "source": [
    "y_pred_test1  = reglgd1.model.predict(X_test1)\n",
    "y_test_proba1 = reglgd1.model.predict_proba(X_test1)"
   ]
  },
  {
   "cell_type": "code",
   "execution_count": 56,
   "id": "ee14a19d",
   "metadata": {},
   "outputs": [],
   "source": [
    "y_test_proba1 = y_test_proba1[: ][: , 1]"
   ]
  },
  {
   "cell_type": "code",
   "execution_count": 57,
   "id": "d9dd0a29",
   "metadata": {},
   "outputs": [
    {
     "data": {
      "text/html": [
       "<div>\n",
       "<style scoped>\n",
       "    .dataframe tbody tr th:only-of-type {\n",
       "        vertical-align: middle;\n",
       "    }\n",
       "\n",
       "    .dataframe tbody tr th {\n",
       "        vertical-align: top;\n",
       "    }\n",
       "\n",
       "    .dataframe thead th {\n",
       "        text-align: right;\n",
       "    }\n",
       "</style>\n",
       "<table border=\"1\" class=\"dataframe\">\n",
       "  <thead>\n",
       "    <tr style=\"text-align: right;\">\n",
       "      <th></th>\n",
       "      <th>y_test1</th>\n",
       "      <th>y_test_proba1</th>\n",
       "    </tr>\n",
       "  </thead>\n",
       "  <tbody>\n",
       "    <tr>\n",
       "      <th>362514</th>\n",
       "      <td>0.0</td>\n",
       "      <td>0.022261</td>\n",
       "    </tr>\n",
       "    <tr>\n",
       "      <th>288564</th>\n",
       "      <td>0.0</td>\n",
       "      <td>0.026238</td>\n",
       "    </tr>\n",
       "    <tr>\n",
       "      <th>213591</th>\n",
       "      <td>0.0</td>\n",
       "      <td>0.076850</td>\n",
       "    </tr>\n",
       "    <tr>\n",
       "      <th>263083</th>\n",
       "      <td>0.0</td>\n",
       "      <td>0.006678</td>\n",
       "    </tr>\n",
       "    <tr>\n",
       "      <th>165001</th>\n",
       "      <td>0.0</td>\n",
       "      <td>0.018820</td>\n",
       "    </tr>\n",
       "  </tbody>\n",
       "</table>\n",
       "</div>"
      ],
      "text/plain": [
       "        y_test1  y_test_proba1\n",
       "362514      0.0       0.022261\n",
       "288564      0.0       0.026238\n",
       "213591      0.0       0.076850\n",
       "263083      0.0       0.006678\n",
       "165001      0.0       0.018820"
      ]
     },
     "execution_count": 57,
     "metadata": {},
     "output_type": "execute_result"
    }
   ],
   "source": [
    "y_test1_temp = y_test1\n",
    "\n",
    "y_test1_temp.reset_index(drop = True, inplace = True)\n",
    "df_pred_probs_atual = pd.concat([pd.DataFrame(y_test1_temp), pd.DataFrame(y_test_proba1)], axis = 1)\n",
    "df_pred_probs_atual.columns = ['y_test1', 'y_test_proba1']\n",
    "df_pred_probs_atual.index = X_test1.index\n",
    "df_pred_probs_atual.head()"
   ]
  },
  {
   "cell_type": "markdown",
   "id": "b5c0f3b1",
   "metadata": {},
   "source": [
    "#### Estimando o acurácia do modelo"
   ]
  },
  {
   "cell_type": "code",
   "execution_count": 58,
   "id": "bc875a2d",
   "metadata": {},
   "outputs": [],
   "source": [
    "tr = 0.5\n",
    "df_pred_probs_atual['y_pred_test1'] = np.where(df_pred_probs_atual['y_test_proba1'] > tr, 1, 0)"
   ]
  },
  {
   "cell_type": "code",
   "execution_count": 59,
   "id": "804f5ed3",
   "metadata": {},
   "outputs": [
    {
     "data": {
      "text/html": [
       "<div>\n",
       "<style scoped>\n",
       "    .dataframe tbody tr th:only-of-type {\n",
       "        vertical-align: middle;\n",
       "    }\n",
       "\n",
       "    .dataframe tbody tr th {\n",
       "        vertical-align: top;\n",
       "    }\n",
       "\n",
       "    .dataframe thead th {\n",
       "        text-align: right;\n",
       "    }\n",
       "</style>\n",
       "<table border=\"1\" class=\"dataframe\">\n",
       "  <thead>\n",
       "    <tr style=\"text-align: right;\">\n",
       "      <th>predito</th>\n",
       "      <th>0</th>\n",
       "      <th>1</th>\n",
       "    </tr>\n",
       "    <tr>\n",
       "      <th>atual</th>\n",
       "      <th></th>\n",
       "      <th></th>\n",
       "    </tr>\n",
       "  </thead>\n",
       "  <tbody>\n",
       "    <tr>\n",
       "      <th>0.0</th>\n",
       "      <td>132526</td>\n",
       "      <td>1</td>\n",
       "    </tr>\n",
       "    <tr>\n",
       "      <th>1.0</th>\n",
       "      <td>7359</td>\n",
       "      <td>0</td>\n",
       "    </tr>\n",
       "  </tbody>\n",
       "</table>\n",
       "</div>"
      ],
      "text/plain": [
       "predito       0  1\n",
       "atual             \n",
       "0.0      132526  1\n",
       "1.0        7359  0"
      ]
     },
     "execution_count": 59,
     "metadata": {},
     "output_type": "execute_result"
    }
   ],
   "source": [
    "pd.crosstab(df_pred_probs_atual['y_test1'], df_pred_probs_atual['y_pred_test1'], rownames = ['atual'], colnames = ['predito'])"
   ]
  },
  {
   "cell_type": "code",
   "execution_count": 60,
   "id": "da48ef93",
   "metadata": {},
   "outputs": [
    {
     "data": {
      "text/html": [
       "<div>\n",
       "<style scoped>\n",
       "    .dataframe tbody tr th:only-of-type {\n",
       "        vertical-align: middle;\n",
       "    }\n",
       "\n",
       "    .dataframe tbody tr th {\n",
       "        vertical-align: top;\n",
       "    }\n",
       "\n",
       "    .dataframe thead th {\n",
       "        text-align: right;\n",
       "    }\n",
       "</style>\n",
       "<table border=\"1\" class=\"dataframe\">\n",
       "  <thead>\n",
       "    <tr style=\"text-align: right;\">\n",
       "      <th>predito</th>\n",
       "      <th>0</th>\n",
       "      <th>1</th>\n",
       "    </tr>\n",
       "    <tr>\n",
       "      <th>atual</th>\n",
       "      <th></th>\n",
       "      <th></th>\n",
       "    </tr>\n",
       "  </thead>\n",
       "  <tbody>\n",
       "    <tr>\n",
       "      <th>0.0</th>\n",
       "      <td>0.947386</td>\n",
       "      <td>0.000007</td>\n",
       "    </tr>\n",
       "    <tr>\n",
       "      <th>1.0</th>\n",
       "      <td>0.052607</td>\n",
       "      <td>0.000000</td>\n",
       "    </tr>\n",
       "  </tbody>\n",
       "</table>\n",
       "</div>"
      ],
      "text/plain": [
       "predito         0         1\n",
       "atual                      \n",
       "0.0      0.947386  0.000007\n",
       "1.0      0.052607  0.000000"
      ]
     },
     "execution_count": 60,
     "metadata": {},
     "output_type": "execute_result"
    }
   ],
   "source": [
    "pd.crosstab(df_pred_probs_atual['y_test1'], df_pred_probs_atual['y_pred_test1'], \n",
    "            rownames = ['atual'], colnames = ['predito']) / df_pred_probs_atual.shape[0]"
   ]
  },
  {
   "cell_type": "code",
   "execution_count": 61,
   "id": "f8334e20",
   "metadata": {},
   "outputs": [
    {
     "data": {
      "text/plain": [
       "0.9473857283788227"
      ]
     },
     "execution_count": 61,
     "metadata": {},
     "output_type": "execute_result"
    }
   ],
   "source": [
    "(pd.crosstab(df_pred_probs_atual['y_test1'], df_pred_probs_atual['y_pred_test1'], rownames = ['atual'], colnames = ['predito']) / df_pred_probs_atual.shape[0]).iloc[0, 0] + (pd.crosstab(df_pred_probs_atual['y_test1'], df_pred_probs_atual['y_pred_test1'], rownames = ['atual'], colnames = ['predito']) / df_pred_probs_atual.shape[0]).iloc[1, 1]"
   ]
  },
  {
   "cell_type": "code",
   "execution_count": 62,
   "id": "e4e041c3",
   "metadata": {},
   "outputs": [],
   "source": [
    "tfp, tvp, thresholds = roc_curve(df_pred_probs_atual['y_test1'], df_pred_probs_atual['y_test_proba1'])"
   ]
  },
  {
   "cell_type": "code",
   "execution_count": 63,
   "id": "4944818f",
   "metadata": {},
   "outputs": [
    {
     "data": {
      "image/png": "[encoded data removed]",
      "text/plain": [
       "<Figure size 432x288 with 1 Axes>"
      ]
     },
     "metadata": {
      "needs_background": "light"
     },
     "output_type": "display_data"
    }
   ],
   "source": [
    "plt.plot(tfp, tvp)\n",
    "plt.plot(tfp, tfp, linestyle = '--', color = 'k')\n",
    "plt.xlabel('Taxa de Falso Positivo')\n",
    "plt.ylabel('Taxa de Verdadeiro Positivo')\n",
    "plt.title('ROC curve');"
   ]
  },
  {
   "cell_type": "code",
   "execution_count": 64,
   "id": "5a8ee10c",
   "metadata": {},
   "outputs": [
    {
     "data": {
      "text/plain": [
       "0.7716530111487212"
      ]
     },
     "execution_count": 64,
     "metadata": {},
     "output_type": "execute_result"
    }
   ],
   "source": [
    "AUROC = roc_auc_score(df_pred_probs_atual['y_test1'], df_pred_probs_atual['y_test_proba1'])\n",
    "AUROC"
   ]
  },
  {
   "cell_type": "code",
   "execution_count": 65,
   "id": "76c1cf9d",
   "metadata": {},
   "outputs": [
    {
     "data": {
      "text/plain": [
       "array([0., 0., 0., ..., 0., 0., 0.])"
      ]
     },
     "execution_count": 65,
     "metadata": {},
     "output_type": "execute_result"
    }
   ],
   "source": [
    "y_pred_train1 = reglgd1.model.predict(X_train1)\n",
    "y_pred_train1"
   ]
  },
  {
   "cell_type": "code",
   "execution_count": 66,
   "id": "794a83b3",
   "metadata": {},
   "outputs": [
    {
     "name": "stdout",
     "output_type": "stream",
     "text": [
      "Acurácia de teste: 0.9474\n",
      "Acurácia de treino: 0.9479\n"
     ]
    }
   ],
   "source": [
    "print('Acurácia de teste: {0:0.4f}'.format(accuracy_score(y_test1, y_pred_test1)))\n",
    "print('Acurácia de treino: {0:0.4f}'.format(accuracy_score(y_train1, y_pred_train1)))"
   ]
  },
  {
   "cell_type": "markdown",
   "id": "00eba0d5",
   "metadata": {},
   "source": [
    "Comparação da precisão do conjunto de treino e do conjunto de teste para verificar se há overfitting. Como os valores são próximos, não há overfiting (uma grande diferença nos dois valores pode indicar overfitting ou underfitting). "
   ]
  },
  {
   "cell_type": "code",
   "execution_count": 67,
   "id": "cfa9a48f",
   "metadata": {},
   "outputs": [
    {
     "name": "stdout",
     "output_type": "stream",
     "text": [
      "Score de treino: 0.9479\n",
      "Score de teste: 0.9474\n"
     ]
    }
   ],
   "source": [
    "print('Score de treino: {:.4f}'.format(reglgd1.model.score(X_train1, y_train1)))\n",
    "print('Score de teste: {:.4f}'.format(reglgd1.model.score(X_test1, y_test1)))"
   ]
  },
  {
   "cell_type": "code",
   "execution_count": 68,
   "id": "aa2ca278",
   "metadata": {},
   "outputs": [
    {
     "name": "stdout",
     "output_type": "stream",
     "text": [
      "              precision    recall  f1-score   support\n",
      "\n",
      "         0.0       0.95      1.00      0.97    132527\n",
      "         1.0       0.00      0.00      0.00      7359\n",
      "\n",
      "    accuracy                           0.95    139886\n",
      "   macro avg       0.47      0.50      0.49    139886\n",
      "weighted avg       0.90      0.95      0.92    139886\n",
      "\n"
     ]
    }
   ],
   "source": [
    "print(classification_report(y_test1, y_pred_test1))"
   ]
  },
  {
   "cell_type": "markdown",
   "id": "85e8c311",
   "metadata": {},
   "source": [
    "#### Salvando o modelo"
   ]
  },
  {
   "cell_type": "code",
   "execution_count": 69,
   "id": "cfb6446c",
   "metadata": {},
   "outputs": [],
   "source": [
    "import pickle\n",
    "pickle.dump(reglgd1, open('modelos/modelo_lgd_v1.sav', 'wb'))"
   ]
  },
  {
   "cell_type": "markdown",
   "id": "4600f38b",
   "metadata": {},
   "source": [
    "### Resultados\n",
    "\n",
    "- A acurácia do modelo de regressão logística foi de 62% e a ROC-AUC de 66%. Assim, pode-se concluir que o classificador consegue prever a taxa de recuperação, sem mostrar sinais de overfitting;\n",
    "    \n",
    "- F-1 score: 60%, Recall: 71%"
   ]
  },
  {
   "cell_type": "markdown",
   "id": "9679127f",
   "metadata": {},
   "source": [
    "### Regressão Linear - Parte 2"
   ]
  },
  {
   "cell_type": "code",
   "execution_count": 70,
   "id": "d9cdc880",
   "metadata": {},
   "outputs": [],
   "source": [
    "LC_defaults2 = LC_defaults[LC_defaults['taxa_recuperacao_0_1'] == 1]"
   ]
  },
  {
   "cell_type": "code",
   "execution_count": 71,
   "id": "71462f41",
   "metadata": {},
   "outputs": [],
   "source": [
    "# separando dados\n",
    "\n",
    "X2 = LC_defaults2.drop(['target', 'taxa_recuperacao','taxa_recuperacao_0_1', 'fator_conversao_credito', 'funded_amnt', 'total_rec_prncp', 'recoveries'] , axis = 1)\n",
    "y2 = LC_defaults2['taxa_recuperacao']"
   ]
  },
  {
   "cell_type": "code",
   "execution_count": 72,
   "id": "cd61366f",
   "metadata": {},
   "outputs": [],
   "source": [
    "# separando dados de teste e treino\n",
    "\n",
    "X_train2, X_test2, y_train2, y_test2 = train_test_split(X2, y2, test_size = 0.3, random_state = 42)"
   ]
  },
  {
   "cell_type": "code",
   "execution_count": 73,
   "id": "1db499f0",
   "metadata": {},
   "outputs": [],
   "source": [
    "# Instanciando a função\n",
    "\n",
    "scaler = StandardScaler()\n",
    "\n",
    "\n",
    "# Transformando os dados\n",
    "\n",
    "Xtrain_scaled = scaler.fit_transform(X_train2)\n",
    "Xtest_scaled = scaler.transform(X_test2)"
   ]
  },
  {
   "cell_type": "code",
   "execution_count": 74,
   "id": "6f3895aa",
   "metadata": {},
   "outputs": [
    {
     "data": {
      "text/plain": [
       "LinearRegression()"
      ]
     },
     "execution_count": 74,
     "metadata": {},
     "output_type": "execute_result"
    }
   ],
   "source": [
    "reglgd2 = LinearRegression()\n",
    "reglgd2.fit(X_train2, y_train2)"
   ]
  },
  {
   "cell_type": "code",
   "execution_count": 75,
   "id": "f66edcaf",
   "metadata": {},
   "outputs": [],
   "source": [
    "nomes_features = X_train2.columns.values"
   ]
  },
  {
   "cell_type": "code",
   "execution_count": 76,
   "id": "04896b6c",
   "metadata": {
    "scrolled": true
   },
   "outputs": [
    {
     "data": {
      "text/html": [
       "<div>\n",
       "<style scoped>\n",
       "    .dataframe tbody tr th:only-of-type {\n",
       "        vertical-align: middle;\n",
       "    }\n",
       "\n",
       "    .dataframe tbody tr th {\n",
       "        vertical-align: top;\n",
       "    }\n",
       "\n",
       "    .dataframe thead th {\n",
       "        text-align: right;\n",
       "    }\n",
       "</style>\n",
       "<table border=\"1\" class=\"dataframe\">\n",
       "  <thead>\n",
       "    <tr style=\"text-align: right;\">\n",
       "      <th></th>\n",
       "      <th>nome_feature</th>\n",
       "      <th>coeficiente</th>\n",
       "      <th>p_valor</th>\n",
       "    </tr>\n",
       "  </thead>\n",
       "  <tbody>\n",
       "    <tr>\n",
       "      <th>0</th>\n",
       "      <td>intercept</td>\n",
       "      <td>0.574354</td>\n",
       "      <td>NaN</td>\n",
       "    </tr>\n",
       "    <tr>\n",
       "      <th>1</th>\n",
       "      <td>grade:A</td>\n",
       "      <td>0.011603</td>\n",
       "      <td>0.411</td>\n",
       "    </tr>\n",
       "    <tr>\n",
       "      <th>2</th>\n",
       "      <td>grade:B</td>\n",
       "      <td>0.002980</td>\n",
       "      <td>0.672</td>\n",
       "    </tr>\n",
       "    <tr>\n",
       "      <th>3</th>\n",
       "      <td>grade:C</td>\n",
       "      <td>0.002362</td>\n",
       "      <td>0.712</td>\n",
       "    </tr>\n",
       "    <tr>\n",
       "      <th>4</th>\n",
       "      <td>grade:D</td>\n",
       "      <td>0.000467</td>\n",
       "      <td>0.938</td>\n",
       "    </tr>\n",
       "    <tr>\n",
       "      <th>...</th>\n",
       "      <td>...</td>\n",
       "      <td>...</td>\n",
       "      <td>...</td>\n",
       "    </tr>\n",
       "    <tr>\n",
       "      <th>100</th>\n",
       "      <td>mths_since_last_record:3-20</td>\n",
       "      <td>-0.018271</td>\n",
       "      <td>0.272</td>\n",
       "    </tr>\n",
       "    <tr>\n",
       "      <th>101</th>\n",
       "      <td>mths_since_last_record:21-31</td>\n",
       "      <td>-0.013049</td>\n",
       "      <td>0.380</td>\n",
       "    </tr>\n",
       "    <tr>\n",
       "      <th>102</th>\n",
       "      <td>mths_since_last_record:32-80</td>\n",
       "      <td>-0.011027</td>\n",
       "      <td>0.273</td>\n",
       "    </tr>\n",
       "    <tr>\n",
       "      <th>103</th>\n",
       "      <td>mths_since_last_record:81-86</td>\n",
       "      <td>-0.009060</td>\n",
       "      <td>0.474</td>\n",
       "    </tr>\n",
       "    <tr>\n",
       "      <th>104</th>\n",
       "      <td>mths_since_last_record:&gt;86</td>\n",
       "      <td>-0.009667</td>\n",
       "      <td>0.321</td>\n",
       "    </tr>\n",
       "  </tbody>\n",
       "</table>\n",
       "<p>105 rows × 3 columns</p>\n",
       "</div>"
      ],
      "text/plain": [
       "                     nome_feature  coeficiente  p_valor\n",
       "0                       intercept     0.574354      NaN\n",
       "1                         grade:A     0.011603    0.411\n",
       "2                         grade:B     0.002980    0.672\n",
       "3                         grade:C     0.002362    0.712\n",
       "4                         grade:D     0.000467    0.938\n",
       "..                            ...          ...      ...\n",
       "100   mths_since_last_record:3-20    -0.018271    0.272\n",
       "101  mths_since_last_record:21-31    -0.013049    0.380\n",
       "102  mths_since_last_record:32-80    -0.011027    0.273\n",
       "103  mths_since_last_record:81-86    -0.009060    0.474\n",
       "104    mths_since_last_record:>86    -0.009667    0.321\n",
       "\n",
       "[105 rows x 3 columns]"
      ]
     },
     "execution_count": 76,
     "metadata": {},
     "output_type": "execute_result"
    }
   ],
   "source": [
    "tabela_sumario = pd.DataFrame(columns = ['nome_feature'], data = nomes_features)\n",
    "tabela_sumario['coeficiente'] = np.transpose(reglgd2.coef_)\n",
    "tabela_sumario.index = tabela_sumario.index + 1\n",
    "tabela_sumario.loc[0] = ['intercept', reglgd2.intercept_]\n",
    "tabela_sumario = tabela_sumario.sort_index()\n",
    "\n",
    "p_values = reglgd2.p\n",
    "p_values = np.append(np.nan,np.array(p_values))\n",
    "tabela_sumario['p_valor'] = p_values.round(3)\n",
    "tabela_sumario"
   ]
  },
  {
   "cell_type": "markdown",
   "id": "0e4029c5",
   "metadata": {},
   "source": [
    "#### Avaliação da regressão linear"
   ]
  },
  {
   "cell_type": "code",
   "execution_count": 77,
   "id": "286eaaed",
   "metadata": {},
   "outputs": [],
   "source": [
    "y_pred_test2 = reglgd2.predict(X_test2)"
   ]
  },
  {
   "cell_type": "code",
   "execution_count": 78,
   "id": "faeee3d3",
   "metadata": {},
   "outputs": [
    {
     "data": {
      "text/html": [
       "<div>\n",
       "<style scoped>\n",
       "    .dataframe tbody tr th:only-of-type {\n",
       "        vertical-align: middle;\n",
       "    }\n",
       "\n",
       "    .dataframe tbody tr th {\n",
       "        vertical-align: top;\n",
       "    }\n",
       "\n",
       "    .dataframe thead th {\n",
       "        text-align: right;\n",
       "    }\n",
       "</style>\n",
       "<table border=\"1\" class=\"dataframe\">\n",
       "  <thead>\n",
       "    <tr style=\"text-align: right;\">\n",
       "      <th></th>\n",
       "      <th>taxa_recuperacao</th>\n",
       "      <th>0</th>\n",
       "    </tr>\n",
       "  </thead>\n",
       "  <tbody>\n",
       "    <tr>\n",
       "      <th>taxa_recuperacao</th>\n",
       "      <td>1.000000</td>\n",
       "      <td>0.328278</td>\n",
       "    </tr>\n",
       "    <tr>\n",
       "      <th>0</th>\n",
       "      <td>0.328278</td>\n",
       "      <td>1.000000</td>\n",
       "    </tr>\n",
       "  </tbody>\n",
       "</table>\n",
       "</div>"
      ],
      "text/plain": [
       "                  taxa_recuperacao         0\n",
       "taxa_recuperacao          1.000000  0.328278\n",
       "0                         0.328278  1.000000"
      ]
     },
     "execution_count": 78,
     "metadata": {},
     "output_type": "execute_result"
    }
   ],
   "source": [
    "# baixa correlação, mas satisfatórica para um modelo LGD\n",
    "# caso a correlação fosse muito alta, o modelo teria que ser refeito\n",
    "\n",
    "y_test_temp2 = y_test2\n",
    "y_test_temp2 = y_test_temp2.reset_index(drop = True)\n",
    "pd.concat([pd.DataFrame(y_test_temp2), pd.DataFrame(y_pred_test2)], axis = 1).corr()"
   ]
  },
  {
   "cell_type": "code",
   "execution_count": 79,
   "id": "f5aac3c0",
   "metadata": {},
   "outputs": [
    {
     "data": {
      "image/png": "[encoded data removed]",
      "text/plain": [
       "<Figure size 432x288 with 1 Axes>"
      ]
     },
     "metadata": {
      "needs_background": "light"
     },
     "output_type": "display_data"
    }
   ],
   "source": [
    "# distribuição concentrada perto de zero, condizendo com os dados\n",
    "# então o modelo é aceitável metodologicamente\n",
    "\n",
    "sns.distplot(y_test2 - y_pred_test2);"
   ]
  },
  {
   "cell_type": "markdown",
   "id": "2637feb0",
   "metadata": {},
   "source": [
    "O valor RMSE foi encontrado para ser 0.10. Isso significa que o desvio padrão para nossa previsão é 0.10. "
   ]
  },
  {
   "cell_type": "code",
   "execution_count": 80,
   "id": "be6d5d22",
   "metadata": {},
   "outputs": [
    {
     "name": "stdout",
     "output_type": "stream",
     "text": [
      "RMSE value : 0.09\n"
     ]
    }
   ],
   "source": [
    "# RMSE (Root Mean Square Error)\n",
    "\n",
    "from sklearn.metrics import mean_squared_error\n",
    "mse = mean_squared_error(y_test2, y_pred_test2)\n",
    "rmse = np.sqrt(mse)\n",
    "print(\"RMSE value : {:.2f}\".format(rmse))"
   ]
  },
  {
   "cell_type": "code",
   "execution_count": 81,
   "id": "7ea1cc3d",
   "metadata": {},
   "outputs": [
    {
     "name": "stdout",
     "output_type": "stream",
     "text": [
      "Score de treino: 0.1222\n",
      "Score de teste: 0.1067\n"
     ]
    }
   ],
   "source": [
    "# verificando over ou underfiting\n",
    "\n",
    "print('Score de treino: {:.4f}'.format(reglgd2.score(X_train2, y_train2)))\n",
    "print('Score de teste: {:.4f}'.format(reglgd2.score(X_test2, y_test2)))"
   ]
  },
  {
   "cell_type": "markdown",
   "id": "451a2884",
   "metadata": {},
   "source": [
    "#### Salvando o modelo"
   ]
  },
  {
   "cell_type": "code",
   "execution_count": 82,
   "id": "95a940bc",
   "metadata": {},
   "outputs": [],
   "source": [
    "import pickle\n",
    "pickle.dump(reglgd2, open('modelos/modelo_lgd_v2.sav', 'wb'))"
   ]
  },
  {
   "cell_type": "markdown",
   "id": "12e9d090",
   "metadata": {},
   "source": [
    "### Combinando os modelos\n",
    "\n",
    "Na regressão logística o valor da taxa de recuperação foi classificado em 1 ou 0, e nos casos em que era 1, seu valor foi predito pela regressão linear. "
   ]
  },
  {
   "cell_type": "code",
   "execution_count": 83,
   "id": "e811a383",
   "metadata": {},
   "outputs": [],
   "source": [
    "y_pred_test_comb = reglgd2.predict(X_test1)"
   ]
  },
  {
   "cell_type": "code",
   "execution_count": 84,
   "id": "401f9dcf",
   "metadata": {},
   "outputs": [
    {
     "data": {
      "text/plain": [
       "array([0.13812495, 0.19484484, 0.06684499, ..., 0.15422688, 0.15176015,\n",
       "       0.09409736])"
      ]
     },
     "execution_count": 84,
     "metadata": {},
     "output_type": "execute_result"
    }
   ],
   "source": [
    "y_pred_test_comb"
   ]
  },
  {
   "cell_type": "markdown",
   "id": "5bf0b25b",
   "metadata": {},
   "source": [
    "Combinando as estimações dos modelos multiplicando os valores preditos. "
   ]
  },
  {
   "cell_type": "code",
   "execution_count": 85,
   "id": "58dc659c",
   "metadata": {},
   "outputs": [],
   "source": [
    "y_hat_test_lgd = df_pred_probs_atual.y_pred_test1 * y_pred_test_comb"
   ]
  },
  {
   "cell_type": "markdown",
   "id": "a45b102c",
   "metadata": {},
   "source": [
    "Valores máximos e mínimos dentro dos valores que deveriam ser preditos, 1 e 0."
   ]
  },
  {
   "cell_type": "code",
   "execution_count": 86,
   "id": "675cfce6",
   "metadata": {},
   "outputs": [
    {
     "data": {
      "text/html": [
       "<div>\n",
       "<style scoped>\n",
       "    .dataframe tbody tr th:only-of-type {\n",
       "        vertical-align: middle;\n",
       "    }\n",
       "\n",
       "    .dataframe tbody tr th {\n",
       "        vertical-align: top;\n",
       "    }\n",
       "\n",
       "    .dataframe thead th {\n",
       "        text-align: right;\n",
       "    }\n",
       "</style>\n",
       "<table border=\"1\" class=\"dataframe\">\n",
       "  <thead>\n",
       "    <tr style=\"text-align: right;\">\n",
       "      <th></th>\n",
       "      <th>y_pred_test1</th>\n",
       "    </tr>\n",
       "  </thead>\n",
       "  <tbody>\n",
       "    <tr>\n",
       "      <th>count</th>\n",
       "      <td>1.398860e+05</td>\n",
       "    </tr>\n",
       "    <tr>\n",
       "      <th>mean</th>\n",
       "      <td>6.041999e-07</td>\n",
       "    </tr>\n",
       "    <tr>\n",
       "      <th>std</th>\n",
       "      <td>2.259788e-04</td>\n",
       "    </tr>\n",
       "    <tr>\n",
       "      <th>min</th>\n",
       "      <td>0.000000e+00</td>\n",
       "    </tr>\n",
       "    <tr>\n",
       "      <th>25%</th>\n",
       "      <td>0.000000e+00</td>\n",
       "    </tr>\n",
       "    <tr>\n",
       "      <th>50%</th>\n",
       "      <td>0.000000e+00</td>\n",
       "    </tr>\n",
       "    <tr>\n",
       "      <th>75%</th>\n",
       "      <td>0.000000e+00</td>\n",
       "    </tr>\n",
       "    <tr>\n",
       "      <th>max</th>\n",
       "      <td>8.451910e-02</td>\n",
       "    </tr>\n",
       "  </tbody>\n",
       "</table>\n",
       "</div>"
      ],
      "text/plain": [
       "       y_pred_test1\n",
       "count  1.398860e+05\n",
       "mean   6.041999e-07\n",
       "std    2.259788e-04\n",
       "min    0.000000e+00\n",
       "25%    0.000000e+00\n",
       "50%    0.000000e+00\n",
       "75%    0.000000e+00\n",
       "max    8.451910e-02"
      ]
     },
     "execution_count": 86,
     "metadata": {},
     "output_type": "execute_result"
    }
   ],
   "source": [
    "pd.DataFrame(y_hat_test_lgd).describe()"
   ]
  },
  {
   "cell_type": "markdown",
   "id": "0a503597",
   "metadata": {},
   "source": [
    "---"
   ]
  }
 ],
 "metadata": {
  "hide_input": false,
  "kernelspec": {
   "display_name": "Python 3 (ipykernel)",
   "language": "python",
   "name": "python3"
  },
  "language_info": {
   "codemirror_mode": {
    "name": "ipython",
    "version": 3
   },
   "file_extension": ".py",
   "mimetype": "text/x-python",
   "name": "python",
   "nbconvert_exporter": "python",
   "pygments_lexer": "ipython3",
   "version": "3.9.12"
  }
 },
 "nbformat": 4,
 "nbformat_minor": 5
}
