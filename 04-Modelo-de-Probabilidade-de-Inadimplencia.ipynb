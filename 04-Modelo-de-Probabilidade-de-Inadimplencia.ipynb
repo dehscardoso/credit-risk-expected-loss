{
 "cells": [
  {
   "cell_type": "markdown",
   "id": "98523d5a",
   "metadata": {},
   "source": [
    "# Calculando a Probabilidade de Inadimplência\n",
    "---"
   ]
  },
  {
   "cell_type": "code",
   "execution_count": 1,
   "id": "63c3b2fd",
   "metadata": {},
   "outputs": [],
   "source": [
    "# importanto bibliotecas\n",
    "\n",
    "import numpy as np\n",
    "import pandas as pd \n",
    "import seaborn as sns\n",
    "import matplotlib.pyplot as plt\n",
    "\n",
    "from sklearn.linear_model import LogisticRegression\n",
    "\n",
    "from sklearn.model_selection import GridSearchCV\n",
    "from sklearn.model_selection import cross_val_score\n",
    "from sklearn.model_selection import train_test_split\n",
    "\n",
    "from sklearn import metrics\n",
    "import scikitplot.plotters as skplt\n",
    "from mlxtend.plotting import plot_confusion_matrix\n",
    "from plot_metric.functions import BinaryClassification\n",
    "from sklearn.metrics import classification_report, confusion_matrix, roc_auc_score, accuracy_score\n",
    "\n",
    "from funcoes.funcoes import *\n",
    "\n",
    "import warnings\n",
    "warnings.filterwarnings(\"ignore\")"
   ]
  },
  {
   "cell_type": "code",
   "execution_count": 2,
   "id": "ded85563",
   "metadata": {},
   "outputs": [],
   "source": [
    "# importando dados\n",
    "\n",
    "dados_WoE_VI   = pd.read_csv('dados/dados_WoE_VI_final.csv')"
   ]
  },
  {
   "cell_type": "code",
   "execution_count": 3,
   "id": "d97bd3d3",
   "metadata": {},
   "outputs": [
    {
     "data": {
      "text/plain": [
       "(877648, 79)"
      ]
     },
     "execution_count": 3,
     "metadata": {},
     "output_type": "execute_result"
    }
   ],
   "source": [
    "dados_WoE_VI.shape"
   ]
  },
  {
   "cell_type": "markdown",
   "id": "5a6392a8",
   "metadata": {},
   "source": [
    "## Classificação e métricas avaliativas\n",
    "\n",
    "Após passar pelo entendimento do negócio, compreensão dos dados e preparação dos dados, o próximo passo é a modelagem e avaliação. O modelo preditivo que será desenvolvido é a Regressão Logística e sua avaliação se dá por meio da análise das principais métricas, como segue:\n",
    "\n",
    "- **Acurácia:** a proporção de casos que foram corretamente previstos, sejam eles verdadeiro positivo ou verdadeiro negativo;\n",
    "\n",
    "- **Precisão:** é o número de resultados verdadeiros positivos dividido pelo número de resultados positivos previstos pelo classificador;\n",
    "\n",
    "- **Recall:** dentre todas as situações de classe positivo como valor esperado, quantas estão corretas;\n",
    "\n",
    "- **F1-score:** é a média harmônica da precisão e recall, onde um F1-score atinge seu melhor valor em 1 (precisão e recall perfeitos) e pior em 0. É uma boa maneira de mostrar que um classificador tem um bom valor tanto para o recall quanto para a precisão;\n",
    "\n",
    "- **Matriz de Confusão:** mostra uma tabela, ferramenta que resumi o desempenho de um algoritmo de classificação, com uma visão clara do desempenho do modelo de classificação e os tipos de erros produzidos pelo modelo. Será apresentado um resumo das previsões corretas e incorretas discriminadas por cada categoria;\n",
    "\n",
    "- **ROC-AUC:** Receiver Operating Characteristics (ROC) e Area Under the Curve (AUC) são duas métricas muito utilizadas para modelos de classificação. Neste caso, quanto maior a AUC, melhor a distinção entre clientes bons e maus.\n",
    "---\n"
   ]
  },
  {
   "cell_type": "markdown",
   "id": "72664bd0",
   "metadata": {},
   "source": [
    "### Separação dos dados\n",
    "\n",
    "Agora, os dados serão separados em treino e teste, retirando-se as variáveis que serão utilizadas nos cálculos posteriores, como dito anteriormente."
   ]
  },
  {
   "cell_type": "code",
   "execution_count": 6,
   "id": "85b6fda7",
   "metadata": {},
   "outputs": [],
   "source": [
    "# separando dados\n",
    "\n",
    "X = dados_WoE_VI.drop(['target', 'funded_amnt', 'total_rec_prncp', 'loan_status', 'recoveries'], axis = 1).values\n",
    "y = dados_WoE_VI[['target']].values"
   ]
  },
  {
   "cell_type": "code",
   "execution_count": 9,
   "id": "96b53cfd",
   "metadata": {},
   "outputs": [],
   "source": [
    "# separando dados de teste e treino\n",
    "\n",
    "X_train, X_test, y_train, y_test = train_test_split(X, y, test_size = 0.3, random_state = 42)"
   ]
  },
  {
   "cell_type": "markdown",
   "id": "f8809eba",
   "metadata": {},
   "source": [
    "###  Regressão Logística\n",
    "\n",
    "A regressão logística é um algoritmo de classificação de aprendizado supervisionado usado para prever observações de um conjunto discreto de classes, ou seja, classifica as observações em diferentes categorias com uma saída discreta por natureza. A regressão logística também é chamada de regressão Logit. É um dos algoritmos de classificação mais simples, diretos e versáteis que é usado para resolver problemas de classificação e será aplicado a seguir no conjunto de dados."
   ]
  },
  {
   "cell_type": "code",
   "execution_count": 11,
   "id": "352e288a",
   "metadata": {},
   "outputs": [
    {
     "data": {
      "text/html": [
       "<style>#sk-container-id-1 {color: black;background-color: white;}#sk-container-id-1 pre{padding: 0;}#sk-container-id-1 div.sk-toggleable {background-color: white;}#sk-container-id-1 label.sk-toggleable__label {cursor: pointer;display: block;width: 100%;margin-bottom: 0;padding: 0.3em;box-sizing: border-box;text-align: center;}#sk-container-id-1 label.sk-toggleable__label-arrow:before {content: \"▸\";float: left;margin-right: 0.25em;color: #696969;}#sk-container-id-1 label.sk-toggleable__label-arrow:hover:before {color: black;}#sk-container-id-1 div.sk-estimator:hover label.sk-toggleable__label-arrow:before {color: black;}#sk-container-id-1 div.sk-toggleable__content {max-height: 0;max-width: 0;overflow: hidden;text-align: left;background-color: #f0f8ff;}#sk-container-id-1 div.sk-toggleable__content pre {margin: 0.2em;color: black;border-radius: 0.25em;background-color: #f0f8ff;}#sk-container-id-1 input.sk-toggleable__control:checked~div.sk-toggleable__content {max-height: 200px;max-width: 100%;overflow: auto;}#sk-container-id-1 input.sk-toggleable__control:checked~label.sk-toggleable__label-arrow:before {content: \"▾\";}#sk-container-id-1 div.sk-estimator input.sk-toggleable__control:checked~label.sk-toggleable__label {background-color: #d4ebff;}#sk-container-id-1 div.sk-label input.sk-toggleable__control:checked~label.sk-toggleable__label {background-color: #d4ebff;}#sk-container-id-1 input.sk-hidden--visually {border: 0;clip: rect(1px 1px 1px 1px);clip: rect(1px, 1px, 1px, 1px);height: 1px;margin: -1px;overflow: hidden;padding: 0;position: absolute;width: 1px;}#sk-container-id-1 div.sk-estimator {font-family: monospace;background-color: #f0f8ff;border: 1px dotted black;border-radius: 0.25em;box-sizing: border-box;margin-bottom: 0.5em;}#sk-container-id-1 div.sk-estimator:hover {background-color: #d4ebff;}#sk-container-id-1 div.sk-parallel-item::after {content: \"\";width: 100%;border-bottom: 1px solid gray;flex-grow: 1;}#sk-container-id-1 div.sk-label:hover label.sk-toggleable__label {background-color: #d4ebff;}#sk-container-id-1 div.sk-serial::before {content: \"\";position: absolute;border-left: 1px solid gray;box-sizing: border-box;top: 0;bottom: 0;left: 50%;z-index: 0;}#sk-container-id-1 div.sk-serial {display: flex;flex-direction: column;align-items: center;background-color: white;padding-right: 0.2em;padding-left: 0.2em;position: relative;}#sk-container-id-1 div.sk-item {position: relative;z-index: 1;}#sk-container-id-1 div.sk-parallel {display: flex;align-items: stretch;justify-content: center;background-color: white;position: relative;}#sk-container-id-1 div.sk-item::before, #sk-container-id-1 div.sk-parallel-item::before {content: \"\";position: absolute;border-left: 1px solid gray;box-sizing: border-box;top: 0;bottom: 0;left: 50%;z-index: -1;}#sk-container-id-1 div.sk-parallel-item {display: flex;flex-direction: column;z-index: 1;position: relative;background-color: white;}#sk-container-id-1 div.sk-parallel-item:first-child::after {align-self: flex-end;width: 50%;}#sk-container-id-1 div.sk-parallel-item:last-child::after {align-self: flex-start;width: 50%;}#sk-container-id-1 div.sk-parallel-item:only-child::after {width: 0;}#sk-container-id-1 div.sk-dashed-wrapped {border: 1px dashed gray;margin: 0 0.4em 0.5em 0.4em;box-sizing: border-box;padding-bottom: 0.4em;background-color: white;}#sk-container-id-1 div.sk-label label {font-family: monospace;font-weight: bold;display: inline-block;line-height: 1.2em;}#sk-container-id-1 div.sk-label-container {text-align: center;}#sk-container-id-1 div.sk-container {/* jupyter's `normalize.less` sets `[hidden] { display: none; }` but bootstrap.min.css set `[hidden] { display: none !important; }` so we also need the `!important` here to be able to override the default hidden behavior on the sphinx rendered scikit-learn.org. See: https://github.com/scikit-learn/scikit-learn/issues/21755 */display: inline-block !important;position: relative;}#sk-container-id-1 div.sk-text-repr-fallback {display: none;}</style><div id=\"sk-container-id-1\" class=\"sk-top-container\"><div class=\"sk-text-repr-fallback\"><pre>LogisticRegression(max_iter=1000, random_state=42)</pre><b>In a Jupyter environment, please rerun this cell to show the HTML representation or trust the notebook. <br />On GitHub, the HTML representation is unable to render, please try loading this page with nbviewer.org.</b></div><div class=\"sk-container\" hidden><div class=\"sk-item\"><div class=\"sk-estimator sk-toggleable\"><input class=\"sk-toggleable__control sk-hidden--visually\" id=\"sk-estimator-id-1\" type=\"checkbox\" checked><label for=\"sk-estimator-id-1\" class=\"sk-toggleable__label sk-toggleable__label-arrow\">LogisticRegression</label><div class=\"sk-toggleable__content\"><pre>LogisticRegression(max_iter=1000, random_state=42)</pre></div></div></div></div></div>"
      ],
      "text/plain": [
       "LogisticRegression(max_iter=1000, random_state=42)"
      ]
     },
     "execution_count": 11,
     "metadata": {},
     "output_type": "execute_result"
    }
   ],
   "source": [
    "# instanciando modelo\n",
    "\n",
    "logregpd = LogisticRegression(solver = 'lbfgs', max_iter = 1000, random_state = 42, penalty = 'l2')\n",
    "\n",
    "\n",
    "# fit do modelo\n",
    "\n",
    "logregpd.fit(X_train, y_train)"
   ]
  },
  {
   "cell_type": "code",
   "execution_count": 12,
   "id": "a158b3f9",
   "metadata": {},
   "outputs": [
    {
     "data": {
      "text/plain": [
       "array([0, 0, 1, ..., 1, 0, 1], dtype=int64)"
      ]
     },
     "execution_count": 12,
     "metadata": {},
     "output_type": "execute_result"
    }
   ],
   "source": [
    "y_pred_test = logregpd.predict(X_test)\n",
    "y_pred_test"
   ]
  },
  {
   "cell_type": "code",
   "execution_count": 13,
   "id": "ca8f4244",
   "metadata": {},
   "outputs": [
    {
     "name": "stdout",
     "output_type": "stream",
     "text": [
      "Acurácia de teste: 0.7867\n"
     ]
    }
   ],
   "source": [
    "print('Acurácia de teste: {0:0.4f}'.format(accuracy_score(y_test, y_pred_test)))"
   ]
  },
  {
   "cell_type": "code",
   "execution_count": 14,
   "id": "087ecfba",
   "metadata": {},
   "outputs": [
    {
     "data": {
      "text/plain": [
       "array([0, 1, 0, ..., 0, 1, 1], dtype=int64)"
      ]
     },
     "execution_count": 14,
     "metadata": {},
     "output_type": "execute_result"
    }
   ],
   "source": [
    "y_pred_train = logregpd.predict(X_train)\n",
    "y_pred_train"
   ]
  },
  {
   "cell_type": "code",
   "execution_count": 15,
   "id": "564ae96d",
   "metadata": {},
   "outputs": [
    {
     "name": "stdout",
     "output_type": "stream",
     "text": [
      "Acurácia de treino: 0.7850\n"
     ]
    }
   ],
   "source": [
    "print('Acurácia de treino: {0:0.4f}'.format(accuracy_score(y_train, y_pred_train)))"
   ]
  },
  {
   "cell_type": "markdown",
   "id": "2944f11e",
   "metadata": {},
   "source": [
    "Comparação da precisão do conjunto de treino e do conjunto de teste para verificar se há overfitting. Como os valores são próximos, não há overfiting (uma grande diferença nos dois valores pode indicar overfitting ou underfitting). "
   ]
  },
  {
   "cell_type": "code",
   "execution_count": 16,
   "id": "5562b82b",
   "metadata": {},
   "outputs": [
    {
     "name": "stdout",
     "output_type": "stream",
     "text": [
      "Score de treino: 0.7850\n",
      "Score de teste: 0.7867\n"
     ]
    }
   ],
   "source": [
    "print('Score de treino: {:.4f}'.format(logregpd.score(X_train, y_train)))\n",
    "print('Score de teste: {:.4f}'.format(logregpd.score(X_test, y_test)))"
   ]
  },
  {
   "cell_type": "markdown",
   "id": "2c529517",
   "metadata": {},
   "source": [
    "O método predict_proba fornece as probabilidades da target (0 e 1) neste caso, em forma de array"
   ]
  },
  {
   "cell_type": "code",
   "execution_count": 17,
   "id": "5ed4f0ff",
   "metadata": {},
   "outputs": [
    {
     "data": {
      "text/plain": [
       "array([0.13699627, 0.39873102, 0.93519097, ..., 0.72186058, 0.49049607,\n",
       "       0.68630887])"
      ]
     },
     "execution_count": 17,
     "metadata": {},
     "output_type": "execute_result"
    }
   ],
   "source": [
    "# bons = 1\n",
    "\n",
    "y_test_pred = logregpd.predict_proba(X_test)[:, 1] \n",
    "y_test_pred"
   ]
  },
  {
   "cell_type": "code",
   "execution_count": 18,
   "id": "c334237d",
   "metadata": {},
   "outputs": [
    {
     "data": {
      "text/plain": [
       "array([0.86300373, 0.60126898, 0.06480903, ..., 0.27813942, 0.50950393,\n",
       "       0.31369113])"
      ]
     },
     "execution_count": 18,
     "metadata": {},
     "output_type": "execute_result"
    }
   ],
   "source": [
    "# ruins = 0\n",
    "\n",
    "y_test_pred = logregpd.predict_proba(X_test)[:, 0] \n",
    "y_test_pred"
   ]
  },
  {
   "cell_type": "markdown",
   "id": "c9fa682d",
   "metadata": {},
   "source": [
    "#### Métricas de classificação\n",
    "\n",
    "O relatório de classificação é outra forma de avaliar o desempenho do modelo de classificação. Ele exibe precisão, recall, f1 e scores de suporte do modelo."
   ]
  },
  {
   "cell_type": "code",
   "execution_count": 19,
   "id": "9ddd3d2a",
   "metadata": {},
   "outputs": [
    {
     "name": "stdout",
     "output_type": "stream",
     "text": [
      "              precision    recall  f1-score   support\n",
      "\n",
      "           0       0.79      0.78      0.79    229168\n",
      "           1       0.78      0.79      0.79    228951\n",
      "\n",
      "    accuracy                           0.79    458119\n",
      "   macro avg       0.79      0.79      0.79    458119\n",
      "weighted avg       0.79      0.79      0.79    458119\n",
      "\n"
     ]
    }
   ],
   "source": [
    "print(classification_report(y_test, y_pred_test))"
   ]
  },
  {
   "cell_type": "markdown",
   "id": "272eba0a",
   "metadata": {},
   "source": [
    "#### Acurácia da classificação"
   ]
  },
  {
   "cell_type": "code",
   "execution_count": 20,
   "id": "1f92d024",
   "metadata": {},
   "outputs": [
    {
     "name": "stdout",
     "output_type": "stream",
     "text": [
      "Acurácia da classificação: 0.7867\n"
     ]
    }
   ],
   "source": [
    "cm = confusion_matrix(y_test, y_pred_test)\n",
    "\n",
    "TP = cm[0,0]\n",
    "TN = cm[1,1]\n",
    "FP = cm[0,1]\n",
    "FN = cm[1,0]\n",
    "\n",
    "classification_accuracy = (TP + TN) / float(TP + TN + FP + FN)\n",
    "print('Acurácia da classificação: {0:0.4f}'.format(classification_accuracy))"
   ]
  },
  {
   "cell_type": "markdown",
   "id": "2ab6fd8b",
   "metadata": {},
   "source": [
    "#### Erro da classificação"
   ]
  },
  {
   "cell_type": "code",
   "execution_count": 21,
   "id": "6eafd5f1",
   "metadata": {},
   "outputs": [
    {
     "name": "stdout",
     "output_type": "stream",
     "text": [
      "Erro da classificação: 0.2133\n"
     ]
    }
   ],
   "source": [
    "classification_error = (FP + FN) / float(TP + TN + FP + FN)\n",
    "print('Erro da classificação: {0:0.4f}'.format(classification_error))"
   ]
  },
  {
   "cell_type": "markdown",
   "id": "794ed4b0",
   "metadata": {},
   "source": [
    "#### Threshold de classificação\n",
    "\n",
    "Há um threshold de classificação de 0,5 comumente utilizado e que também será aplicado neste caso.\n",
    "\n",
    "- Classe 1 - probabilidade de ser bom é prevista se probabilidade > 0,5\n",
    "- Classe 0 - probabilidade de ser ruim é prevista se probabilidade < 0,5\n",
    "\n",
    "O dataframe abaixo mostra a probablidade de uma pessoa apresentar risco de crédito (ruim) ou não (bom), segundo a classificação do modelo. "
   ]
  },
  {
   "cell_type": "code",
   "execution_count": 22,
   "id": "ad020cd7",
   "metadata": {},
   "outputs": [],
   "source": [
    "y_pred_prob = logregpd.predict_proba(X_test)[0:15]"
   ]
  },
  {
   "cell_type": "code",
   "execution_count": 23,
   "id": "8ca150c5",
   "metadata": {
    "scrolled": false
   },
   "outputs": [
    {
     "data": {
      "text/html": [
       "<div>\n",
       "<style scoped>\n",
       "    .dataframe tbody tr th:only-of-type {\n",
       "        vertical-align: middle;\n",
       "    }\n",
       "\n",
       "    .dataframe tbody tr th {\n",
       "        vertical-align: top;\n",
       "    }\n",
       "\n",
       "    .dataframe thead th {\n",
       "        text-align: right;\n",
       "    }\n",
       "</style>\n",
       "<table border=\"1\" class=\"dataframe\">\n",
       "  <thead>\n",
       "    <tr style=\"text-align: right;\">\n",
       "      <th></th>\n",
       "      <th>Prob_Ruim(0)</th>\n",
       "      <th>Prob_Bom(1)</th>\n",
       "    </tr>\n",
       "  </thead>\n",
       "  <tbody>\n",
       "    <tr>\n",
       "      <th>0</th>\n",
       "      <td>0.863004</td>\n",
       "      <td>0.136996</td>\n",
       "    </tr>\n",
       "    <tr>\n",
       "      <th>1</th>\n",
       "      <td>0.601269</td>\n",
       "      <td>0.398731</td>\n",
       "    </tr>\n",
       "    <tr>\n",
       "      <th>2</th>\n",
       "      <td>0.064809</td>\n",
       "      <td>0.935191</td>\n",
       "    </tr>\n",
       "    <tr>\n",
       "      <th>3</th>\n",
       "      <td>0.102301</td>\n",
       "      <td>0.897699</td>\n",
       "    </tr>\n",
       "    <tr>\n",
       "      <th>4</th>\n",
       "      <td>0.062944</td>\n",
       "      <td>0.937056</td>\n",
       "    </tr>\n",
       "    <tr>\n",
       "      <th>5</th>\n",
       "      <td>0.360066</td>\n",
       "      <td>0.639934</td>\n",
       "    </tr>\n",
       "    <tr>\n",
       "      <th>6</th>\n",
       "      <td>0.836898</td>\n",
       "      <td>0.163102</td>\n",
       "    </tr>\n",
       "    <tr>\n",
       "      <th>7</th>\n",
       "      <td>0.119614</td>\n",
       "      <td>0.880386</td>\n",
       "    </tr>\n",
       "    <tr>\n",
       "      <th>8</th>\n",
       "      <td>0.011445</td>\n",
       "      <td>0.988555</td>\n",
       "    </tr>\n",
       "    <tr>\n",
       "      <th>9</th>\n",
       "      <td>0.143142</td>\n",
       "      <td>0.856858</td>\n",
       "    </tr>\n",
       "    <tr>\n",
       "      <th>10</th>\n",
       "      <td>0.945139</td>\n",
       "      <td>0.054861</td>\n",
       "    </tr>\n",
       "    <tr>\n",
       "      <th>11</th>\n",
       "      <td>0.082880</td>\n",
       "      <td>0.917120</td>\n",
       "    </tr>\n",
       "    <tr>\n",
       "      <th>12</th>\n",
       "      <td>0.732235</td>\n",
       "      <td>0.267765</td>\n",
       "    </tr>\n",
       "    <tr>\n",
       "      <th>13</th>\n",
       "      <td>0.465569</td>\n",
       "      <td>0.534431</td>\n",
       "    </tr>\n",
       "    <tr>\n",
       "      <th>14</th>\n",
       "      <td>0.505825</td>\n",
       "      <td>0.494175</td>\n",
       "    </tr>\n",
       "  </tbody>\n",
       "</table>\n",
       "</div>"
      ],
      "text/plain": [
       "    Prob_Ruim(0)  Prob_Bom(1)\n",
       "0       0.863004     0.136996\n",
       "1       0.601269     0.398731\n",
       "2       0.064809     0.935191\n",
       "3       0.102301     0.897699\n",
       "4       0.062944     0.937056\n",
       "5       0.360066     0.639934\n",
       "6       0.836898     0.163102\n",
       "7       0.119614     0.880386\n",
       "8       0.011445     0.988555\n",
       "9       0.143142     0.856858\n",
       "10      0.945139     0.054861\n",
       "11      0.082880     0.917120\n",
       "12      0.732235     0.267765\n",
       "13      0.465569     0.534431\n",
       "14      0.505825     0.494175"
      ]
     },
     "execution_count": 23,
     "metadata": {},
     "output_type": "execute_result"
    }
   ],
   "source": [
    "# exemplo da probabilidade das 15 primeiras classificações feitas\n",
    "\n",
    "y_pred_prob_df = pd.DataFrame(data = y_pred_prob, columns=['Prob_Ruim(0)', 'Prob_Bom(1)'])\n",
    "y_pred_prob_df"
   ]
  },
  {
   "cell_type": "markdown",
   "id": "57d62c60",
   "metadata": {},
   "source": [
    "#### ROC-AUC\n",
    "\n",
    "Essa é uma técnica para comparar o desempenho do classificador onde se mede a área sob a curva (AUC). Um classificador perfeito terá um ROC AUC igual a 1, enquanto um classificador aleatório terá um ROC AUC igual a 0,5.\n",
    "\n",
    "Portanto, ROC AUC é a porcentagem do gráfico ROC que está abaixo da curva."
   ]
  },
  {
   "cell_type": "code",
   "execution_count": 24,
   "id": "edd4df8d",
   "metadata": {
    "scrolled": true
   },
   "outputs": [
    {
     "data": {
      "image/png": "[encoded data removed]",
      "text/plain": [
       "<Figure size 360x360 with 1 Axes>"
      ]
     },
     "metadata": {},
     "output_type": "display_data"
    }
   ],
   "source": [
    "# plot curva ROC\n",
    "\n",
    "bc = BinaryClassification(y_test, y_pred_test, labels = [0, 1])\n",
    "plt.figure(figsize = (5, 5))\n",
    "bc.plot_roc_curve()\n",
    "plt.show()"
   ]
  },
  {
   "cell_type": "markdown",
   "id": "c2b6f2fb",
   "metadata": {},
   "source": [
    "#### Matriz de confusão"
   ]
  },
  {
   "cell_type": "code",
   "execution_count": 25,
   "id": "6c5b7f65",
   "metadata": {
    "scrolled": true
   },
   "outputs": [
    {
     "data": {
      "image/png": "[encoded data removed]",
      "text/plain": [
       "<Figure size 432x288 with 1 Axes>"
      ]
     },
     "metadata": {},
     "output_type": "display_data"
    }
   ],
   "source": [
    "#cm = confusion_matrix(y_test, y_pred_test)\n",
    "plot_confusion_matrix(cm)\n",
    "plt.show()"
   ]
  },
  {
   "cell_type": "markdown",
   "id": "3d67ffa6",
   "metadata": {},
   "source": [
    "#### Histograma da classe 1\n",
    "\n",
    "Foram separadas as probabilidades do evento acontecer, apenas os dados da classe 1, e pode-se perceber que a distribuição é bimodal."
   ]
  },
  {
   "cell_type": "code",
   "execution_count": 26,
   "id": "30de5d93",
   "metadata": {},
   "outputs": [],
   "source": [
    "# selecionando as probabilidades previstas para a classe 1 - probabilidade de ser bom\n",
    "\n",
    "y_pred1 = logregpd.predict_proba(X_test)[:, 1]"
   ]
  },
  {
   "cell_type": "code",
   "execution_count": 27,
   "id": "345be6ec",
   "metadata": {
    "scrolled": true
   },
   "outputs": [
    {
     "data": {
      "image/png": "[encoded data removed]",
      "text/plain": [
       "<Figure size 432x288 with 1 Axes>"
      ]
     },
     "metadata": {},
     "output_type": "display_data"
    }
   ],
   "source": [
    "plt.rcParams['font.size'] = 12\n",
    "plt.hist(y_pred1, bins = 10)\n",
    "plt.title('Histograma de Probabilidades Previstas')\n",
    "plt.xlim(0, 1)\n",
    "plt.xlabel('Probabilidades Previstas de ser \"Bom\"')\n",
    "plt.ylabel('Frequência');"
   ]
  },
  {
   "cell_type": "markdown",
   "id": "6069d20b",
   "metadata": {},
   "source": [
    "#### Histograma da classe 0\n",
    "\n",
    "Foram separadas as probabilidades do evento não acontecer, apenas os dados da classe 0, e pode-se perceber que a distribuição também é bimodal."
   ]
  },
  {
   "cell_type": "code",
   "execution_count": 28,
   "id": "2a5f69bc",
   "metadata": {},
   "outputs": [],
   "source": [
    "# selecionando as probabilidades previstas para a classe 0 - probabilidade de ser ruim\n",
    "\n",
    "y_pred2 = logregpd.predict_proba(X_test)[:, 0]"
   ]
  },
  {
   "cell_type": "code",
   "execution_count": 29,
   "id": "fa050fb3",
   "metadata": {},
   "outputs": [
    {
     "data": {
      "image/png": "[encoded data removed]",
      "text/plain": [
       "<Figure size 432x288 with 1 Axes>"
      ]
     },
     "metadata": {},
     "output_type": "display_data"
    }
   ],
   "source": [
    "plt.rcParams['font.size'] = 12\n",
    "plt.hist(y_pred2, bins = 10)\n",
    "plt.title('Histograma de Probabilidades Previstas')\n",
    "plt.xlim(0, 1)\n",
    "plt.xlabel('Probabilidades Previstas de ser \"Ruim\"')\n",
    "plt.ylabel('Frequência');"
   ]
  },
  {
   "cell_type": "markdown",
   "id": "e71cedfd",
   "metadata": {},
   "source": [
    "#### Gini\n",
    "\n",
    "É um coeficiente utilizado para medir a desigualdade entre adimplentes e inadimplentes em modelos de risco de crédito.\n",
    "\n",
    "Gini = (ROC-AUC * 2 -1)"
   ]
  },
  {
   "cell_type": "code",
   "execution_count": 30,
   "id": "8901cfd9",
   "metadata": {},
   "outputs": [
    {
     "data": {
      "text/plain": [
       "0.56"
      ]
     },
     "execution_count": 30,
     "metadata": {},
     "output_type": "execute_result"
    }
   ],
   "source": [
    "Gini = 0.78 * 2 - 1\n",
    "Gini"
   ]
  },
  {
   "cell_type": "markdown",
   "id": "04c8f174",
   "metadata": {},
   "source": [
    "#### KS - Kolmogorov–Smirnov\n",
    "\n",
    "KS é um coeficiente que define a máxima diferença entre as funções de distribuição cumulativa de adimplentes e inadimplentes."
   ]
  },
  {
   "cell_type": "code",
   "execution_count": 31,
   "id": "5f850866",
   "metadata": {},
   "outputs": [
    {
     "data": {
      "image/png": "[encoded data removed]",
      "text/plain": [
       "<Figure size 432x288 with 1 Axes>"
      ]
     },
     "metadata": {},
     "output_type": "display_data"
    }
   ],
   "source": [
    "y_test_pred = logregpd.predict_proba(X_test)\n",
    "skplt.plot_ks_statistic(y_test, y_test_pred)\n",
    "plt.show()"
   ]
  },
  {
   "cell_type": "markdown",
   "id": "36323af5",
   "metadata": {},
   "source": [
    "### P-valor\n",
    "\n",
    "Uma abordagem que pode ser utilizada para remover mais features é checar a significância estatística dos coeficientes de cada variável olhando o p-valor. Por meio de uma regressão logística multivariada o p-valor será calculado e, caso seu valor seja menor do que 0.05, ou seja, estatisticamente significante, essa variável continuará no modelo, caso contrário, será retirada.  \n",
    "\n",
    "*(em caso de dummies, se uma das categorias apresentar significância, todas as outras podem continuar no modelo)*"
   ]
  },
  {
   "cell_type": "code",
   "execution_count": 32,
   "id": "d7505712",
   "metadata": {},
   "outputs": [],
   "source": [
    "reg2 = LogisticRegression_with_p_values()\n",
    "reg2.fit(X_train, y_train)"
   ]
  },
  {
   "cell_type": "code",
   "execution_count": 35,
   "id": "97aafe62",
   "metadata": {},
   "outputs": [],
   "source": [
    "nomes_features = dados_WoE_VI.drop(['target', 'funded_amnt', 'total_rec_prncp', 'loan_status', 'recoveries'], axis = 1).columns.values"
   ]
  },
  {
   "cell_type": "code",
   "execution_count": 36,
   "id": "2e60a251",
   "metadata": {},
   "outputs": [
    {
     "data": {
      "text/html": [
       "<div>\n",
       "<style scoped>\n",
       "    .dataframe tbody tr th:only-of-type {\n",
       "        vertical-align: middle;\n",
       "    }\n",
       "\n",
       "    .dataframe tbody tr th {\n",
       "        vertical-align: top;\n",
       "    }\n",
       "\n",
       "    .dataframe thead th {\n",
       "        text-align: right;\n",
       "    }\n",
       "</style>\n",
       "<table border=\"1\" class=\"dataframe\">\n",
       "  <thead>\n",
       "    <tr style=\"text-align: right;\">\n",
       "      <th></th>\n",
       "      <th>nome_feature</th>\n",
       "      <th>coeficiente</th>\n",
       "      <th>p_valor</th>\n",
       "    </tr>\n",
       "  </thead>\n",
       "  <tbody>\n",
       "    <tr>\n",
       "      <th>0</th>\n",
       "      <td>intercept</td>\n",
       "      <td>-10.076345</td>\n",
       "      <td>NaN</td>\n",
       "    </tr>\n",
       "    <tr>\n",
       "      <th>1</th>\n",
       "      <td>purpose:credit_card</td>\n",
       "      <td>2.258435</td>\n",
       "      <td>0.0</td>\n",
       "    </tr>\n",
       "    <tr>\n",
       "      <th>2</th>\n",
       "      <td>purpose:debt_consolidation</td>\n",
       "      <td>1.998950</td>\n",
       "      <td>0.0</td>\n",
       "    </tr>\n",
       "    <tr>\n",
       "      <th>3</th>\n",
       "      <td>purpose:home_improvement</td>\n",
       "      <td>2.635993</td>\n",
       "      <td>0.0</td>\n",
       "    </tr>\n",
       "    <tr>\n",
       "      <th>4</th>\n",
       "      <td>home_ownership:OWN</td>\n",
       "      <td>0.845471</td>\n",
       "      <td>0.0</td>\n",
       "    </tr>\n",
       "    <tr>\n",
       "      <th>...</th>\n",
       "      <td>...</td>\n",
       "      <td>...</td>\n",
       "      <td>...</td>\n",
       "    </tr>\n",
       "    <tr>\n",
       "      <th>73</th>\n",
       "      <td>total_rev_hi_lim:10000-20000</td>\n",
       "      <td>1.569981</td>\n",
       "      <td>0.0</td>\n",
       "    </tr>\n",
       "    <tr>\n",
       "      <th>74</th>\n",
       "      <td>total_rev_hi_lim:20000-40000</td>\n",
       "      <td>1.538325</td>\n",
       "      <td>0.0</td>\n",
       "    </tr>\n",
       "    <tr>\n",
       "      <th>75</th>\n",
       "      <td>total_rev_hi_lim:40000-60000</td>\n",
       "      <td>1.761187</td>\n",
       "      <td>0.0</td>\n",
       "    </tr>\n",
       "    <tr>\n",
       "      <th>76</th>\n",
       "      <td>total_rev_hi_lim:60000-80000</td>\n",
       "      <td>2.067609</td>\n",
       "      <td>0.0</td>\n",
       "    </tr>\n",
       "    <tr>\n",
       "      <th>77</th>\n",
       "      <td>total_rev_hi_lim:80000-100000</td>\n",
       "      <td>2.358835</td>\n",
       "      <td>0.0</td>\n",
       "    </tr>\n",
       "  </tbody>\n",
       "</table>\n",
       "<p>78 rows × 3 columns</p>\n",
       "</div>"
      ],
      "text/plain": [
       "                     nome_feature  coeficiente  p_valor\n",
       "0                       intercept   -10.076345      NaN\n",
       "1             purpose:credit_card     2.258435      0.0\n",
       "2      purpose:debt_consolidation     1.998950      0.0\n",
       "3        purpose:home_improvement     2.635993      0.0\n",
       "4              home_ownership:OWN     0.845471      0.0\n",
       "..                            ...          ...      ...\n",
       "73   total_rev_hi_lim:10000-20000     1.569981      0.0\n",
       "74   total_rev_hi_lim:20000-40000     1.538325      0.0\n",
       "75   total_rev_hi_lim:40000-60000     1.761187      0.0\n",
       "76   total_rev_hi_lim:60000-80000     2.067609      0.0\n",
       "77  total_rev_hi_lim:80000-100000     2.358835      0.0\n",
       "\n",
       "[78 rows x 3 columns]"
      ]
     },
     "execution_count": 36,
     "metadata": {},
     "output_type": "execute_result"
    }
   ],
   "source": [
    "tabela_sumario = pd.DataFrame(columns = ['nome_feature'], data = nomes_features)\n",
    "tabela_sumario['coeficiente'] = np.transpose(reg2.coef_)\n",
    "tabela_sumario.index = tabela_sumario.index + 1\n",
    "tabela_sumario.loc[0] = ['intercept', reg2.intercept_[0]]\n",
    "tabela_sumario = tabela_sumario.sort_index()\n",
    "\n",
    "p_values = reg2.p_values\n",
    "p_values = np.append(np.nan,np.array(p_values))\n",
    "tabela_sumario['p_valor'] = p_values\n",
    "tabela_sumario"
   ]
  },
  {
   "cell_type": "markdown",
   "id": "4b336aea",
   "metadata": {},
   "source": [
    "Pela análise de significância nenhuma das variáveis deveria ser retirada."
   ]
  },
  {
   "cell_type": "code",
   "execution_count": 37,
   "id": "c8591069",
   "metadata": {},
   "outputs": [
    {
     "data": {
      "text/html": [
       "<div>\n",
       "<style scoped>\n",
       "    .dataframe tbody tr th:only-of-type {\n",
       "        vertical-align: middle;\n",
       "    }\n",
       "\n",
       "    .dataframe tbody tr th {\n",
       "        vertical-align: top;\n",
       "    }\n",
       "\n",
       "    .dataframe thead th {\n",
       "        text-align: right;\n",
       "    }\n",
       "</style>\n",
       "<table border=\"1\" class=\"dataframe\">\n",
       "  <thead>\n",
       "    <tr style=\"text-align: right;\">\n",
       "      <th></th>\n",
       "      <th>nome_feature</th>\n",
       "      <th>coeficiente</th>\n",
       "      <th>p_valor</th>\n",
       "    </tr>\n",
       "  </thead>\n",
       "  <tbody>\n",
       "    <tr>\n",
       "      <th>1</th>\n",
       "      <td>purpose:credit_card</td>\n",
       "      <td>2.258435</td>\n",
       "      <td>0.0</td>\n",
       "    </tr>\n",
       "    <tr>\n",
       "      <th>2</th>\n",
       "      <td>purpose:debt_consolidation</td>\n",
       "      <td>1.998950</td>\n",
       "      <td>0.0</td>\n",
       "    </tr>\n",
       "    <tr>\n",
       "      <th>3</th>\n",
       "      <td>purpose:home_improvement</td>\n",
       "      <td>2.635993</td>\n",
       "      <td>0.0</td>\n",
       "    </tr>\n",
       "    <tr>\n",
       "      <th>4</th>\n",
       "      <td>home_ownership:OWN</td>\n",
       "      <td>0.845471</td>\n",
       "      <td>0.0</td>\n",
       "    </tr>\n",
       "    <tr>\n",
       "      <th>5</th>\n",
       "      <td>verification_status:Not Verified</td>\n",
       "      <td>0.989579</td>\n",
       "      <td>0.0</td>\n",
       "    </tr>\n",
       "    <tr>\n",
       "      <th>...</th>\n",
       "      <td>...</td>\n",
       "      <td>...</td>\n",
       "      <td>...</td>\n",
       "    </tr>\n",
       "    <tr>\n",
       "      <th>73</th>\n",
       "      <td>total_rev_hi_lim:10000-20000</td>\n",
       "      <td>1.569981</td>\n",
       "      <td>0.0</td>\n",
       "    </tr>\n",
       "    <tr>\n",
       "      <th>74</th>\n",
       "      <td>total_rev_hi_lim:20000-40000</td>\n",
       "      <td>1.538325</td>\n",
       "      <td>0.0</td>\n",
       "    </tr>\n",
       "    <tr>\n",
       "      <th>75</th>\n",
       "      <td>total_rev_hi_lim:40000-60000</td>\n",
       "      <td>1.761187</td>\n",
       "      <td>0.0</td>\n",
       "    </tr>\n",
       "    <tr>\n",
       "      <th>76</th>\n",
       "      <td>total_rev_hi_lim:60000-80000</td>\n",
       "      <td>2.067609</td>\n",
       "      <td>0.0</td>\n",
       "    </tr>\n",
       "    <tr>\n",
       "      <th>77</th>\n",
       "      <td>total_rev_hi_lim:80000-100000</td>\n",
       "      <td>2.358835</td>\n",
       "      <td>0.0</td>\n",
       "    </tr>\n",
       "  </tbody>\n",
       "</table>\n",
       "<p>71 rows × 3 columns</p>\n",
       "</div>"
      ],
      "text/plain": [
       "                        nome_feature  coeficiente  p_valor\n",
       "1                purpose:credit_card     2.258435      0.0\n",
       "2         purpose:debt_consolidation     1.998950      0.0\n",
       "3           purpose:home_improvement     2.635993      0.0\n",
       "4                 home_ownership:OWN     0.845471      0.0\n",
       "5   verification_status:Not Verified     0.989579      0.0\n",
       "..                               ...          ...      ...\n",
       "73      total_rev_hi_lim:10000-20000     1.569981      0.0\n",
       "74      total_rev_hi_lim:20000-40000     1.538325      0.0\n",
       "75      total_rev_hi_lim:40000-60000     1.761187      0.0\n",
       "76      total_rev_hi_lim:60000-80000     2.067609      0.0\n",
       "77     total_rev_hi_lim:80000-100000     2.358835      0.0\n",
       "\n",
       "[71 rows x 3 columns]"
      ]
     },
     "execution_count": 37,
     "metadata": {},
     "output_type": "execute_result"
    }
   ],
   "source": [
    "tabela_sumario[tabela_sumario.p_valor < 0.05]"
   ]
  },
  {
   "cell_type": "markdown",
   "id": "76ce8db4",
   "metadata": {},
   "source": [
    "### Avaliação e melhoria do modelo\n",
    "\n",
    "Agora, algumas técnicas serão empregadas para melhorar o desempenho do modelo, sendo elas: validação cruzada k-fold e otimização de hiperparâmetros usando GridSearchCV.\n",
    "\n",
    "#### Validação cruzada k-fold\n",
    "\n",
    "O score do modelo original é de 78.67% e a pontuação média de validação cruzada é 78.49%. Assim, podemos concluir que a validação cruzada não resulta em melhoria de desempenho."
   ]
  },
  {
   "cell_type": "code",
   "execution_count": 36,
   "id": "d196c84b",
   "metadata": {},
   "outputs": [
    {
     "name": "stdout",
     "output_type": "stream",
     "text": [
      "Scores validação cruzada:[0.78444635 0.78526959 0.78504975 0.78591408 0.7836408 ]\n",
      "Média scores validação cruzada: 0.7849\n"
     ]
    }
   ],
   "source": [
    "scores = cross_val_score(logregpd, X_train, y_train, cv = 5, scoring = 'accuracy')\n",
    "\n",
    "print('Scores validação cruzada:{}'.format(scores))\n",
    "print('Média scores validação cruzada: {:.4f}'.format(scores.mean()))"
   ]
  },
  {
   "cell_type": "markdown",
   "id": "189ddd0b",
   "metadata": {},
   "source": [
    "#### Otimização de hiperparâmetros usando GridSearchCV\n",
    "\n",
    "GridSearchCV é um algoritmo de busca que recebe uma conjunto de valores de um ou mais hiperparâmetros e testa todas as combinações dentro dessa vizinhança."
   ]
  },
  {
   "cell_type": "code",
   "execution_count": 37,
   "id": "ca198c85",
   "metadata": {},
   "outputs": [
    {
     "data": {
      "text/html": [
       "<style>#sk-container-id-2 {color: black;background-color: white;}#sk-container-id-2 pre{padding: 0;}#sk-container-id-2 div.sk-toggleable {background-color: white;}#sk-container-id-2 label.sk-toggleable__label {cursor: pointer;display: block;width: 100%;margin-bottom: 0;padding: 0.3em;box-sizing: border-box;text-align: center;}#sk-container-id-2 label.sk-toggleable__label-arrow:before {content: \"▸\";float: left;margin-right: 0.25em;color: #696969;}#sk-container-id-2 label.sk-toggleable__label-arrow:hover:before {color: black;}#sk-container-id-2 div.sk-estimator:hover label.sk-toggleable__label-arrow:before {color: black;}#sk-container-id-2 div.sk-toggleable__content {max-height: 0;max-width: 0;overflow: hidden;text-align: left;background-color: #f0f8ff;}#sk-container-id-2 div.sk-toggleable__content pre {margin: 0.2em;color: black;border-radius: 0.25em;background-color: #f0f8ff;}#sk-container-id-2 input.sk-toggleable__control:checked~div.sk-toggleable__content {max-height: 200px;max-width: 100%;overflow: auto;}#sk-container-id-2 input.sk-toggleable__control:checked~label.sk-toggleable__label-arrow:before {content: \"▾\";}#sk-container-id-2 div.sk-estimator input.sk-toggleable__control:checked~label.sk-toggleable__label {background-color: #d4ebff;}#sk-container-id-2 div.sk-label input.sk-toggleable__control:checked~label.sk-toggleable__label {background-color: #d4ebff;}#sk-container-id-2 input.sk-hidden--visually {border: 0;clip: rect(1px 1px 1px 1px);clip: rect(1px, 1px, 1px, 1px);height: 1px;margin: -1px;overflow: hidden;padding: 0;position: absolute;width: 1px;}#sk-container-id-2 div.sk-estimator {font-family: monospace;background-color: #f0f8ff;border: 1px dotted black;border-radius: 0.25em;box-sizing: border-box;margin-bottom: 0.5em;}#sk-container-id-2 div.sk-estimator:hover {background-color: #d4ebff;}#sk-container-id-2 div.sk-parallel-item::after {content: \"\";width: 100%;border-bottom: 1px solid gray;flex-grow: 1;}#sk-container-id-2 div.sk-label:hover label.sk-toggleable__label {background-color: #d4ebff;}#sk-container-id-2 div.sk-serial::before {content: \"\";position: absolute;border-left: 1px solid gray;box-sizing: border-box;top: 0;bottom: 0;left: 50%;z-index: 0;}#sk-container-id-2 div.sk-serial {display: flex;flex-direction: column;align-items: center;background-color: white;padding-right: 0.2em;padding-left: 0.2em;position: relative;}#sk-container-id-2 div.sk-item {position: relative;z-index: 1;}#sk-container-id-2 div.sk-parallel {display: flex;align-items: stretch;justify-content: center;background-color: white;position: relative;}#sk-container-id-2 div.sk-item::before, #sk-container-id-2 div.sk-parallel-item::before {content: \"\";position: absolute;border-left: 1px solid gray;box-sizing: border-box;top: 0;bottom: 0;left: 50%;z-index: -1;}#sk-container-id-2 div.sk-parallel-item {display: flex;flex-direction: column;z-index: 1;position: relative;background-color: white;}#sk-container-id-2 div.sk-parallel-item:first-child::after {align-self: flex-end;width: 50%;}#sk-container-id-2 div.sk-parallel-item:last-child::after {align-self: flex-start;width: 50%;}#sk-container-id-2 div.sk-parallel-item:only-child::after {width: 0;}#sk-container-id-2 div.sk-dashed-wrapped {border: 1px dashed gray;margin: 0 0.4em 0.5em 0.4em;box-sizing: border-box;padding-bottom: 0.4em;background-color: white;}#sk-container-id-2 div.sk-label label {font-family: monospace;font-weight: bold;display: inline-block;line-height: 1.2em;}#sk-container-id-2 div.sk-label-container {text-align: center;}#sk-container-id-2 div.sk-container {/* jupyter's `normalize.less` sets `[hidden] { display: none; }` but bootstrap.min.css set `[hidden] { display: none !important; }` so we also need the `!important` here to be able to override the default hidden behavior on the sphinx rendered scikit-learn.org. See: https://github.com/scikit-learn/scikit-learn/issues/21755 */display: inline-block !important;position: relative;}#sk-container-id-2 div.sk-text-repr-fallback {display: none;}</style><div id=\"sk-container-id-2\" class=\"sk-top-container\"><div class=\"sk-text-repr-fallback\"><pre>GridSearchCV(cv=5, estimator=LogisticRegression(max_iter=1000, random_state=42),\n",
       "             param_grid=[{&#x27;penalty&#x27;: [&#x27;l1&#x27;, &#x27;l2&#x27;]}, {&#x27;C&#x27;: [1, 10, 100, 1000]}],\n",
       "             scoring=&#x27;accuracy&#x27;)</pre><b>In a Jupyter environment, please rerun this cell to show the HTML representation or trust the notebook. <br />On GitHub, the HTML representation is unable to render, please try loading this page with nbviewer.org.</b></div><div class=\"sk-container\" hidden><div class=\"sk-item sk-dashed-wrapped\"><div class=\"sk-label-container\"><div class=\"sk-label sk-toggleable\"><input class=\"sk-toggleable__control sk-hidden--visually\" id=\"sk-estimator-id-2\" type=\"checkbox\" ><label for=\"sk-estimator-id-2\" class=\"sk-toggleable__label sk-toggleable__label-arrow\">GridSearchCV</label><div class=\"sk-toggleable__content\"><pre>GridSearchCV(cv=5, estimator=LogisticRegression(max_iter=1000, random_state=42),\n",
       "             param_grid=[{&#x27;penalty&#x27;: [&#x27;l1&#x27;, &#x27;l2&#x27;]}, {&#x27;C&#x27;: [1, 10, 100, 1000]}],\n",
       "             scoring=&#x27;accuracy&#x27;)</pre></div></div></div><div class=\"sk-parallel\"><div class=\"sk-parallel-item\"><div class=\"sk-item\"><div class=\"sk-label-container\"><div class=\"sk-label sk-toggleable\"><input class=\"sk-toggleable__control sk-hidden--visually\" id=\"sk-estimator-id-3\" type=\"checkbox\" ><label for=\"sk-estimator-id-3\" class=\"sk-toggleable__label sk-toggleable__label-arrow\">estimator: LogisticRegression</label><div class=\"sk-toggleable__content\"><pre>LogisticRegression(max_iter=1000, random_state=42)</pre></div></div></div><div class=\"sk-serial\"><div class=\"sk-item\"><div class=\"sk-estimator sk-toggleable\"><input class=\"sk-toggleable__control sk-hidden--visually\" id=\"sk-estimator-id-4\" type=\"checkbox\" ><label for=\"sk-estimator-id-4\" class=\"sk-toggleable__label sk-toggleable__label-arrow\">LogisticRegression</label><div class=\"sk-toggleable__content\"><pre>LogisticRegression(max_iter=1000, random_state=42)</pre></div></div></div></div></div></div></div></div></div></div>"
      ],
      "text/plain": [
       "GridSearchCV(cv=5, estimator=LogisticRegression(max_iter=1000, random_state=42),\n",
       "             param_grid=[{'penalty': ['l1', 'l2']}, {'C': [1, 10, 100, 1000]}],\n",
       "             scoring='accuracy')"
      ]
     },
     "execution_count": 37,
     "metadata": {},
     "output_type": "execute_result"
    }
   ],
   "source": [
    "parameters = [{'penalty':['l1','l2']}, \n",
    "              {'C':[1, 10, 100, 1000]}]\n",
    "\n",
    "grid_search = GridSearchCV(estimator = logregpd,  \n",
    "                           param_grid = parameters,\n",
    "                           scoring = 'accuracy',\n",
    "                           cv = 5,\n",
    "                           verbose=0,\n",
    "                           n_jobs=8)\n",
    "\n",
    "grid_search.fit(X_train, y_train)"
   ]
  },
  {
   "cell_type": "code",
   "execution_count": 38,
   "id": "15f97815",
   "metadata": {},
   "outputs": [
    {
     "name": "stdout",
     "output_type": "stream",
     "text": [
      "Melhor score do GridSearchCV: 0.7849\n",
      "\n",
      "\n",
      "Parâmetros que dão os melhores resultados: \n",
      "\n",
      " {'penalty': 'l2'}\n",
      "\n",
      "\n",
      "Estimador que foi escolhido: \n",
      "\n",
      " LogisticRegression(max_iter=1000, random_state=42)\n",
      "Score de teste GridSearchCV: 0.7867\n"
     ]
    }
   ],
   "source": [
    "# examinando o melhor modelo\n",
    "\n",
    "print('Melhor score do GridSearchCV: {:.4f}\\n\\n'.format(grid_search.best_score_))\n",
    "print('Parâmetros que dão os melhores resultados:','\\n\\n', (grid_search.best_params_))\n",
    "print('\\n\\nEstimador que foi escolhido:','\\n\\n', (grid_search.best_estimator_))\n",
    "print('Score de teste GridSearchCV: {0:0.4f}'.format(grid_search.score(X_test, y_test)))"
   ]
  },
  {
   "cell_type": "code",
   "execution_count": 38,
   "id": "2e217403",
   "metadata": {},
   "outputs": [],
   "source": [
    "# salvando modelo\n",
    "\n",
    "import pickle\n",
    "pickle.dump(logregpd, open('modelos/modelo_pd_v1.sav', 'wb'))"
   ]
  },
  {
   "cell_type": "markdown",
   "id": "c78d175e",
   "metadata": {},
   "source": [
    "### Resultados\n",
    "\n",
    "   - A acurácia do modelo de regressão logística e a ROC-AUC é de 78.67%. Assim, pode-se concluir que o classificador consegue prever o risco de crédito, sem mostrar sinais de overfitting;\n",
    "    \n",
    "   - F-1 score: 79%, Recall: 78%;\n",
    "\n",
    "   - Os coeficientes de KS e Gini apresentam bons resultados, 0.57 e 0.56 respectivamente, o que significa que o modelo está conseguindo separar razoavelmente bem as classes;\n",
    "\n",
    "   - O score do modelo original de 78.67% é maior do que a pontuação média de validação cruzada de 78.49%, então a validação cruzada não resulta em melhoria de desempenho;\n",
    "\n",
    "   - O GridSearchCV teve acurácia de 78.67%, ou seja, não apresentou uma melhora significativa utilizando outros hiperparâmetros.\n",
    "---"
   ]
  }
 ],
 "metadata": {
  "hide_input": false,
  "kernelspec": {
   "display_name": "Python 3 (ipykernel)",
   "language": "python",
   "name": "python3"
  },
  "language_info": {
   "codemirror_mode": {
    "name": "ipython",
    "version": 3
   },
   "file_extension": ".py",
   "mimetype": "text/x-python",
   "name": "python",
   "nbconvert_exporter": "python",
   "pygments_lexer": "ipython3",
   "version": "3.9.12"
  }
 },
 "nbformat": 4,
 "nbformat_minor": 5
}
