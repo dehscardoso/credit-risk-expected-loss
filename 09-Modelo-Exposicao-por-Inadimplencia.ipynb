{
 "cells": [
  {
   "cell_type": "code",
   "execution_count": 17,
   "id": "2d0e82d9",
   "metadata": {},
   "outputs": [],
   "source": [
    "from funcoes.funcoes import *\n",
    "\n",
    "pd.set_option('display.max_rows', 200)\n",
    "pd.set_option('display.max_columns', 200)"
   ]
  },
  {
   "cell_type": "code",
   "execution_count": 18,
   "id": "e5e5621f",
   "metadata": {},
   "outputs": [],
   "source": [
    "LC_defaults = pd.read_csv('dados/dados_WoE_VI_LGD_EAD_regressao.csv')"
   ]
  },
  {
   "cell_type": "markdown",
   "id": "c077eb1a",
   "metadata": {},
   "source": [
    "# Modelo de Exposição por Inadimplência\n",
    "___"
   ]
  },
  {
   "cell_type": "code",
   "execution_count": 20,
   "id": "483b016b",
   "metadata": {},
   "outputs": [
    {
     "data": {
      "text/plain": [
       "(466285, 111)"
      ]
     },
     "execution_count": 20,
     "metadata": {},
     "output_type": "execute_result"
    }
   ],
   "source": [
    "LC_defaults.shape"
   ]
  },
  {
   "cell_type": "code",
   "execution_count": 21,
   "id": "ee2e8be6",
   "metadata": {},
   "outputs": [],
   "source": [
    "# separando dados\n",
    "\n",
    "X = LC_defaults.drop(['target', 'taxa_recuperacao','taxa_recuperacao_0_1','fator_conversao_credito'], axis = 1)\n",
    "y = LC_defaults['fator_conversao_credito']"
   ]
  },
  {
   "cell_type": "code",
   "execution_count": 22,
   "id": "e763fc0d",
   "metadata": {},
   "outputs": [],
   "source": [
    "# separando dados de teste e treino\n",
    "\n",
    "X_train, X_test, y_train, y_test = train_test_split(X, y, test_size = 0.3, random_state = 42)"
   ]
  },
  {
   "cell_type": "code",
   "execution_count": 23,
   "id": "df7ac07f",
   "metadata": {},
   "outputs": [
    {
     "data": {
      "text/plain": [
       "LinearRegression()"
      ]
     },
     "execution_count": 23,
     "metadata": {},
     "output_type": "execute_result"
    }
   ],
   "source": [
    "reg_ead = LinearRegression()\n",
    "reg_ead.fit(X_train, y_train)"
   ]
  },
  {
   "cell_type": "code",
   "execution_count": 24,
   "id": "4cbdf02c",
   "metadata": {},
   "outputs": [],
   "source": [
    "nomes_features = X_train.columns.values"
   ]
  },
  {
   "cell_type": "code",
   "execution_count": 25,
   "id": "55ba3cde",
   "metadata": {
    "scrolled": true
   },
   "outputs": [
    {
     "data": {
      "text/html": [
       "<div>\n",
       "<style scoped>\n",
       "    .dataframe tbody tr th:only-of-type {\n",
       "        vertical-align: middle;\n",
       "    }\n",
       "\n",
       "    .dataframe tbody tr th {\n",
       "        vertical-align: top;\n",
       "    }\n",
       "\n",
       "    .dataframe thead th {\n",
       "        text-align: right;\n",
       "    }\n",
       "</style>\n",
       "<table border=\"1\" class=\"dataframe\">\n",
       "  <thead>\n",
       "    <tr style=\"text-align: right;\">\n",
       "      <th></th>\n",
       "      <th>nome_feature</th>\n",
       "      <th>coeficiente</th>\n",
       "      <th>p_valor</th>\n",
       "    </tr>\n",
       "  </thead>\n",
       "  <tbody>\n",
       "    <tr>\n",
       "      <th>0</th>\n",
       "      <td>intercept</td>\n",
       "      <td>0.118780</td>\n",
       "      <td>NaN</td>\n",
       "    </tr>\n",
       "    <tr>\n",
       "      <th>1</th>\n",
       "      <td>grade:A</td>\n",
       "      <td>0.001909</td>\n",
       "      <td>0.555</td>\n",
       "    </tr>\n",
       "    <tr>\n",
       "      <th>2</th>\n",
       "      <td>grade:B</td>\n",
       "      <td>0.005709</td>\n",
       "      <td>0.045</td>\n",
       "    </tr>\n",
       "    <tr>\n",
       "      <th>3</th>\n",
       "      <td>grade:C</td>\n",
       "      <td>0.010412</td>\n",
       "      <td>0.000</td>\n",
       "    </tr>\n",
       "    <tr>\n",
       "      <th>4</th>\n",
       "      <td>grade:D</td>\n",
       "      <td>0.012698</td>\n",
       "      <td>0.000</td>\n",
       "    </tr>\n",
       "    <tr>\n",
       "      <th>...</th>\n",
       "      <td>...</td>\n",
       "      <td>...</td>\n",
       "      <td>...</td>\n",
       "    </tr>\n",
       "    <tr>\n",
       "      <th>103</th>\n",
       "      <td>mths_since_last_record:81-86</td>\n",
       "      <td>0.005202</td>\n",
       "      <td>0.251</td>\n",
       "    </tr>\n",
       "    <tr>\n",
       "      <th>104</th>\n",
       "      <td>mths_since_last_record:&gt;86</td>\n",
       "      <td>0.002581</td>\n",
       "      <td>0.514</td>\n",
       "    </tr>\n",
       "    <tr>\n",
       "      <th>105</th>\n",
       "      <td>funded_amnt</td>\n",
       "      <td>0.000049</td>\n",
       "      <td>0.000</td>\n",
       "    </tr>\n",
       "    <tr>\n",
       "      <th>106</th>\n",
       "      <td>total_rec_prncp</td>\n",
       "      <td>-0.000041</td>\n",
       "      <td>0.000</td>\n",
       "    </tr>\n",
       "    <tr>\n",
       "      <th>107</th>\n",
       "      <td>recoveries</td>\n",
       "      <td>-0.000011</td>\n",
       "      <td>0.000</td>\n",
       "    </tr>\n",
       "  </tbody>\n",
       "</table>\n",
       "<p>108 rows × 3 columns</p>\n",
       "</div>"
      ],
      "text/plain": [
       "                     nome_feature  coeficiente  p_valor\n",
       "0                       intercept     0.118780      NaN\n",
       "1                         grade:A     0.001909    0.555\n",
       "2                         grade:B     0.005709    0.045\n",
       "3                         grade:C     0.010412    0.000\n",
       "4                         grade:D     0.012698    0.000\n",
       "..                            ...          ...      ...\n",
       "103  mths_since_last_record:81-86     0.005202    0.251\n",
       "104    mths_since_last_record:>86     0.002581    0.514\n",
       "105                   funded_amnt     0.000049    0.000\n",
       "106               total_rec_prncp    -0.000041    0.000\n",
       "107                    recoveries    -0.000011    0.000\n",
       "\n",
       "[108 rows x 3 columns]"
      ]
     },
     "execution_count": 25,
     "metadata": {},
     "output_type": "execute_result"
    }
   ],
   "source": [
    "tabela_sumario = pd.DataFrame(columns = ['nome_feature'], data = nomes_features)\n",
    "tabela_sumario['coeficiente'] = np.transpose(reg_ead.coef_)\n",
    "tabela_sumario.index = tabela_sumario.index + 1\n",
    "tabela_sumario.loc[0] = ['intercept', reg_ead.intercept_]\n",
    "tabela_sumario = tabela_sumario.sort_index()\n",
    "\n",
    "p_values = reg_ead.p\n",
    "p_values = np.append(np.nan,np.array(p_values))\n",
    "tabela_sumario['p_valor'] = p_values.round(3)\n",
    "tabela_sumario"
   ]
  },
  {
   "cell_type": "markdown",
   "id": "9fdb2e00",
   "metadata": {},
   "source": [
    "### Validação do modelo"
   ]
  },
  {
   "cell_type": "code",
   "execution_count": 26,
   "id": "44eb8ac4",
   "metadata": {},
   "outputs": [],
   "source": [
    "y_hat_test_ead = reg_ead.predict(X_test)"
   ]
  },
  {
   "cell_type": "code",
   "execution_count": 27,
   "id": "6aba9515",
   "metadata": {},
   "outputs": [
    {
     "data": {
      "text/html": [
       "<div>\n",
       "<style scoped>\n",
       "    .dataframe tbody tr th:only-of-type {\n",
       "        vertical-align: middle;\n",
       "    }\n",
       "\n",
       "    .dataframe tbody tr th {\n",
       "        vertical-align: top;\n",
       "    }\n",
       "\n",
       "    .dataframe thead th {\n",
       "        text-align: right;\n",
       "    }\n",
       "</style>\n",
       "<table border=\"1\" class=\"dataframe\">\n",
       "  <thead>\n",
       "    <tr style=\"text-align: right;\">\n",
       "      <th></th>\n",
       "      <th>fator_conversao_credito</th>\n",
       "      <th>0</th>\n",
       "    </tr>\n",
       "  </thead>\n",
       "  <tbody>\n",
       "    <tr>\n",
       "      <th>fator_conversao_credito</th>\n",
       "      <td>1.00000</td>\n",
       "      <td>0.87118</td>\n",
       "    </tr>\n",
       "    <tr>\n",
       "      <th>0</th>\n",
       "      <td>0.87118</td>\n",
       "      <td>1.00000</td>\n",
       "    </tr>\n",
       "  </tbody>\n",
       "</table>\n",
       "</div>"
      ],
      "text/plain": [
       "                         fator_conversao_credito        0\n",
       "fator_conversao_credito                  1.00000  0.87118\n",
       "0                                        0.87118  1.00000"
      ]
     },
     "execution_count": 27,
     "metadata": {},
     "output_type": "execute_result"
    }
   ],
   "source": [
    "# baixa correlação, mas satisfatória para um modelo EAD\n",
    "# caso a correlação fosse muito alta, o modelo teria que ser refeito\n",
    "\n",
    "y_test_temp = y_test\n",
    "y_test_temp = y_test_temp.reset_index(drop = True)\n",
    "pd.concat([y_test_temp, pd.DataFrame(y_hat_test_ead)], axis = 1).corr()"
   ]
  },
  {
   "cell_type": "code",
   "execution_count": 28,
   "id": "5ff27481",
   "metadata": {},
   "outputs": [
    {
     "data": {
      "image/png": "[encoded data removed]",
      "text/plain": [
       "<Figure size 432x288 with 1 Axes>"
      ]
     },
     "metadata": {
      "needs_background": "light"
     },
     "output_type": "display_data"
    }
   ],
   "source": [
    "# distribuição concentrada perto de zero, condizendo com os dados\n",
    "# então o modelo é aceitável metodologicamente\n",
    "\n",
    "sns.distplot(y_test - y_hat_test_ead);"
   ]
  },
  {
   "cell_type": "code",
   "execution_count": 29,
   "id": "e55fff77",
   "metadata": {},
   "outputs": [
    {
     "data": {
      "text/html": [
       "<div>\n",
       "<style scoped>\n",
       "    .dataframe tbody tr th:only-of-type {\n",
       "        vertical-align: middle;\n",
       "    }\n",
       "\n",
       "    .dataframe tbody tr th {\n",
       "        vertical-align: top;\n",
       "    }\n",
       "\n",
       "    .dataframe thead th {\n",
       "        text-align: right;\n",
       "    }\n",
       "</style>\n",
       "<table border=\"1\" class=\"dataframe\">\n",
       "  <thead>\n",
       "    <tr style=\"text-align: right;\">\n",
       "      <th></th>\n",
       "      <th>0</th>\n",
       "    </tr>\n",
       "  </thead>\n",
       "  <tbody>\n",
       "    <tr>\n",
       "      <th>count</th>\n",
       "      <td>139886.000000</td>\n",
       "    </tr>\n",
       "    <tr>\n",
       "      <th>mean</th>\n",
       "      <td>0.068715</td>\n",
       "    </tr>\n",
       "    <tr>\n",
       "      <th>std</th>\n",
       "      <td>0.195034</td>\n",
       "    </tr>\n",
       "    <tr>\n",
       "      <th>min</th>\n",
       "      <td>-0.052226</td>\n",
       "    </tr>\n",
       "    <tr>\n",
       "      <th>25%</th>\n",
       "      <td>-0.000458</td>\n",
       "    </tr>\n",
       "    <tr>\n",
       "      <th>50%</th>\n",
       "      <td>0.016840</td>\n",
       "    </tr>\n",
       "    <tr>\n",
       "      <th>75%</th>\n",
       "      <td>0.040392</td>\n",
       "    </tr>\n",
       "    <tr>\n",
       "      <th>max</th>\n",
       "      <td>1.708644</td>\n",
       "    </tr>\n",
       "  </tbody>\n",
       "</table>\n",
       "</div>"
      ],
      "text/plain": [
       "                   0\n",
       "count  139886.000000\n",
       "mean        0.068715\n",
       "std         0.195034\n",
       "min        -0.052226\n",
       "25%        -0.000458\n",
       "50%         0.016840\n",
       "75%         0.040392\n",
       "max         1.708644"
      ]
     },
     "execution_count": 29,
     "metadata": {},
     "output_type": "execute_result"
    }
   ],
   "source": [
    "pd.DataFrame(y_hat_test_ead).describe()"
   ]
  },
  {
   "cell_type": "code",
   "execution_count": 30,
   "id": "eef7070b",
   "metadata": {},
   "outputs": [],
   "source": [
    "y_hat_test_ead = np.where(y_hat_test_ead < 0, 0, y_hat_test_ead)\n",
    "y_hat_test_ead = np.where(y_hat_test_ead > 1, 1, y_hat_test_ead)"
   ]
  },
  {
   "cell_type": "code",
   "execution_count": 31,
   "id": "4e7560ae",
   "metadata": {},
   "outputs": [
    {
     "data": {
      "text/html": [
       "<div>\n",
       "<style scoped>\n",
       "    .dataframe tbody tr th:only-of-type {\n",
       "        vertical-align: middle;\n",
       "    }\n",
       "\n",
       "    .dataframe tbody tr th {\n",
       "        vertical-align: top;\n",
       "    }\n",
       "\n",
       "    .dataframe thead th {\n",
       "        text-align: right;\n",
       "    }\n",
       "</style>\n",
       "<table border=\"1\" class=\"dataframe\">\n",
       "  <thead>\n",
       "    <tr style=\"text-align: right;\">\n",
       "      <th></th>\n",
       "      <th>0</th>\n",
       "    </tr>\n",
       "  </thead>\n",
       "  <tbody>\n",
       "    <tr>\n",
       "      <th>count</th>\n",
       "      <td>139886.000000</td>\n",
       "    </tr>\n",
       "    <tr>\n",
       "      <th>mean</th>\n",
       "      <td>0.068542</td>\n",
       "    </tr>\n",
       "    <tr>\n",
       "      <th>std</th>\n",
       "      <td>0.176148</td>\n",
       "    </tr>\n",
       "    <tr>\n",
       "      <th>min</th>\n",
       "      <td>0.000000</td>\n",
       "    </tr>\n",
       "    <tr>\n",
       "      <th>25%</th>\n",
       "      <td>0.000000</td>\n",
       "    </tr>\n",
       "    <tr>\n",
       "      <th>50%</th>\n",
       "      <td>0.016840</td>\n",
       "    </tr>\n",
       "    <tr>\n",
       "      <th>75%</th>\n",
       "      <td>0.040392</td>\n",
       "    </tr>\n",
       "    <tr>\n",
       "      <th>max</th>\n",
       "      <td>1.000000</td>\n",
       "    </tr>\n",
       "  </tbody>\n",
       "</table>\n",
       "</div>"
      ],
      "text/plain": [
       "                   0\n",
       "count  139886.000000\n",
       "mean        0.068542\n",
       "std         0.176148\n",
       "min         0.000000\n",
       "25%         0.000000\n",
       "50%         0.016840\n",
       "75%         0.040392\n",
       "max         1.000000"
      ]
     },
     "execution_count": 31,
     "metadata": {},
     "output_type": "execute_result"
    }
   ],
   "source": [
    "# valores máximos e mínimos dentro dos valores que deveriam ser preditos, 1 e 0\n",
    "\n",
    "pd.DataFrame(y_hat_test_ead).describe()"
   ]
  },
  {
   "cell_type": "code",
   "execution_count": 32,
   "id": "8ab2d211",
   "metadata": {},
   "outputs": [],
   "source": [
    "# salvando modelo\n",
    "\n",
    "import pickle\n",
    "pickle.dump(reg_ead, open('modelos/modelo_ead_v1.sav', 'wb'))"
   ]
  },
  {
   "cell_type": "markdown",
   "id": "4090bdd7",
   "metadata": {},
   "source": [
    "---"
   ]
  }
 ],
 "metadata": {
  "hide_input": false,
  "kernelspec": {
   "display_name": "Python 3 (ipykernel)",
   "language": "python",
   "name": "python3"
  },
  "language_info": {
   "codemirror_mode": {
    "name": "ipython",
    "version": 3
   },
   "file_extension": ".py",
   "mimetype": "text/x-python",
   "name": "python",
   "nbconvert_exporter": "python",
   "pygments_lexer": "ipython3",
   "version": "3.9.12"
  }
 },
 "nbformat": 4,
 "nbformat_minor": 5
}
