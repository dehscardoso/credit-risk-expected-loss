{
 "cells": [
  {
   "cell_type": "markdown",
   "id": "8ebc8ef7",
   "metadata": {},
   "source": [
    "<img src = \"https://thumbs2.imgbox.com/32/93/xRH3CBEG_t.png\" width=\"250\">"
   ]
  },
  {
   "cell_type": "markdown",
   "id": "ac9a065c",
   "metadata": {},
   "source": [
    "## Importando bibliotecas"
   ]
  },
  {
   "cell_type": "code",
   "execution_count": 1,
   "id": "63c3b2fd",
   "metadata": {},
   "outputs": [],
   "source": [
    "import numpy as np\n",
    "import pandas as pd\n",
    "import seaborn as sns\n",
    "import matplotlib.pyplot as plt\n",
    "\n",
    "import lightgbm as lgb\n",
    "from sklearn.model_selection import train_test_split\n",
    "\n",
    "from funcoes.funcoes import *\n",
    "\n",
    "import warnings\n",
    "warnings.filterwarnings(\"ignore\")"
   ]
  },
  {
   "cell_type": "markdown",
   "id": "b71cc205",
   "metadata": {},
   "source": [
    "## Importando os dados"
   ]
  },
  {
   "cell_type": "code",
   "execution_count": 2,
   "id": "503facda",
   "metadata": {},
   "outputs": [],
   "source": [
    "raw_data = pd.read_csv('dados/Loan_status_2007-2020Q3.csv', low_memory = False)"
   ]
  },
  {
   "cell_type": "markdown",
   "id": "a8862b42",
   "metadata": {},
   "source": [
    "## Informações sobre o dataset"
   ]
  },
  {
   "cell_type": "code",
   "execution_count": 3,
   "id": "abbfa671",
   "metadata": {},
   "outputs": [
    {
     "data": {
      "text/plain": [
       "(2925493, 71)"
      ]
     },
     "execution_count": 3,
     "metadata": {},
     "output_type": "execute_result"
    }
   ],
   "source": [
    "# o dataset original possui 2925493 observações e 71 variáveis\n",
    "raw_data.shape"
   ]
  },
  {
   "cell_type": "markdown",
   "id": "df30801b",
   "metadata": {},
   "source": [
    "Devido ao tamanho do dataset, as análises foram feitas em uma amostra aleatória que contém 30% dos dados do dataset original."
   ]
  },
  {
   "cell_type": "code",
   "execution_count": 4,
   "id": "4d08b355",
   "metadata": {},
   "outputs": [],
   "source": [
    "raw_data_sample = raw_data.sample(frac = 0.30, random_state = 42)"
   ]
  },
  {
   "cell_type": "code",
   "execution_count": 5,
   "id": "bc93c3b5",
   "metadata": {},
   "outputs": [
    {
     "data": {
      "text/plain": [
       "(877648, 71)"
      ]
     },
     "execution_count": 5,
     "metadata": {},
     "output_type": "execute_result"
    }
   ],
   "source": [
    "# o dataset amostral possui 877648 observações e 71 variáveis\n",
    "raw_data_sample.shape"
   ]
  },
  {
   "cell_type": "code",
   "execution_count": 6,
   "id": "61efb5d9",
   "metadata": {},
   "outputs": [],
   "source": [
    "# salvando dados da amostra\n",
    "#raw_data_sample.to_csv('dados/raw_data_sample.csv', index = False)"
   ]
  },
  {
   "cell_type": "code",
   "execution_count": 7,
   "id": "c64ceaf5",
   "metadata": {
    "scrolled": true
   },
   "outputs": [
    {
     "data": {
      "text/html": [
       "<div>\n",
       "<style scoped>\n",
       "    .dataframe tbody tr th:only-of-type {\n",
       "        vertical-align: middle;\n",
       "    }\n",
       "\n",
       "    .dataframe tbody tr th {\n",
       "        vertical-align: top;\n",
       "    }\n",
       "\n",
       "    .dataframe thead th {\n",
       "        text-align: right;\n",
       "    }\n",
       "</style>\n",
       "<table border=\"1\" class=\"dataframe\">\n",
       "  <thead>\n",
       "    <tr style=\"text-align: right;\">\n",
       "      <th></th>\n",
       "      <th>id</th>\n",
       "      <th>loan_amnt</th>\n",
       "      <th>funded_amnt</th>\n",
       "      <th>funded_amnt_inv</th>\n",
       "      <th>term</th>\n",
       "      <th>int_rate</th>\n",
       "      <th>installment</th>\n",
       "      <th>grade</th>\n",
       "      <th>sub_grade</th>\n",
       "      <th>emp_title</th>\n",
       "      <th>...</th>\n",
       "      <th>total_bal_il</th>\n",
       "      <th>il_util</th>\n",
       "      <th>open_rv_12m</th>\n",
       "      <th>open_rv_24m</th>\n",
       "      <th>max_bal_bc</th>\n",
       "      <th>all_util</th>\n",
       "      <th>total_rev_hi_lim</th>\n",
       "      <th>inq_fi</th>\n",
       "      <th>total_cu_tl</th>\n",
       "      <th>inq_last_12m</th>\n",
       "    </tr>\n",
       "  </thead>\n",
       "  <tbody>\n",
       "    <tr>\n",
       "      <th>2496120</th>\n",
       "      <td>76052463</td>\n",
       "      <td>9000.0</td>\n",
       "      <td>9000.0</td>\n",
       "      <td>9000.0</td>\n",
       "      <td>36 months</td>\n",
       "      <td>5.32%</td>\n",
       "      <td>271.04</td>\n",
       "      <td>A</td>\n",
       "      <td>A1</td>\n",
       "      <td>Assistant Director</td>\n",
       "      <td>...</td>\n",
       "      <td>1982.0</td>\n",
       "      <td>9.0</td>\n",
       "      <td>5.0</td>\n",
       "      <td>8.0</td>\n",
       "      <td>1301.0</td>\n",
       "      <td>5.0</td>\n",
       "      <td>120600.0</td>\n",
       "      <td>0.0</td>\n",
       "      <td>5.0</td>\n",
       "      <td>0.0</td>\n",
       "    </tr>\n",
       "    <tr>\n",
       "      <th>2843117</th>\n",
       "      <td>110539760</td>\n",
       "      <td>8300.0</td>\n",
       "      <td>8300.0</td>\n",
       "      <td>8300.0</td>\n",
       "      <td>36 months</td>\n",
       "      <td>9.44%</td>\n",
       "      <td>265.65</td>\n",
       "      <td>B</td>\n",
       "      <td>B1</td>\n",
       "      <td>HVAC technician</td>\n",
       "      <td>...</td>\n",
       "      <td>21058.0</td>\n",
       "      <td>86.0</td>\n",
       "      <td>1.0</td>\n",
       "      <td>1.0</td>\n",
       "      <td>3075.0</td>\n",
       "      <td>62.0</td>\n",
       "      <td>19200.0</td>\n",
       "      <td>0.0</td>\n",
       "      <td>1.0</td>\n",
       "      <td>0.0</td>\n",
       "    </tr>\n",
       "    <tr>\n",
       "      <th>2115028</th>\n",
       "      <td>51988788</td>\n",
       "      <td>4225.0</td>\n",
       "      <td>4225.0</td>\n",
       "      <td>4225.0</td>\n",
       "      <td>36 months</td>\n",
       "      <td>17.57%</td>\n",
       "      <td>151.84</td>\n",
       "      <td>D</td>\n",
       "      <td>D4</td>\n",
       "      <td>HUMAN RESOURCES</td>\n",
       "      <td>...</td>\n",
       "      <td>NaN</td>\n",
       "      <td>NaN</td>\n",
       "      <td>NaN</td>\n",
       "      <td>NaN</td>\n",
       "      <td>NaN</td>\n",
       "      <td>NaN</td>\n",
       "      <td>9380.0</td>\n",
       "      <td>NaN</td>\n",
       "      <td>NaN</td>\n",
       "      <td>NaN</td>\n",
       "    </tr>\n",
       "    <tr>\n",
       "      <th>2257006</th>\n",
       "      <td>39858012</td>\n",
       "      <td>28000.0</td>\n",
       "      <td>28000.0</td>\n",
       "      <td>28000.0</td>\n",
       "      <td>36 months</td>\n",
       "      <td>7.49%</td>\n",
       "      <td>870.85</td>\n",
       "      <td>A</td>\n",
       "      <td>A4</td>\n",
       "      <td>Emergency physician</td>\n",
       "      <td>...</td>\n",
       "      <td>NaN</td>\n",
       "      <td>NaN</td>\n",
       "      <td>NaN</td>\n",
       "      <td>NaN</td>\n",
       "      <td>NaN</td>\n",
       "      <td>NaN</td>\n",
       "      <td>75900.0</td>\n",
       "      <td>NaN</td>\n",
       "      <td>NaN</td>\n",
       "      <td>NaN</td>\n",
       "    </tr>\n",
       "    <tr>\n",
       "      <th>589992</th>\n",
       "      <td>135682739</td>\n",
       "      <td>3000.0</td>\n",
       "      <td>3000.0</td>\n",
       "      <td>3000.0</td>\n",
       "      <td>36 months</td>\n",
       "      <td>5.31%</td>\n",
       "      <td>90.34</td>\n",
       "      <td>A</td>\n",
       "      <td>A1</td>\n",
       "      <td>RN</td>\n",
       "      <td>...</td>\n",
       "      <td>28880.0</td>\n",
       "      <td>64.0</td>\n",
       "      <td>0.0</td>\n",
       "      <td>1.0</td>\n",
       "      <td>625.0</td>\n",
       "      <td>33.0</td>\n",
       "      <td>47300.0</td>\n",
       "      <td>2.0</td>\n",
       "      <td>3.0</td>\n",
       "      <td>2.0</td>\n",
       "    </tr>\n",
       "  </tbody>\n",
       "</table>\n",
       "<p>5 rows × 71 columns</p>\n",
       "</div>"
      ],
      "text/plain": [
       "                id  loan_amnt  funded_amnt  funded_amnt_inv        term  \\\n",
       "2496120   76052463     9000.0       9000.0           9000.0   36 months   \n",
       "2843117  110539760     8300.0       8300.0           8300.0   36 months   \n",
       "2115028   51988788     4225.0       4225.0           4225.0   36 months   \n",
       "2257006   39858012    28000.0      28000.0          28000.0   36 months   \n",
       "589992   135682739     3000.0       3000.0           3000.0   36 months   \n",
       "\n",
       "        int_rate  installment grade sub_grade             emp_title  ...  \\\n",
       "2496120    5.32%       271.04     A        A1    Assistant Director  ...   \n",
       "2843117    9.44%       265.65     B        B1       HVAC technician  ...   \n",
       "2115028   17.57%       151.84     D        D4       HUMAN RESOURCES  ...   \n",
       "2257006    7.49%       870.85     A        A4  Emergency physician   ...   \n",
       "589992     5.31%        90.34     A        A1                    RN  ...   \n",
       "\n",
       "        total_bal_il il_util  open_rv_12m open_rv_24m max_bal_bc all_util  \\\n",
       "2496120       1982.0     9.0          5.0         8.0     1301.0      5.0   \n",
       "2843117      21058.0    86.0          1.0         1.0     3075.0     62.0   \n",
       "2115028          NaN     NaN          NaN         NaN        NaN      NaN   \n",
       "2257006          NaN     NaN          NaN         NaN        NaN      NaN   \n",
       "589992       28880.0    64.0          0.0         1.0      625.0     33.0   \n",
       "\n",
       "        total_rev_hi_lim inq_fi total_cu_tl inq_last_12m  \n",
       "2496120         120600.0    0.0         5.0          0.0  \n",
       "2843117          19200.0    0.0         1.0          0.0  \n",
       "2115028           9380.0    NaN         NaN          NaN  \n",
       "2257006          75900.0    NaN         NaN          NaN  \n",
       "589992           47300.0    2.0         3.0          2.0  \n",
       "\n",
       "[5 rows x 71 columns]"
      ]
     },
     "execution_count": 7,
     "metadata": {},
     "output_type": "execute_result"
    }
   ],
   "source": [
    "# 5 primeiras observações\n",
    "raw_data_sample.head()"
   ]
  },
  {
   "cell_type": "code",
   "execution_count": 8,
   "id": "60f8a04f",
   "metadata": {
    "scrolled": false
   },
   "outputs": [
    {
     "data": {
      "text/html": [
       "<div>\n",
       "<style scoped>\n",
       "    .dataframe tbody tr th:only-of-type {\n",
       "        vertical-align: middle;\n",
       "    }\n",
       "\n",
       "    .dataframe tbody tr th {\n",
       "        vertical-align: top;\n",
       "    }\n",
       "\n",
       "    .dataframe thead th {\n",
       "        text-align: right;\n",
       "    }\n",
       "</style>\n",
       "<table border=\"1\" class=\"dataframe\">\n",
       "  <thead>\n",
       "    <tr style=\"text-align: right;\">\n",
       "      <th></th>\n",
       "      <th>id</th>\n",
       "      <th>loan_amnt</th>\n",
       "      <th>funded_amnt</th>\n",
       "      <th>funded_amnt_inv</th>\n",
       "      <th>term</th>\n",
       "      <th>int_rate</th>\n",
       "      <th>installment</th>\n",
       "      <th>grade</th>\n",
       "      <th>sub_grade</th>\n",
       "      <th>emp_title</th>\n",
       "      <th>...</th>\n",
       "      <th>total_bal_il</th>\n",
       "      <th>il_util</th>\n",
       "      <th>open_rv_12m</th>\n",
       "      <th>open_rv_24m</th>\n",
       "      <th>max_bal_bc</th>\n",
       "      <th>all_util</th>\n",
       "      <th>total_rev_hi_lim</th>\n",
       "      <th>inq_fi</th>\n",
       "      <th>total_cu_tl</th>\n",
       "      <th>inq_last_12m</th>\n",
       "    </tr>\n",
       "  </thead>\n",
       "  <tbody>\n",
       "    <tr>\n",
       "      <th>2418276</th>\n",
       "      <td>68384318</td>\n",
       "      <td>29000.0</td>\n",
       "      <td>29000.0</td>\n",
       "      <td>29000.0</td>\n",
       "      <td>36 months</td>\n",
       "      <td>5.32%</td>\n",
       "      <td>873.33</td>\n",
       "      <td>A</td>\n",
       "      <td>A1</td>\n",
       "      <td>Senior Financial Analyst</td>\n",
       "      <td>...</td>\n",
       "      <td>6897.0</td>\n",
       "      <td>69.0</td>\n",
       "      <td>0.0</td>\n",
       "      <td>0.0</td>\n",
       "      <td>13109.0</td>\n",
       "      <td>52.0</td>\n",
       "      <td>62100.0</td>\n",
       "      <td>0.0</td>\n",
       "      <td>0.0</td>\n",
       "      <td>0.0</td>\n",
       "    </tr>\n",
       "    <tr>\n",
       "      <th>406086</th>\n",
       "      <td>124774509</td>\n",
       "      <td>13000.0</td>\n",
       "      <td>13000.0</td>\n",
       "      <td>13000.0</td>\n",
       "      <td>36 months</td>\n",
       "      <td>5.32%</td>\n",
       "      <td>391.50</td>\n",
       "      <td>A</td>\n",
       "      <td>A1</td>\n",
       "      <td>Registered Nurse</td>\n",
       "      <td>...</td>\n",
       "      <td>40568.0</td>\n",
       "      <td>88.0</td>\n",
       "      <td>1.0</td>\n",
       "      <td>1.0</td>\n",
       "      <td>0.0</td>\n",
       "      <td>83.0</td>\n",
       "      <td>28700.0</td>\n",
       "      <td>0.0</td>\n",
       "      <td>0.0</td>\n",
       "      <td>0.0</td>\n",
       "    </tr>\n",
       "    <tr>\n",
       "      <th>2360030</th>\n",
       "      <td>72072149</td>\n",
       "      <td>12000.0</td>\n",
       "      <td>12000.0</td>\n",
       "      <td>12000.0</td>\n",
       "      <td>36 months</td>\n",
       "      <td>11.47%</td>\n",
       "      <td>395.55</td>\n",
       "      <td>B</td>\n",
       "      <td>B5</td>\n",
       "      <td>Payroll</td>\n",
       "      <td>...</td>\n",
       "      <td>28528.0</td>\n",
       "      <td>67.0</td>\n",
       "      <td>3.0</td>\n",
       "      <td>3.0</td>\n",
       "      <td>6337.0</td>\n",
       "      <td>68.0</td>\n",
       "      <td>19600.0</td>\n",
       "      <td>1.0</td>\n",
       "      <td>4.0</td>\n",
       "      <td>4.0</td>\n",
       "    </tr>\n",
       "    <tr>\n",
       "      <th>2098817</th>\n",
       "      <td>54100427</td>\n",
       "      <td>10000.0</td>\n",
       "      <td>10000.0</td>\n",
       "      <td>10000.0</td>\n",
       "      <td>36 months</td>\n",
       "      <td>12.69%</td>\n",
       "      <td>335.45</td>\n",
       "      <td>C</td>\n",
       "      <td>C2</td>\n",
       "      <td>NaN</td>\n",
       "      <td>...</td>\n",
       "      <td>NaN</td>\n",
       "      <td>NaN</td>\n",
       "      <td>NaN</td>\n",
       "      <td>NaN</td>\n",
       "      <td>NaN</td>\n",
       "      <td>NaN</td>\n",
       "      <td>46700.0</td>\n",
       "      <td>NaN</td>\n",
       "      <td>NaN</td>\n",
       "      <td>NaN</td>\n",
       "    </tr>\n",
       "    <tr>\n",
       "      <th>651477</th>\n",
       "      <td>133032315</td>\n",
       "      <td>40000.0</td>\n",
       "      <td>40000.0</td>\n",
       "      <td>40000.0</td>\n",
       "      <td>60 months</td>\n",
       "      <td>7.34%</td>\n",
       "      <td>798.49</td>\n",
       "      <td>A</td>\n",
       "      <td>A4</td>\n",
       "      <td>Principal</td>\n",
       "      <td>...</td>\n",
       "      <td>134325.0</td>\n",
       "      <td>29.0</td>\n",
       "      <td>0.0</td>\n",
       "      <td>1.0</td>\n",
       "      <td>13660.0</td>\n",
       "      <td>16.0</td>\n",
       "      <td>72500.0</td>\n",
       "      <td>1.0</td>\n",
       "      <td>0.0</td>\n",
       "      <td>4.0</td>\n",
       "    </tr>\n",
       "  </tbody>\n",
       "</table>\n",
       "<p>5 rows × 71 columns</p>\n",
       "</div>"
      ],
      "text/plain": [
       "                id  loan_amnt  funded_amnt  funded_amnt_inv        term  \\\n",
       "2418276   68384318    29000.0      29000.0          29000.0   36 months   \n",
       "406086   124774509    13000.0      13000.0          13000.0   36 months   \n",
       "2360030   72072149    12000.0      12000.0          12000.0   36 months   \n",
       "2098817   54100427    10000.0      10000.0          10000.0   36 months   \n",
       "651477   133032315    40000.0      40000.0          40000.0   60 months   \n",
       "\n",
       "        int_rate  installment grade sub_grade                 emp_title  ...  \\\n",
       "2418276    5.32%       873.33     A        A1  Senior Financial Analyst  ...   \n",
       "406086     5.32%       391.50     A        A1          Registered Nurse  ...   \n",
       "2360030   11.47%       395.55     B        B5                   Payroll  ...   \n",
       "2098817   12.69%       335.45     C        C2                       NaN  ...   \n",
       "651477     7.34%       798.49     A        A4                 Principal  ...   \n",
       "\n",
       "        total_bal_il il_util  open_rv_12m open_rv_24m max_bal_bc all_util  \\\n",
       "2418276       6897.0    69.0          0.0         0.0    13109.0     52.0   \n",
       "406086       40568.0    88.0          1.0         1.0        0.0     83.0   \n",
       "2360030      28528.0    67.0          3.0         3.0     6337.0     68.0   \n",
       "2098817          NaN     NaN          NaN         NaN        NaN      NaN   \n",
       "651477      134325.0    29.0          0.0         1.0    13660.0     16.0   \n",
       "\n",
       "        total_rev_hi_lim inq_fi total_cu_tl inq_last_12m  \n",
       "2418276          62100.0    0.0         0.0          0.0  \n",
       "406086           28700.0    0.0         0.0          0.0  \n",
       "2360030          19600.0    1.0         4.0          4.0  \n",
       "2098817          46700.0    NaN         NaN          NaN  \n",
       "651477           72500.0    1.0         0.0          4.0  \n",
       "\n",
       "[5 rows x 71 columns]"
      ]
     },
     "execution_count": 8,
     "metadata": {},
     "output_type": "execute_result"
    }
   ],
   "source": [
    "# 5 últimas observações\n",
    "raw_data_sample.tail()"
   ]
  },
  {
   "cell_type": "code",
   "execution_count": 9,
   "id": "751aac88",
   "metadata": {
    "scrolled": true
   },
   "outputs": [
    {
     "data": {
      "text/plain": [
       "Index(['id', 'loan_amnt', 'funded_amnt', 'funded_amnt_inv', 'term', 'int_rate',\n",
       "       'installment', 'grade', 'sub_grade', 'emp_title', 'emp_length',\n",
       "       'home_ownership', 'annual_inc', 'verification_status', 'issue_d',\n",
       "       'loan_status', 'pymnt_plan', 'url', 'purpose', 'title', 'zip_code',\n",
       "       'addr_state', 'dti', 'delinq_2yrs', 'earliest_cr_line',\n",
       "       'inq_last_6mths', 'mths_since_last_delinq', 'mths_since_last_record',\n",
       "       'open_acc', 'pub_rec', 'revol_bal', 'revol_util', 'total_acc',\n",
       "       'initial_list_status', 'out_prncp', 'out_prncp_inv', 'total_pymnt',\n",
       "       'total_pymnt_inv', 'total_rec_prncp', 'total_rec_int',\n",
       "       'total_rec_late_fee', 'recoveries', 'collection_recovery_fee',\n",
       "       'last_pymnt_d', 'last_pymnt_amnt', 'next_pymnt_d', 'last_credit_pull_d',\n",
       "       'collections_12_mths_ex_med', 'mths_since_last_major_derog',\n",
       "       'policy_code', 'application_type', 'annual_inc_joint', 'dti_joint',\n",
       "       'verification_status_joint', 'acc_now_delinq', 'tot_coll_amt',\n",
       "       'tot_cur_bal', 'open_acc_6m', 'open_il_12m', 'open_il_24m',\n",
       "       'mths_since_rcnt_il', 'total_bal_il', 'il_util', 'open_rv_12m',\n",
       "       'open_rv_24m', 'max_bal_bc', 'all_util', 'total_rev_hi_lim', 'inq_fi',\n",
       "       'total_cu_tl', 'inq_last_12m'],\n",
       "      dtype='object')"
      ]
     },
     "execution_count": 9,
     "metadata": {},
     "output_type": "execute_result"
    }
   ],
   "source": [
    "# colunas do dataset\n",
    "raw_data_sample.columns"
   ]
  },
  {
   "cell_type": "code",
   "execution_count": 10,
   "id": "a8a415ff",
   "metadata": {
    "scrolled": false
   },
   "outputs": [
    {
     "name": "stdout",
     "output_type": "stream",
     "text": [
      "<class 'pandas.core.frame.DataFrame'>\n",
      "Int64Index: 877648 entries, 2496120 to 651477\n",
      "Data columns (total 71 columns):\n",
      " #   Column                       Non-Null Count   Dtype  \n",
      "---  ------                       --------------   -----  \n",
      " 0   id                           877648 non-null  object \n",
      " 1   loan_amnt                    877648 non-null  float64\n",
      " 2   funded_amnt                  877648 non-null  float64\n",
      " 3   funded_amnt_inv              877648 non-null  float64\n",
      " 4   term                         877648 non-null  object \n",
      " 5   int_rate                     877648 non-null  object \n",
      " 6   installment                  877648 non-null  float64\n",
      " 7   grade                        877648 non-null  object \n",
      " 8   sub_grade                    877648 non-null  object \n",
      " 9   emp_title                    798000 non-null  object \n",
      " 10  emp_length                   815870 non-null  object \n",
      " 11  home_ownership               877648 non-null  object \n",
      " 12  annual_inc                   877646 non-null  float64\n",
      " 13  verification_status          877648 non-null  object \n",
      " 14  issue_d                      877648 non-null  object \n",
      " 15  loan_status                  877648 non-null  object \n",
      " 16  pymnt_plan                   877648 non-null  object \n",
      " 17  url                          877648 non-null  object \n",
      " 18  purpose                      877648 non-null  object \n",
      " 19  title                        870660 non-null  object \n",
      " 20  zip_code                     877648 non-null  object \n",
      " 21  addr_state                   877648 non-null  object \n",
      " 22  dti                          876738 non-null  float64\n",
      " 23  delinq_2yrs                  877639 non-null  float64\n",
      " 24  earliest_cr_line             877639 non-null  object \n",
      " 25  inq_last_6mths               877638 non-null  float64\n",
      " 26  mths_since_last_delinq       416506 non-null  float64\n",
      " 27  mths_since_last_record       127907 non-null  float64\n",
      " 28  open_acc                     877639 non-null  float64\n",
      " 29  pub_rec                      877639 non-null  float64\n",
      " 30  revol_bal                    877648 non-null  float64\n",
      " 31  revol_util                   876826 non-null  object \n",
      " 32  total_acc                    877639 non-null  float64\n",
      " 33  initial_list_status          877648 non-null  object \n",
      " 34  out_prncp                    877648 non-null  float64\n",
      " 35  out_prncp_inv                877648 non-null  float64\n",
      " 36  total_pymnt                  877648 non-null  float64\n",
      " 37  total_pymnt_inv              877648 non-null  float64\n",
      " 38  total_rec_prncp              877648 non-null  float64\n",
      " 39  total_rec_int                877648 non-null  float64\n",
      " 40  total_rec_late_fee           877648 non-null  float64\n",
      " 41  recoveries                   877648 non-null  float64\n",
      " 42  collection_recovery_fee      877648 non-null  float64\n",
      " 43  last_pymnt_d                 876172 non-null  object \n",
      " 44  last_pymnt_amnt              877648 non-null  float64\n",
      " 45  next_pymnt_d                 319929 non-null  object \n",
      " 46  last_credit_pull_d           877626 non-null  object \n",
      " 47  collections_12_mths_ex_med   877618 non-null  float64\n",
      " 48  mths_since_last_major_derog  216476 non-null  float64\n",
      " 49  policy_code                  877648 non-null  float64\n",
      " 50  application_type             877648 non-null  object \n",
      " 51  annual_inc_joint             63208 non-null   float64\n",
      " 52  dti_joint                    63206 non-null   float64\n",
      " 53  verification_status_joint    58520 non-null   object \n",
      " 54  acc_now_delinq               877639 non-null  float64\n",
      " 55  tot_coll_amt                 856801 non-null  float64\n",
      " 56  tot_cur_bal                  856801 non-null  float64\n",
      " 57  open_acc_6m                  617911 non-null  float64\n",
      " 58  open_il_12m                  617912 non-null  float64\n",
      " 59  open_il_24m                  617912 non-null  float64\n",
      " 60  mths_since_rcnt_il           599899 non-null  float64\n",
      " 61  total_bal_il                 617912 non-null  float64\n",
      " 62  il_util                      531087 non-null  float64\n",
      " 63  open_rv_12m                  617912 non-null  float64\n",
      " 64  open_rv_24m                  617912 non-null  float64\n",
      " 65  max_bal_bc                   617912 non-null  float64\n",
      " 66  all_util                     617806 non-null  float64\n",
      " 67  total_rev_hi_lim             856801 non-null  float64\n",
      " 68  inq_fi                       617912 non-null  float64\n",
      " 69  total_cu_tl                  617911 non-null  float64\n",
      " 70  inq_last_12m                 617911 non-null  float64\n",
      "dtypes: float64(46), object(25)\n",
      "memory usage: 482.1+ MB\n"
     ]
    }
   ],
   "source": [
    "raw_data_sample.info()"
   ]
  },
  {
   "cell_type": "markdown",
   "id": "60de3be8",
   "metadata": {},
   "source": [
    "## Pré-processamento dos dados\n",
    "---\n",
    "\n"
   ]
  },
  {
   "cell_type": "markdown",
   "id": "b00ace03",
   "metadata": {},
   "source": [
    "### Variáveis irrelevantes ao modelo\n",
    "\n",
    "No dataset há variáveis que serão irrelevantes para o modelo, que são identificadores do empréstimo, então foram retiradas: `id`, `member_id`, `url`, `title`, `zipcode`, `emp_title`.\n",
    "\n",
    "- **id:** Identificação única atribuída pela LC ao empréstimo;\n",
    "- **member_id:** Identificação única atribuída pela LC ao mutuário;\n",
    "- **url:** URL para a página da LC com dados de listagem;\n",
    "- **title:** O título do empréstimo fornecido pelo mutuário;\n",
    "- **zipcode:** Os 3 primeiros números do código postal fornecidos pelo mutuário no pedido de empréstimo;\n",
    "- **emp_title:** O cargo fornecido pelo mutuário ao solicitar o empréstimo.\n",
    "\n",
    "A variável `sub_grade` também foi descartada, já que traz informações similares a variável `grade`.\n",
    "\n",
    "- **sub_grade:** Subgrau de empréstimo atribuído pela LC;\n",
    "- **grade:** Grau de empréstimo atribuído pela LC.\n",
    "\n",
    "Também foram desconsideradas as variáveis  `collection_recovery_fee` e `total_rec_late_fee`, por serem dados sobre o futuro.\n",
    "\n",
    "- **collection_recovery_fee:** Cobrança de taxa de coleta pelo correio; \n",
    "- **total_rec_late_fee:** Taxas atrasadas recebidas até o momento.\n",
    "- **next_pymnt_d:** Próxima data de pagamento agendada"
   ]
  },
  {
   "cell_type": "code",
   "execution_count": 11,
   "id": "8f5d69f5",
   "metadata": {},
   "outputs": [],
   "source": [
    "raw_data_sample.drop(['id', 'emp_title', 'url', 'title', 'zip_code',  \n",
    "                      'sub_grade', 'collection_recovery_fee', \n",
    "                      'total_rec_late_fee', 'policy_code',\n",
    "                      'next_pymnt_d'], inplace = True, axis = 1)"
   ]
  },
  {
   "cell_type": "code",
   "execution_count": 12,
   "id": "5a6c3b7a",
   "metadata": {
    "scrolled": false
   },
   "outputs": [
    {
     "data": {
      "text/plain": [
       "(877648, 61)"
      ]
     },
     "execution_count": 12,
     "metadata": {},
     "output_type": "execute_result"
    }
   ],
   "source": [
    "raw_data_sample.shape"
   ]
  },
  {
   "cell_type": "markdown",
   "id": "13213358",
   "metadata": {},
   "source": [
    "### Variável `loan_status`\n",
    "\n",
    "A variável dependente `loan_status`, que descreve a situação atual do empréstimo possui vários valores atribuídos e foi utilizada para a criação da variável resposta target."
   ]
  },
  {
   "cell_type": "code",
   "execution_count": 13,
   "id": "54972fb6",
   "metadata": {
    "scrolled": true
   },
   "outputs": [
    {
     "data": {
      "text/plain": [
       "array(['Fully Paid', 'Current', 'Charged Off', 'Late (31-120 days)',\n",
       "       'Late (16-30 days)', 'In Grace Period',\n",
       "       'Does not meet the credit policy. Status:Fully Paid', 'Issued',\n",
       "       'Default', 'Does not meet the credit policy. Status:Charged Off'],\n",
       "      dtype=object)"
      ]
     },
     "execution_count": 13,
     "metadata": {},
     "output_type": "execute_result"
    }
   ],
   "source": [
    "raw_data_sample.loan_status.unique()"
   ]
  },
  {
   "cell_type": "code",
   "execution_count": 14,
   "id": "ce2025df",
   "metadata": {
    "scrolled": true
   },
   "outputs": [
    {
     "data": {
      "image/png": "[encoded data removed]",
      "text/plain": [
       "<Figure size 432x288 with 1 Axes>"
      ]
     },
     "metadata": {
      "needs_background": "light"
     },
     "output_type": "display_data"
    }
   ],
   "source": [
    "plt.title('Distribuição da Variável Status do Empréstimo')\n",
    "sns.countplot(y = raw_data_sample.loan_status);"
   ]
  },
  {
   "cell_type": "code",
   "execution_count": 15,
   "id": "e53a3365",
   "metadata": {
    "scrolled": false
   },
   "outputs": [
    {
     "data": {
      "text/plain": [
       "Fully Paid                                             448809\n",
       "Current                                                309744\n",
       "Charged Off                                            108910\n",
       "Late (31-120 days)                                       4869\n",
       "In Grace Period                                          2978\n",
       "Late (16-30 days)                                         806\n",
       "Issued                                                    599\n",
       "Does not meet the credit policy. Status:Fully Paid        595\n",
       "Does not meet the credit policy. Status:Charged Off       212\n",
       "Default                                                   126\n",
       "Name: loan_status, dtype: int64"
      ]
     },
     "execution_count": 15,
     "metadata": {},
     "output_type": "execute_result"
    }
   ],
   "source": [
    "# cálculo do número de observações para cada valor único da variável\n",
    "raw_data_sample['loan_status'].value_counts()"
   ]
  },
  {
   "cell_type": "code",
   "execution_count": 16,
   "id": "277e53e0",
   "metadata": {
    "scrolled": false
   },
   "outputs": [
    {
     "data": {
      "text/plain": [
       "Fully Paid                                             0.511377\n",
       "Current                                                0.352925\n",
       "Charged Off                                            0.124093\n",
       "Late (31-120 days)                                     0.005548\n",
       "In Grace Period                                        0.003393\n",
       "Late (16-30 days)                                      0.000918\n",
       "Issued                                                 0.000683\n",
       "Does not meet the credit policy. Status:Fully Paid     0.000678\n",
       "Does not meet the credit policy. Status:Charged Off    0.000242\n",
       "Default                                                0.000144\n",
       "Name: loan_status, dtype: float64"
      ]
     },
     "execution_count": 16,
     "metadata": {},
     "output_type": "execute_result"
    }
   ],
   "source": [
    "# proporção de observações para cada valor único da variável\n",
    "raw_data_sample['loan_status'].value_counts() / raw_data_sample['loan_status'].count()"
   ]
  },
  {
   "cell_type": "markdown",
   "id": "653ee419",
   "metadata": {},
   "source": [
    "### Criação da variável dependente `target`\n",
    "\n",
    "Devido a série de valores atribuídos a variável `loan_status`, optou-se por combinar seus valores em apenas dois, sendo que 0 irá representar os clientes \"ruins\", pessoas que entraram em default, e o 1 irá representar os clientes \"bons\", aqueles que não entraram em default."
   ]
  },
  {
   "cell_type": "code",
   "execution_count": 17,
   "id": "237a78a3",
   "metadata": {},
   "outputs": [],
   "source": [
    "# criando a variável target \n",
    "raw_data_sample['target'] = np.where(raw_data_sample['loan_status'].isin(['Charged Off', 'Default',\n",
    "                                                     'Does not meet the credit policy. Status:Charged Off',\n",
    "                                                     'Late (31-120 days)']), 0, 1)"
   ]
  },
  {
   "cell_type": "markdown",
   "id": "0e71f3fc",
   "metadata": {},
   "source": [
    "É perceptível o desbalanceamento das classes, o que poderá influenciar o resultado final. No entanto, será aplicada a técnica de sobreamostragem minoritária sintética [SMOTE](https://imbalanced-learn.org/stable/references/generated/imblearn.over_sampling.SMOTE.html), de modo a equilibrar o conjunto de dados.\n",
    "\n",
    "- 1: O cliente não teve dificuldades de pagamento  \n",
    "- 0: O cliente teve dificuldades de pagamento"
   ]
  },
  {
   "cell_type": "code",
   "execution_count": 18,
   "id": "4159a4db",
   "metadata": {},
   "outputs": [
    {
     "data": {
      "image/png": "[encoded data removed]",
      "text/plain": [
       "<Figure size 432x288 with 1 Axes>"
      ]
     },
     "metadata": {
      "needs_background": "light"
     },
     "output_type": "display_data"
    }
   ],
   "source": [
    "plt.title('Distribuição da Variável Target')\n",
    "sns.countplot(x = raw_data_sample.target, palette = ['red', 'green']);"
   ]
  },
  {
   "cell_type": "markdown",
   "id": "ddb8c056",
   "metadata": {},
   "source": [
    "A porcentagem de default é de 13%."
   ]
  },
  {
   "cell_type": "code",
   "execution_count": 19,
   "id": "ad265a3f",
   "metadata": {},
   "outputs": [
    {
     "data": {
      "text/plain": [
       "1    0.869974\n",
       "0    0.130026\n",
       "Name: target, dtype: float64"
      ]
     },
     "execution_count": 19,
     "metadata": {},
     "output_type": "execute_result"
    }
   ],
   "source": [
    "raw_data_sample.target.value_counts(normalize=True) "
   ]
  },
  {
   "cell_type": "markdown",
   "id": "829fc6f8",
   "metadata": {},
   "source": [
    "### Tratamento dos dados\n",
    "\n",
    "Primeiramente foi realizada a transformação de algumas variáveis do tipo string para o tipo inteiro, sendo elas: \n",
    "- **emp_length:** Tempo de emprego em anos. Os valores possíveis estão entre 0 e 10, onde 0 significa menos de um ano e 10 significa dez ou mais anos;\n",
    "- **term:** O número de pagamentos sobre o empréstimo. Os valores são em meses e podem ser de 36 ou 60;"
   ]
  },
  {
   "cell_type": "code",
   "execution_count": 20,
   "id": "555a1de2",
   "metadata": {},
   "outputs": [
    {
     "data": {
      "text/plain": [
       "array(['10+ years', '3 years', '< 1 year', '7 years', '1 year', nan,\n",
       "       '2 years', '5 years', '6 years', '4 years', '8 years', '9 years'],\n",
       "      dtype=object)"
      ]
     },
     "execution_count": 20,
     "metadata": {},
     "output_type": "execute_result"
    }
   ],
   "source": [
    "raw_data_sample.emp_length.unique()"
   ]
  },
  {
   "cell_type": "markdown",
   "id": "99e1dd40",
   "metadata": {},
   "source": [
    "Empréstimos para pessoas com mais de 10 anos empregadas são mais aprovados do que para as demais."
   ]
  },
  {
   "cell_type": "code",
   "execution_count": 21,
   "id": "d0282bff",
   "metadata": {},
   "outputs": [
    {
     "data": {
      "image/png": "[encoded data removed]",
      "text/plain": [
       "<Figure size 864x288 with 1 Axes>"
      ]
     },
     "metadata": {
      "needs_background": "light"
     },
     "output_type": "display_data"
    }
   ],
   "source": [
    "labels = [ '< 1 year','1 year','2 years','3 years','4 years','5 years','6 years','7 years','8 years','9 years','10+ years']\n",
    "\n",
    "plt.figure(figsize=(12,4))\n",
    "plt.title('Target vs Tempo de Empregado')\n",
    "sns.countplot(x = 'emp_length', data = raw_data_sample, order=labels, hue = 'target', palette = ['red', 'green']);"
   ]
  },
  {
   "cell_type": "code",
   "execution_count": 22,
   "id": "1feb7d55",
   "metadata": {},
   "outputs": [],
   "source": [
    "# substituindo strings\n",
    "raw_data_sample['emp_length'] = raw_data_sample['emp_length'].str.replace('< 1 year', str(0), regex = True)\n",
    "raw_data_sample['emp_length'] = raw_data_sample['emp_length'].str.replace('\\+ years', '', regex = True)\n",
    "raw_data_sample['emp_length'] = raw_data_sample['emp_length'].str.replace(' years', '', regex = True)\n",
    "raw_data_sample['emp_length'] = raw_data_sample['emp_length'].str.replace(' year', '', regex = True)\n",
    "raw_data_sample['emp_length'] = raw_data_sample['emp_length'].replace(np.nan, 0, regex = True)\n",
    "\n",
    "# transformando dados de string para inteiro\n",
    "raw_data_sample['emp_length'] = pd.to_numeric(raw_data_sample['emp_length'])"
   ]
  },
  {
   "cell_type": "code",
   "execution_count": 23,
   "id": "1ea40cba",
   "metadata": {},
   "outputs": [
    {
     "data": {
      "text/plain": [
       "array([10,  3,  0,  7,  1,  2,  5,  6,  4,  8,  9], dtype=int64)"
      ]
     },
     "execution_count": 23,
     "metadata": {},
     "output_type": "execute_result"
    }
   ],
   "source": [
    "raw_data_sample.emp_length.unique()"
   ]
  },
  {
   "cell_type": "code",
   "execution_count": 24,
   "id": "d7abcd12",
   "metadata": {
    "scrolled": true
   },
   "outputs": [
    {
     "data": {
      "text/plain": [
       "array([' 36 months', ' 60 months'], dtype=object)"
      ]
     },
     "execution_count": 24,
     "metadata": {},
     "output_type": "execute_result"
    }
   ],
   "source": [
    "raw_data_sample.term.unique()"
   ]
  },
  {
   "cell_type": "markdown",
   "id": "f8f53e9f",
   "metadata": {},
   "source": [
    "Empréstimos com 36 meses são mais pagos do que os com 60 meses."
   ]
  },
  {
   "cell_type": "code",
   "execution_count": 25,
   "id": "d9045568",
   "metadata": {},
   "outputs": [
    {
     "data": {
      "image/png": "[encoded data removed]",
      "text/plain": [
       "<Figure size 864x288 with 1 Axes>"
      ]
     },
     "metadata": {
      "needs_background": "light"
     },
     "output_type": "display_data"
    }
   ],
   "source": [
    "plt.figure(figsize=(12,4))\n",
    "plt.title('Target vs Parcelas Empréstimo')\n",
    "sns.countplot(x = 'term', data = raw_data_sample, hue = 'target', palette = ['red', 'green']);"
   ]
  },
  {
   "cell_type": "code",
   "execution_count": 26,
   "id": "3ad8ae1b",
   "metadata": {},
   "outputs": [],
   "source": [
    "# substituindo strings\n",
    "raw_data_sample['term'] = raw_data_sample['term'].str.replace(' months', '', regex = True)\n",
    "raw_data_sample['term'] = raw_data_sample['term'].replace(np.nan, 0, regex = True)\n",
    "\n",
    "# transformando dados de string para inteiro\n",
    "raw_data_sample['term'] = pd.to_numeric(raw_data_sample['term'])"
   ]
  },
  {
   "cell_type": "code",
   "execution_count": 27,
   "id": "25a9e7cd",
   "metadata": {},
   "outputs": [
    {
     "data": {
      "text/plain": [
       "array([36, 60], dtype=int64)"
      ]
     },
     "execution_count": 27,
     "metadata": {},
     "output_type": "execute_result"
    }
   ],
   "source": [
    "raw_data_sample.term.unique()"
   ]
  },
  {
   "cell_type": "markdown",
   "id": "0aab3dbd",
   "metadata": {},
   "source": [
    "Agora, foi feita a conversão das variáveis `earliest_cr_line`, `issue_d`, `last_pymnt_d` e `last_credit_pull_d` para o formato de data e hora, e criadas as variáveis `mths_since_earliest_cr_line`,`mths_since_issue_d`, `mths_since_last_pymnt_d` e `mths_since_last_credit_pull_d` que serão utilizadas na regressão.\n",
    "\n",
    "Foi selecionada a data de referência 31-12-2020 para calcular o número de meses que passaram, como se tratam de dados mais antigos.\n",
    "\n",
    "- **earliest_cr_line:** O mês e ano em que foi aberta a linha de crédito mais antiga do mutuário;\n",
    "- **mths_since_earliest_cr_line:** Variável criada para calcular o tempo em meses da abertura da linha de crédito até a data de 31-12-2020;\n",
    "- **issue_d:** Mês e ano em que o empréstimo foi financiado;\n",
    "- **mths_since_issue_d:** Variável criada para calcular o tempo em meses entre a data que o empréstimo foi financiado até a data de 31-12-2020;\n",
    "- **last_credit_pull_d:** O mês mais recente LC retirou crédito para este empréstimo;\n",
    "- **mths_since_last_credit_pull_d:** Variável criada para calcular o tempo em meses entre o mês mais recente LC retirou crédito para o empréstimo até a data de 31-12-2020;"
   ]
  },
  {
   "cell_type": "code",
   "execution_count": 28,
   "id": "33896c45",
   "metadata": {
    "scrolled": false
   },
   "outputs": [
    {
     "data": {
      "text/html": [
       "<div>\n",
       "<style scoped>\n",
       "    .dataframe tbody tr th:only-of-type {\n",
       "        vertical-align: middle;\n",
       "    }\n",
       "\n",
       "    .dataframe tbody tr th {\n",
       "        vertical-align: top;\n",
       "    }\n",
       "\n",
       "    .dataframe thead th {\n",
       "        text-align: right;\n",
       "    }\n",
       "</style>\n",
       "<table border=\"1\" class=\"dataframe\">\n",
       "  <thead>\n",
       "    <tr style=\"text-align: right;\">\n",
       "      <th></th>\n",
       "      <th>earliest_cr_line</th>\n",
       "      <th>issue_d</th>\n",
       "      <th>last_pymnt_d</th>\n",
       "      <th>last_credit_pull_d</th>\n",
       "    </tr>\n",
       "  </thead>\n",
       "  <tbody>\n",
       "    <tr>\n",
       "      <th>2496120</th>\n",
       "      <td>Apr-1998</td>\n",
       "      <td>Apr-2016</td>\n",
       "      <td>Jun-2017</td>\n",
       "      <td>May-2020</td>\n",
       "    </tr>\n",
       "    <tr>\n",
       "      <th>2843117</th>\n",
       "      <td>Sep-2011</td>\n",
       "      <td>Jun-2017</td>\n",
       "      <td>Jan-2020</td>\n",
       "      <td>May-2020</td>\n",
       "    </tr>\n",
       "    <tr>\n",
       "      <th>2115028</th>\n",
       "      <td>Apr-1987</td>\n",
       "      <td>Jun-2015</td>\n",
       "      <td>Nov-2016</td>\n",
       "      <td>Jan-2020</td>\n",
       "    </tr>\n",
       "    <tr>\n",
       "      <th>2257006</th>\n",
       "      <td>Oct-1985</td>\n",
       "      <td>Jan-2015</td>\n",
       "      <td>Feb-2018</td>\n",
       "      <td>Feb-2018</td>\n",
       "    </tr>\n",
       "    <tr>\n",
       "      <th>589992</th>\n",
       "      <td>Feb-2000</td>\n",
       "      <td>Jun-2018</td>\n",
       "      <td>May-2020</td>\n",
       "      <td>May-2020</td>\n",
       "    </tr>\n",
       "    <tr>\n",
       "      <th>...</th>\n",
       "      <td>...</td>\n",
       "      <td>...</td>\n",
       "      <td>...</td>\n",
       "      <td>...</td>\n",
       "    </tr>\n",
       "    <tr>\n",
       "      <th>2418276</th>\n",
       "      <td>Apr-1994</td>\n",
       "      <td>Jan-2016</td>\n",
       "      <td>Nov-2017</td>\n",
       "      <td>May-2020</td>\n",
       "    </tr>\n",
       "    <tr>\n",
       "      <th>406086</th>\n",
       "      <td>Oct-1998</td>\n",
       "      <td>Nov-2017</td>\n",
       "      <td>May-2020</td>\n",
       "      <td>May-2020</td>\n",
       "    </tr>\n",
       "    <tr>\n",
       "      <th>2360030</th>\n",
       "      <td>Oct-2002</td>\n",
       "      <td>Feb-2016</td>\n",
       "      <td>Dec-2016</td>\n",
       "      <td>Jun-2017</td>\n",
       "    </tr>\n",
       "    <tr>\n",
       "      <th>2098817</th>\n",
       "      <td>Jan-1994</td>\n",
       "      <td>Jul-2015</td>\n",
       "      <td>Aug-2017</td>\n",
       "      <td>May-2020</td>\n",
       "    </tr>\n",
       "    <tr>\n",
       "      <th>651477</th>\n",
       "      <td>May-1990</td>\n",
       "      <td>May-2018</td>\n",
       "      <td>May-2020</td>\n",
       "      <td>May-2020</td>\n",
       "    </tr>\n",
       "  </tbody>\n",
       "</table>\n",
       "<p>877648 rows × 4 columns</p>\n",
       "</div>"
      ],
      "text/plain": [
       "        earliest_cr_line   issue_d last_pymnt_d last_credit_pull_d\n",
       "2496120         Apr-1998  Apr-2016     Jun-2017           May-2020\n",
       "2843117         Sep-2011  Jun-2017     Jan-2020           May-2020\n",
       "2115028         Apr-1987  Jun-2015     Nov-2016           Jan-2020\n",
       "2257006         Oct-1985  Jan-2015     Feb-2018           Feb-2018\n",
       "589992          Feb-2000  Jun-2018     May-2020           May-2020\n",
       "...                  ...       ...          ...                ...\n",
       "2418276         Apr-1994  Jan-2016     Nov-2017           May-2020\n",
       "406086          Oct-1998  Nov-2017     May-2020           May-2020\n",
       "2360030         Oct-2002  Feb-2016     Dec-2016           Jun-2017\n",
       "2098817         Jan-1994  Jul-2015     Aug-2017           May-2020\n",
       "651477          May-1990  May-2018     May-2020           May-2020\n",
       "\n",
       "[877648 rows x 4 columns]"
      ]
     },
     "execution_count": 28,
     "metadata": {},
     "output_type": "execute_result"
    }
   ],
   "source": [
    "raw_data_sample[['earliest_cr_line', 'issue_d', 'last_pymnt_d', 'last_credit_pull_d']]"
   ]
  },
  {
   "cell_type": "code",
   "execution_count": 29,
   "id": "8fccc3c2",
   "metadata": {},
   "outputs": [],
   "source": [
    "converte_colunas_data(raw_data_sample, 'issue_d')\n",
    "converte_colunas_data(raw_data_sample, 'last_pymnt_d')\n",
    "converte_colunas_data(raw_data_sample, 'last_credit_pull_d')\n",
    "converte_colunas_data(raw_data_sample, 'earliest_cr_line')"
   ]
  },
  {
   "cell_type": "markdown",
   "id": "887451f5",
   "metadata": {},
   "source": [
    "### Tratando dados faltantes\n",
    "\n",
    "Foram realizados diferentes tratamentos para os dados faltantes que serão descritos a seguir."
   ]
  },
  {
   "cell_type": "markdown",
   "id": "e6bc89f0",
   "metadata": {},
   "source": [
    "Para a variável `annual_inc` foi-se utilizada a média.\n",
    "\n",
    "- **annual_inc:** A renda anual declarada pelo devedor do empréstimo durante o registro."
   ]
  },
  {
   "cell_type": "code",
   "execution_count": 30,
   "id": "777f397e",
   "metadata": {},
   "outputs": [],
   "source": [
    "raw_data_sample['annual_inc'].fillna(raw_data_sample['annual_inc'].mean(), inplace = True)"
   ]
  },
  {
   "cell_type": "markdown",
   "id": "8f246892",
   "metadata": {},
   "source": [
    "`total_rev_hi_lim` o total rotativo crédito/limite de crédito possui alguns valores faltando, então faz sentido que os valores ausentes sejam iguais a `funded_amnt`, O valor total comprometido com esse empréstimo naquele momento."
   ]
  },
  {
   "cell_type": "code",
   "execution_count": 31,
   "id": "86596ace",
   "metadata": {},
   "outputs": [],
   "source": [
    "raw_data_sample['total_rev_hi_lim'].fillna(raw_data_sample['funded_amnt'], inplace = True)"
   ]
  },
  {
   "cell_type": "markdown",
   "id": "257cfa46",
   "metadata": {},
   "source": [
    "Todas as colunas com mais de 80% dos dados faltantes foram retiradas."
   ]
  },
  {
   "cell_type": "code",
   "execution_count": 32,
   "id": "8edeb208",
   "metadata": {},
   "outputs": [],
   "source": [
    "raw_data_sample = raw_data_sample.loc[:, raw_data_sample.isnull().mean() < .8]"
   ]
  },
  {
   "cell_type": "code",
   "execution_count": 33,
   "id": "0056049b",
   "metadata": {
    "scrolled": true
   },
   "outputs": [
    {
     "data": {
      "text/plain": [
       "loan_amnt                         0.00\n",
       "funded_amnt                       0.00\n",
       "funded_amnt_inv                   0.00\n",
       "term                              0.00\n",
       "int_rate                          0.00\n",
       "installment                       0.00\n",
       "grade                             0.00\n",
       "emp_length                        0.00\n",
       "home_ownership                    0.00\n",
       "annual_inc                        0.00\n",
       "verification_status               0.00\n",
       "loan_status                       0.00\n",
       "pymnt_plan                        0.00\n",
       "purpose                           0.00\n",
       "addr_state                        0.00\n",
       "dti                               0.10\n",
       "delinq_2yrs                       0.00\n",
       "inq_last_6mths                    0.00\n",
       "mths_since_last_delinq           52.54\n",
       "open_acc                          0.00\n",
       "pub_rec                           0.00\n",
       "revol_bal                         0.00\n",
       "revol_util                        0.09\n",
       "total_acc                         0.00\n",
       "initial_list_status               0.00\n",
       "out_prncp                         0.00\n",
       "out_prncp_inv                     0.00\n",
       "total_pymnt                       0.00\n",
       "total_pymnt_inv                   0.00\n",
       "total_rec_prncp                   0.00\n",
       "total_rec_int                     0.00\n",
       "recoveries                        0.00\n",
       "last_pymnt_amnt                   0.00\n",
       "collections_12_mths_ex_med        0.00\n",
       "mths_since_last_major_derog      75.33\n",
       "application_type                  0.00\n",
       "acc_now_delinq                    0.00\n",
       "tot_coll_amt                      2.38\n",
       "tot_cur_bal                       2.38\n",
       "open_acc_6m                      29.59\n",
       "open_il_12m                      29.59\n",
       "open_il_24m                      29.59\n",
       "mths_since_rcnt_il               31.65\n",
       "total_bal_il                     29.59\n",
       "il_util                          39.49\n",
       "open_rv_12m                      29.59\n",
       "open_rv_24m                      29.59\n",
       "max_bal_bc                       29.59\n",
       "all_util                         29.61\n",
       "total_rev_hi_lim                  0.00\n",
       "inq_fi                           29.59\n",
       "total_cu_tl                      29.59\n",
       "inq_last_12m                     29.59\n",
       "target                            0.00\n",
       "mths_since_issue_d                0.00\n",
       "mths_since_last_pymnt_d           0.17\n",
       "mths_since_last_credit_pull_d     0.00\n",
       "mths_since_earliest_cr_line       0.00\n",
       "dtype: float64"
      ]
     },
     "execution_count": 33,
     "metadata": {},
     "output_type": "execute_result"
    }
   ],
   "source": [
    "raw_data_sample.isnull().mean().round(4)*100"
   ]
  },
  {
   "cell_type": "markdown",
   "id": "95f5225c",
   "metadata": {},
   "source": [
    "Os demais dados faltantes foram preenchidos com zero."
   ]
  },
  {
   "cell_type": "code",
   "execution_count": 34,
   "id": "f564d98a",
   "metadata": {},
   "outputs": [],
   "source": [
    "raw_data_sample.fillna(0, inplace=True)"
   ]
  },
  {
   "cell_type": "markdown",
   "id": "f35a69db",
   "metadata": {},
   "source": [
    "### Criando dummies\n",
    "\n",
    "Foram criadas variáveis dummies das seguintes variáveis categóricas: `grade`, `home_ownership`, `verification_status`, `purpose`, `initial_list_status`"
   ]
  },
  {
   "cell_type": "code",
   "execution_count": 35,
   "id": "7755d137",
   "metadata": {},
   "outputs": [],
   "source": [
    "var_dummies = [pd.get_dummies(raw_data_sample['grade'], prefix = 'grade', prefix_sep = ':'),\n",
    "               pd.get_dummies(raw_data_sample['home_ownership'], prefix = 'home_ownership', prefix_sep = ':'),\n",
    "               pd.get_dummies(raw_data_sample['verification_status'], prefix = 'verification_status', prefix_sep = ':'),\n",
    "               pd.get_dummies(raw_data_sample['purpose'], prefix = 'purpose', prefix_sep = ':'),\n",
    "               pd.get_dummies(raw_data_sample['initial_list_status'], prefix = 'initial_list_status', prefix_sep = ':')]\n",
    "\n",
    "var_dummies = pd.concat(var_dummies, axis = 1)\n",
    "raw_data_sample = pd.concat([raw_data_sample, var_dummies], axis = 1)"
   ]
  },
  {
   "cell_type": "markdown",
   "id": "78c8cf39",
   "metadata": {},
   "source": [
    "*Há algumas variáveis que não estão em tipos de dados apropriados e foram tratadas.*"
   ]
  },
  {
   "cell_type": "markdown",
   "id": "884f318d",
   "metadata": {},
   "source": [
    "Retirando símbolo % de `int_rate` e `revol_util`\n",
    "\n",
    "- **int_rate:** Taxa de juros sobre o empréstimo;\n",
    "- **revol_util:** Taxa de utilização da linha rotativa, ou a quantidade de crédito que o mutuário está usando em relação a todo crédito rotativo disponível."
   ]
  },
  {
   "cell_type": "code",
   "execution_count": 36,
   "id": "150a4316",
   "metadata": {},
   "outputs": [],
   "source": [
    "raw_data_sample['int_rate'] = raw_data_sample['int_rate'].replace('%', '', regex = True)\n",
    "\n",
    "# convertendo int_rate para número\n",
    "raw_data_sample['int_rate'] = pd.to_numeric(raw_data_sample['int_rate'])"
   ]
  },
  {
   "cell_type": "code",
   "execution_count": 37,
   "id": "5d5deb18",
   "metadata": {},
   "outputs": [
    {
     "data": {
      "image/png": "[encoded data removed]",
      "text/plain": [
       "<Figure size 432x288 with 1 Axes>"
      ]
     },
     "metadata": {
      "needs_background": "light"
     },
     "output_type": "display_data"
    }
   ],
   "source": [
    "sns.kdeplot(raw_data_sample['int_rate'], hue=raw_data_sample['target']);"
   ]
  },
  {
   "cell_type": "code",
   "execution_count": 38,
   "id": "f287bf53",
   "metadata": {},
   "outputs": [],
   "source": [
    "raw_data_sample['revol_util'] = raw_data_sample['revol_util'].replace('%', '', regex = True)\n",
    "\n",
    "# convertendo revol_util para número\n",
    "raw_data_sample['revol_util'] = pd.to_numeric(raw_data_sample['revol_util'])"
   ]
  },
  {
   "cell_type": "code",
   "execution_count": 39,
   "id": "08dbc631",
   "metadata": {},
   "outputs": [],
   "source": [
    "# separandos dados categóricos e numéricos\n",
    "var_cat = raw_data_sample.select_dtypes(exclude = 'number')\n",
    "var_num = raw_data_sample.select_dtypes(exclude = 'object')"
   ]
  },
  {
   "cell_type": "code",
   "execution_count": 40,
   "id": "9657659d",
   "metadata": {},
   "outputs": [
    {
     "name": "stdout",
     "output_type": "stream",
     "text": [
      "<class 'pandas.core.frame.DataFrame'>\n",
      "Int64Index: 877648 entries, 2496120 to 651477\n",
      "Data columns (total 9 columns):\n",
      " #   Column               Non-Null Count   Dtype \n",
      "---  ------               --------------   ----- \n",
      " 0   grade                877648 non-null  object\n",
      " 1   home_ownership       877648 non-null  object\n",
      " 2   verification_status  877648 non-null  object\n",
      " 3   loan_status          877648 non-null  object\n",
      " 4   pymnt_plan           877648 non-null  object\n",
      " 5   purpose              877648 non-null  object\n",
      " 6   addr_state           877648 non-null  object\n",
      " 7   initial_list_status  877648 non-null  object\n",
      " 8   application_type     877648 non-null  object\n",
      "dtypes: object(9)\n",
      "memory usage: 99.2+ MB\n"
     ]
    }
   ],
   "source": [
    "var_cat.info()"
   ]
  },
  {
   "cell_type": "code",
   "execution_count": 41,
   "id": "f7e70b88",
   "metadata": {
    "scrolled": false
   },
   "outputs": [
    {
     "name": "stdout",
     "output_type": "stream",
     "text": [
      "<class 'pandas.core.frame.DataFrame'>\n",
      "Int64Index: 877648 entries, 2496120 to 651477\n",
      "Data columns (total 81 columns):\n",
      " #   Column                               Non-Null Count   Dtype  \n",
      "---  ------                               --------------   -----  \n",
      " 0   loan_amnt                            877648 non-null  float64\n",
      " 1   funded_amnt                          877648 non-null  float64\n",
      " 2   funded_amnt_inv                      877648 non-null  float64\n",
      " 3   term                                 877648 non-null  int64  \n",
      " 4   int_rate                             877648 non-null  float64\n",
      " 5   installment                          877648 non-null  float64\n",
      " 6   emp_length                           877648 non-null  int64  \n",
      " 7   annual_inc                           877648 non-null  float64\n",
      " 8   dti                                  877648 non-null  float64\n",
      " 9   delinq_2yrs                          877648 non-null  float64\n",
      " 10  inq_last_6mths                       877648 non-null  float64\n",
      " 11  mths_since_last_delinq               877648 non-null  float64\n",
      " 12  open_acc                             877648 non-null  float64\n",
      " 13  pub_rec                              877648 non-null  float64\n",
      " 14  revol_bal                            877648 non-null  float64\n",
      " 15  revol_util                           877648 non-null  float64\n",
      " 16  total_acc                            877648 non-null  float64\n",
      " 17  out_prncp                            877648 non-null  float64\n",
      " 18  out_prncp_inv                        877648 non-null  float64\n",
      " 19  total_pymnt                          877648 non-null  float64\n",
      " 20  total_pymnt_inv                      877648 non-null  float64\n",
      " 21  total_rec_prncp                      877648 non-null  float64\n",
      " 22  total_rec_int                        877648 non-null  float64\n",
      " 23  recoveries                           877648 non-null  float64\n",
      " 24  last_pymnt_amnt                      877648 non-null  float64\n",
      " 25  collections_12_mths_ex_med           877648 non-null  float64\n",
      " 26  mths_since_last_major_derog          877648 non-null  float64\n",
      " 27  acc_now_delinq                       877648 non-null  float64\n",
      " 28  tot_coll_amt                         877648 non-null  float64\n",
      " 29  tot_cur_bal                          877648 non-null  float64\n",
      " 30  open_acc_6m                          877648 non-null  float64\n",
      " 31  open_il_12m                          877648 non-null  float64\n",
      " 32  open_il_24m                          877648 non-null  float64\n",
      " 33  mths_since_rcnt_il                   877648 non-null  float64\n",
      " 34  total_bal_il                         877648 non-null  float64\n",
      " 35  il_util                              877648 non-null  float64\n",
      " 36  open_rv_12m                          877648 non-null  float64\n",
      " 37  open_rv_24m                          877648 non-null  float64\n",
      " 38  max_bal_bc                           877648 non-null  float64\n",
      " 39  all_util                             877648 non-null  float64\n",
      " 40  total_rev_hi_lim                     877648 non-null  float64\n",
      " 41  inq_fi                               877648 non-null  float64\n",
      " 42  total_cu_tl                          877648 non-null  float64\n",
      " 43  inq_last_12m                         877648 non-null  float64\n",
      " 44  target                               877648 non-null  int32  \n",
      " 45  mths_since_issue_d                   877648 non-null  float64\n",
      " 46  mths_since_last_pymnt_d              877648 non-null  float64\n",
      " 47  mths_since_last_credit_pull_d        877648 non-null  float64\n",
      " 48  mths_since_earliest_cr_line          877648 non-null  float64\n",
      " 49  grade:A                              877648 non-null  uint8  \n",
      " 50  grade:B                              877648 non-null  uint8  \n",
      " 51  grade:C                              877648 non-null  uint8  \n",
      " 52  grade:D                              877648 non-null  uint8  \n",
      " 53  grade:E                              877648 non-null  uint8  \n",
      " 54  grade:F                              877648 non-null  uint8  \n",
      " 55  grade:G                              877648 non-null  uint8  \n",
      " 56  home_ownership:ANY                   877648 non-null  uint8  \n",
      " 57  home_ownership:MORTGAGE              877648 non-null  uint8  \n",
      " 58  home_ownership:NONE                  877648 non-null  uint8  \n",
      " 59  home_ownership:OTHER                 877648 non-null  uint8  \n",
      " 60  home_ownership:OWN                   877648 non-null  uint8  \n",
      " 61  home_ownership:RENT                  877648 non-null  uint8  \n",
      " 62  verification_status:Not Verified     877648 non-null  uint8  \n",
      " 63  verification_status:Source Verified  877648 non-null  uint8  \n",
      " 64  verification_status:Verified         877648 non-null  uint8  \n",
      " 65  purpose:car                          877648 non-null  uint8  \n",
      " 66  purpose:credit_card                  877648 non-null  uint8  \n",
      " 67  purpose:debt_consolidation           877648 non-null  uint8  \n",
      " 68  purpose:educational                  877648 non-null  uint8  \n",
      " 69  purpose:home_improvement             877648 non-null  uint8  \n",
      " 70  purpose:house                        877648 non-null  uint8  \n",
      " 71  purpose:major_purchase               877648 non-null  uint8  \n",
      " 72  purpose:medical                      877648 non-null  uint8  \n",
      " 73  purpose:moving                       877648 non-null  uint8  \n",
      " 74  purpose:other                        877648 non-null  uint8  \n",
      " 75  purpose:renewable_energy             877648 non-null  uint8  \n",
      " 76  purpose:small_business               877648 non-null  uint8  \n",
      " 77  purpose:vacation                     877648 non-null  uint8  \n",
      " 78  purpose:wedding                      877648 non-null  uint8  \n",
      " 79  initial_list_status:f                877648 non-null  uint8  \n",
      " 80  initial_list_status:w                877648 non-null  uint8  \n",
      "dtypes: float64(46), int32(1), int64(2), uint8(32)\n",
      "memory usage: 390.5 MB\n"
     ]
    }
   ],
   "source": [
    "var_num.info()"
   ]
  },
  {
   "cell_type": "markdown",
   "id": "e401d36b",
   "metadata": {},
   "source": [
    "### Tratando dados duplicados\n",
    "\n",
    "Mediante verificação realizada não há dados duplicados, então não foi necessária nenhuma medida quanto a isso."
   ]
  },
  {
   "cell_type": "code",
   "execution_count": 42,
   "id": "63a05c70",
   "metadata": {},
   "outputs": [
    {
     "data": {
      "text/html": [
       "<div>\n",
       "<style scoped>\n",
       "    .dataframe tbody tr th:only-of-type {\n",
       "        vertical-align: middle;\n",
       "    }\n",
       "\n",
       "    .dataframe tbody tr th {\n",
       "        vertical-align: top;\n",
       "    }\n",
       "\n",
       "    .dataframe thead th {\n",
       "        text-align: right;\n",
       "    }\n",
       "</style>\n",
       "<table border=\"1\" class=\"dataframe\">\n",
       "  <thead>\n",
       "    <tr style=\"text-align: right;\">\n",
       "      <th></th>\n",
       "      <th>loan_amnt</th>\n",
       "      <th>funded_amnt</th>\n",
       "      <th>funded_amnt_inv</th>\n",
       "      <th>term</th>\n",
       "      <th>int_rate</th>\n",
       "      <th>installment</th>\n",
       "      <th>grade</th>\n",
       "      <th>emp_length</th>\n",
       "      <th>home_ownership</th>\n",
       "      <th>annual_inc</th>\n",
       "      <th>...</th>\n",
       "      <th>purpose:major_purchase</th>\n",
       "      <th>purpose:medical</th>\n",
       "      <th>purpose:moving</th>\n",
       "      <th>purpose:other</th>\n",
       "      <th>purpose:renewable_energy</th>\n",
       "      <th>purpose:small_business</th>\n",
       "      <th>purpose:vacation</th>\n",
       "      <th>purpose:wedding</th>\n",
       "      <th>initial_list_status:f</th>\n",
       "      <th>initial_list_status:w</th>\n",
       "    </tr>\n",
       "  </thead>\n",
       "  <tbody>\n",
       "  </tbody>\n",
       "</table>\n",
       "<p>0 rows × 90 columns</p>\n",
       "</div>"
      ],
      "text/plain": [
       "Empty DataFrame\n",
       "Columns: [loan_amnt, funded_amnt, funded_amnt_inv, term, int_rate, installment, grade, emp_length, home_ownership, annual_inc, verification_status, loan_status, pymnt_plan, purpose, addr_state, dti, delinq_2yrs, inq_last_6mths, mths_since_last_delinq, open_acc, pub_rec, revol_bal, revol_util, total_acc, initial_list_status, out_prncp, out_prncp_inv, total_pymnt, total_pymnt_inv, total_rec_prncp, total_rec_int, recoveries, last_pymnt_amnt, collections_12_mths_ex_med, mths_since_last_major_derog, application_type, acc_now_delinq, tot_coll_amt, tot_cur_bal, open_acc_6m, open_il_12m, open_il_24m, mths_since_rcnt_il, total_bal_il, il_util, open_rv_12m, open_rv_24m, max_bal_bc, all_util, total_rev_hi_lim, inq_fi, total_cu_tl, inq_last_12m, target, mths_since_issue_d, mths_since_last_pymnt_d, mths_since_last_credit_pull_d, mths_since_earliest_cr_line, grade:A, grade:B, grade:C, grade:D, grade:E, grade:F, grade:G, home_ownership:ANY, home_ownership:MORTGAGE, home_ownership:NONE, home_ownership:OTHER, home_ownership:OWN, home_ownership:RENT, verification_status:Not Verified, verification_status:Source Verified, verification_status:Verified, purpose:car, purpose:credit_card, purpose:debt_consolidation, purpose:educational, purpose:home_improvement, purpose:house, purpose:major_purchase, purpose:medical, purpose:moving, purpose:other, purpose:renewable_energy, purpose:small_business, purpose:vacation, purpose:wedding, initial_list_status:f, initial_list_status:w]\n",
       "Index: []\n",
       "\n",
       "[0 rows x 90 columns]"
      ]
     },
     "execution_count": 42,
     "metadata": {},
     "output_type": "execute_result"
    }
   ],
   "source": [
    "raw_data_sample[raw_data_sample.duplicated()]"
   ]
  },
  {
   "cell_type": "markdown",
   "id": "d61d9fcf",
   "metadata": {},
   "source": [
    "### Correlação\n",
    "\n",
    "Pela tabela de correlação abaixo foi possível verificar a multicolinearidade de algumas variáveis que foram retiradas\n",
    "\n",
    "Essas variáveis apresentaram correlação forte, entre 0.6 a 0.9, ou muito forte, acima de 0.9."
   ]
  },
  {
   "cell_type": "code",
   "execution_count": 43,
   "id": "f3f9284f",
   "metadata": {},
   "outputs": [],
   "source": [
    "correlacoes = raw_data_sample.corr().unstack().sort_values().drop_duplicates()"
   ]
  },
  {
   "cell_type": "code",
   "execution_count": 44,
   "id": "c6fad6ce",
   "metadata": {},
   "outputs": [
    {
     "data": {
      "text/plain": [
       "total_bal_il                   il_util                        0.502651\n",
       "total_rec_int                  total_rec_prncp                0.513951\n",
       "installment                    total_rec_int                  0.515313\n",
       "il_util                        open_il_12m                    0.518310\n",
       "open_il_24m                    inq_fi                         0.518951\n",
       "total_pymnt                    last_pymnt_amnt                0.559071\n",
       "last_pymnt_amnt                total_pymnt_inv                0.559082\n",
       "mths_since_last_credit_pull_d  mths_since_issue_d             0.561399\n",
       "mths_since_last_delinq         mths_since_last_major_derog    0.566554\n",
       "total_rec_int                  funded_amnt_inv                0.578740\n",
       "funded_amnt                    total_rec_int                  0.579114\n",
       "total_rec_int                  loan_amnt                      0.579189\n",
       "open_rv_24m                    open_acc_6m                    0.588018\n",
       "funded_amnt_inv                total_rec_prncp                0.596732\n",
       "funded_amnt                    total_rec_prncp                0.597466\n",
       "total_rec_prncp                loan_amnt                      0.597490\n",
       "il_util                        open_il_24m                    0.599306\n",
       "total_rec_prncp                installment                    0.613864\n",
       "inq_last_12m                   inq_fi                         0.619975\n",
       "last_pymnt_amnt                total_rec_prncp                0.645092\n",
       "mths_since_last_credit_pull_d  mths_since_last_pymnt_d        0.651581\n",
       "installment                    total_pymnt_inv                0.663066\n",
       "total_pymnt                    installment                    0.663111\n",
       "funded_amnt_inv                total_pymnt                    0.665864\n",
       "total_pymnt                    funded_amnt                    0.666598\n",
       "                               loan_amnt                      0.666639\n",
       "funded_amnt                    total_pymnt_inv                0.666714\n",
       "loan_amnt                      total_pymnt_inv                0.666715\n",
       "funded_amnt_inv                total_pymnt_inv                0.666849\n",
       "open_rv_12m                    open_acc_6m                    0.686724\n",
       "total_rec_int                  total_pymnt_inv                0.706227\n",
       "total_pymnt                    total_rec_int                  0.706389\n",
       "open_acc                       total_acc                      0.721635\n",
       "il_util                        all_util                       0.776241\n",
       "revol_bal                      total_rev_hi_lim               0.784741\n",
       "open_il_12m                    open_il_24m                    0.790815\n",
       "open_rv_24m                    open_rv_12m                    0.825465\n",
       "mths_since_last_pymnt_d        mths_since_issue_d             0.856621\n",
       "installment                    funded_amnt_inv                0.943146\n",
       "                               loan_amnt                      0.943579\n",
       "                               funded_amnt                    0.943807\n",
       "total_rec_prncp                total_pymnt_inv                0.965818\n",
       "                               total_pymnt                    0.966296\n",
       "loan_amnt                      funded_amnt_inv                0.999301\n",
       "funded_amnt                    funded_amnt_inv                0.999511\n",
       "total_pymnt                    total_pymnt_inv                0.999550\n",
       "loan_amnt                      funded_amnt                    0.999834\n",
       "out_prncp                      out_prncp_inv                  0.999998\n",
       "loan_amnt                      loan_amnt                      1.000000\n",
       "dtype: float64"
      ]
     },
     "execution_count": 44,
     "metadata": {},
     "output_type": "execute_result"
    }
   ],
   "source": [
    "correlacoes[correlacoes.values > 0.5]"
   ]
  },
  {
   "cell_type": "code",
   "execution_count": 45,
   "id": "bbce769d",
   "metadata": {},
   "outputs": [
    {
     "data": {
      "text/plain": [
       "initial_list_status:f             initial_list_status:w                 -1.000000\n",
       "home_ownership:MORTGAGE           home_ownership:RENT                   -0.792745\n",
       "mths_since_issue_d                all_util                              -0.632077\n",
       "purpose:credit_card               purpose:debt_consolidation            -0.629222\n",
       "grade:A                           int_rate                              -0.628877\n",
       "verification_status:Not Verified  verification_status:Source Verified   -0.605743\n",
       "all_util                          mths_since_last_pymnt_d               -0.577401\n",
       "mths_since_issue_d                il_util                               -0.554992\n",
       "out_prncp                         mths_since_issue_d                    -0.549072\n",
       "mths_since_issue_d                out_prncp_inv                         -0.549034\n",
       "recoveries                        target                                -0.519205\n",
       "dtype: float64"
      ]
     },
     "execution_count": 45,
     "metadata": {},
     "output_type": "execute_result"
    }
   ],
   "source": [
    "correlacoes[correlacoes.values < -0.5]"
   ]
  },
  {
   "cell_type": "code",
   "execution_count": 46,
   "id": "c691765c",
   "metadata": {},
   "outputs": [],
   "source": [
    "# retirando variáveis multicolineares \n",
    "dados_WoE_VI = raw_data_sample.drop(['initial_list_status:w', 'home_ownership:RENT', 'all_util', \n",
    "                                     'purpose:debt_consolidation', 'verification_status:Source Verified',\n",
    "                                     'il_util', 'out_prncp', 'out_prncp_inv', 'total_rec_int', \n",
    "                                     'total_pymnt_inv', 'inq_fi','total_pymnt', 'mths_since_last_major_derog', \n",
    "                                     'mths_since_last_credit_pull_d', 'open_rv_24m', 'open_rv_12m', \n",
    "                                     'revol_bal','open_il_24m', 'loan_amnt','mths_since_last_pymnt_d', \n",
    "                                     'open_acc', 'funded_amnt_inv', 'installment', 'grade:A'], axis = 1)"
   ]
  },
  {
   "cell_type": "markdown",
   "id": "efafe49f",
   "metadata": {},
   "source": [
    "*Obs.: a variável total_rec_prncp, principal recebido até o momento, foi deixada no dataset para o cálculo do fator de conversão de crédito, mas não será utilizada no modelo de probalidade de inadimplência. Como pode-se perceber sua correlação é de 0.6 com funded_amnt e uma das duas variáveis deveria ser retirada.* \n",
    "\n",
    "*O mesmo acontece com loan_status e recoveries, também foram deixadas por serem necessárias aos cálculos de índice por inadimplência*"
   ]
  },
  {
   "cell_type": "markdown",
   "id": "20c2705f",
   "metadata": {},
   "source": [
    "### Estatísticas descritivas"
   ]
  },
  {
   "cell_type": "code",
   "execution_count": 47,
   "id": "937443a6",
   "metadata": {
    "scrolled": false
   },
   "outputs": [
    {
     "name": "stdout",
     "output_type": "stream",
     "text": [
      "<class 'pandas.core.frame.DataFrame'>\n",
      "Int64Index: 877648 entries, 2496120 to 651477\n",
      "Data columns (total 66 columns):\n",
      " #   Column                            Non-Null Count   Dtype  \n",
      "---  ------                            --------------   -----  \n",
      " 0   funded_amnt                       877648 non-null  float64\n",
      " 1   term                              877648 non-null  int64  \n",
      " 2   int_rate                          877648 non-null  float64\n",
      " 3   grade                             877648 non-null  object \n",
      " 4   emp_length                        877648 non-null  int64  \n",
      " 5   home_ownership                    877648 non-null  object \n",
      " 6   annual_inc                        877648 non-null  float64\n",
      " 7   verification_status               877648 non-null  object \n",
      " 8   loan_status                       877648 non-null  object \n",
      " 9   pymnt_plan                        877648 non-null  object \n",
      " 10  purpose                           877648 non-null  object \n",
      " 11  addr_state                        877648 non-null  object \n",
      " 12  dti                               877648 non-null  float64\n",
      " 13  delinq_2yrs                       877648 non-null  float64\n",
      " 14  inq_last_6mths                    877648 non-null  float64\n",
      " 15  mths_since_last_delinq            877648 non-null  float64\n",
      " 16  pub_rec                           877648 non-null  float64\n",
      " 17  revol_util                        877648 non-null  float64\n",
      " 18  total_acc                         877648 non-null  float64\n",
      " 19  initial_list_status               877648 non-null  object \n",
      " 20  total_rec_prncp                   877648 non-null  float64\n",
      " 21  recoveries                        877648 non-null  float64\n",
      " 22  last_pymnt_amnt                   877648 non-null  float64\n",
      " 23  collections_12_mths_ex_med        877648 non-null  float64\n",
      " 24  application_type                  877648 non-null  object \n",
      " 25  acc_now_delinq                    877648 non-null  float64\n",
      " 26  tot_coll_amt                      877648 non-null  float64\n",
      " 27  tot_cur_bal                       877648 non-null  float64\n",
      " 28  open_acc_6m                       877648 non-null  float64\n",
      " 29  open_il_12m                       877648 non-null  float64\n",
      " 30  mths_since_rcnt_il                877648 non-null  float64\n",
      " 31  total_bal_il                      877648 non-null  float64\n",
      " 32  max_bal_bc                        877648 non-null  float64\n",
      " 33  total_rev_hi_lim                  877648 non-null  float64\n",
      " 34  total_cu_tl                       877648 non-null  float64\n",
      " 35  inq_last_12m                      877648 non-null  float64\n",
      " 36  target                            877648 non-null  int32  \n",
      " 37  mths_since_issue_d                877648 non-null  float64\n",
      " 38  mths_since_earliest_cr_line       877648 non-null  float64\n",
      " 39  grade:B                           877648 non-null  uint8  \n",
      " 40  grade:C                           877648 non-null  uint8  \n",
      " 41  grade:D                           877648 non-null  uint8  \n",
      " 42  grade:E                           877648 non-null  uint8  \n",
      " 43  grade:F                           877648 non-null  uint8  \n",
      " 44  grade:G                           877648 non-null  uint8  \n",
      " 45  home_ownership:ANY                877648 non-null  uint8  \n",
      " 46  home_ownership:MORTGAGE           877648 non-null  uint8  \n",
      " 47  home_ownership:NONE               877648 non-null  uint8  \n",
      " 48  home_ownership:OTHER              877648 non-null  uint8  \n",
      " 49  home_ownership:OWN                877648 non-null  uint8  \n",
      " 50  verification_status:Not Verified  877648 non-null  uint8  \n",
      " 51  verification_status:Verified      877648 non-null  uint8  \n",
      " 52  purpose:car                       877648 non-null  uint8  \n",
      " 53  purpose:credit_card               877648 non-null  uint8  \n",
      " 54  purpose:educational               877648 non-null  uint8  \n",
      " 55  purpose:home_improvement          877648 non-null  uint8  \n",
      " 56  purpose:house                     877648 non-null  uint8  \n",
      " 57  purpose:major_purchase            877648 non-null  uint8  \n",
      " 58  purpose:medical                   877648 non-null  uint8  \n",
      " 59  purpose:moving                    877648 non-null  uint8  \n",
      " 60  purpose:other                     877648 non-null  uint8  \n",
      " 61  purpose:renewable_energy          877648 non-null  uint8  \n",
      " 62  purpose:small_business            877648 non-null  uint8  \n",
      " 63  purpose:vacation                  877648 non-null  uint8  \n",
      " 64  purpose:wedding                   877648 non-null  uint8  \n",
      " 65  initial_list_status:f             877648 non-null  uint8  \n",
      "dtypes: float64(27), int32(1), int64(2), object(9), uint8(27)\n",
      "memory usage: 319.3+ MB\n"
     ]
    }
   ],
   "source": [
    "# nomes e tipos de dados das colunas\n",
    "dados_WoE_VI.info()"
   ]
  },
  {
   "cell_type": "code",
   "execution_count": 48,
   "id": "87c405ec",
   "metadata": {},
   "outputs": [
    {
     "data": {
      "text/html": [
       "<div>\n",
       "<style scoped>\n",
       "    .dataframe tbody tr th:only-of-type {\n",
       "        vertical-align: middle;\n",
       "    }\n",
       "\n",
       "    .dataframe tbody tr th {\n",
       "        vertical-align: top;\n",
       "    }\n",
       "\n",
       "    .dataframe thead th {\n",
       "        text-align: right;\n",
       "    }\n",
       "</style>\n",
       "<table border=\"1\" class=\"dataframe\">\n",
       "  <thead>\n",
       "    <tr style=\"text-align: right;\">\n",
       "      <th></th>\n",
       "      <th>funded_amnt</th>\n",
       "      <th>term</th>\n",
       "      <th>int_rate</th>\n",
       "      <th>emp_length</th>\n",
       "      <th>annual_inc</th>\n",
       "      <th>dti</th>\n",
       "      <th>delinq_2yrs</th>\n",
       "      <th>inq_last_6mths</th>\n",
       "      <th>mths_since_last_delinq</th>\n",
       "      <th>pub_rec</th>\n",
       "      <th>...</th>\n",
       "      <th>purpose:house</th>\n",
       "      <th>purpose:major_purchase</th>\n",
       "      <th>purpose:medical</th>\n",
       "      <th>purpose:moving</th>\n",
       "      <th>purpose:other</th>\n",
       "      <th>purpose:renewable_energy</th>\n",
       "      <th>purpose:small_business</th>\n",
       "      <th>purpose:vacation</th>\n",
       "      <th>purpose:wedding</th>\n",
       "      <th>initial_list_status:f</th>\n",
       "    </tr>\n",
       "  </thead>\n",
       "  <tbody>\n",
       "    <tr>\n",
       "      <th>count</th>\n",
       "      <td>877648.000000</td>\n",
       "      <td>877648.000000</td>\n",
       "      <td>877648.000000</td>\n",
       "      <td>877648.000000</td>\n",
       "      <td>8.776480e+05</td>\n",
       "      <td>877648.000000</td>\n",
       "      <td>877648.000000</td>\n",
       "      <td>877648.000000</td>\n",
       "      <td>877648.000000</td>\n",
       "      <td>877648.000000</td>\n",
       "      <td>...</td>\n",
       "      <td>877648.000000</td>\n",
       "      <td>877648.000000</td>\n",
       "      <td>877648.000000</td>\n",
       "      <td>877648.000000</td>\n",
       "      <td>877648.000000</td>\n",
       "      <td>877648.000000</td>\n",
       "      <td>877648.000000</td>\n",
       "      <td>877648.000000</td>\n",
       "      <td>877648.000000</td>\n",
       "      <td>877648.000000</td>\n",
       "    </tr>\n",
       "    <tr>\n",
       "      <th>mean</th>\n",
       "      <td>15345.913396</td>\n",
       "      <td>43.094872</td>\n",
       "      <td>13.043788</td>\n",
       "      <td>5.418130</td>\n",
       "      <td>7.999860e+04</td>\n",
       "      <td>19.290343</td>\n",
       "      <td>0.288651</td>\n",
       "      <td>0.553079</td>\n",
       "      <td>16.608563</td>\n",
       "      <td>0.175903</td>\n",
       "      <td>...</td>\n",
       "      <td>0.006836</td>\n",
       "      <td>0.021460</td>\n",
       "      <td>0.011997</td>\n",
       "      <td>0.006465</td>\n",
       "      <td>0.061006</td>\n",
       "      <td>0.000563</td>\n",
       "      <td>0.010189</td>\n",
       "      <td>0.006933</td>\n",
       "      <td>0.000785</td>\n",
       "      <td>0.268455</td>\n",
       "    </tr>\n",
       "    <tr>\n",
       "      <th>std</th>\n",
       "      <td>9466.009368</td>\n",
       "      <td>10.951706</td>\n",
       "      <td>4.859772</td>\n",
       "      <td>3.912846</td>\n",
       "      <td>1.435073e+05</td>\n",
       "      <td>16.019488</td>\n",
       "      <td>0.843553</td>\n",
       "      <td>0.858343</td>\n",
       "      <td>23.092241</td>\n",
       "      <td>0.536300</td>\n",
       "      <td>...</td>\n",
       "      <td>0.082400</td>\n",
       "      <td>0.144911</td>\n",
       "      <td>0.108871</td>\n",
       "      <td>0.080145</td>\n",
       "      <td>0.239342</td>\n",
       "      <td>0.023718</td>\n",
       "      <td>0.100423</td>\n",
       "      <td>0.082977</td>\n",
       "      <td>0.028008</td>\n",
       "      <td>0.443156</td>\n",
       "    </tr>\n",
       "    <tr>\n",
       "      <th>min</th>\n",
       "      <td>500.000000</td>\n",
       "      <td>36.000000</td>\n",
       "      <td>5.310000</td>\n",
       "      <td>0.000000</td>\n",
       "      <td>0.000000e+00</td>\n",
       "      <td>0.000000</td>\n",
       "      <td>0.000000</td>\n",
       "      <td>0.000000</td>\n",
       "      <td>0.000000</td>\n",
       "      <td>0.000000</td>\n",
       "      <td>...</td>\n",
       "      <td>0.000000</td>\n",
       "      <td>0.000000</td>\n",
       "      <td>0.000000</td>\n",
       "      <td>0.000000</td>\n",
       "      <td>0.000000</td>\n",
       "      <td>0.000000</td>\n",
       "      <td>0.000000</td>\n",
       "      <td>0.000000</td>\n",
       "      <td>0.000000</td>\n",
       "      <td>0.000000</td>\n",
       "    </tr>\n",
       "    <tr>\n",
       "      <th>25%</th>\n",
       "      <td>8000.000000</td>\n",
       "      <td>36.000000</td>\n",
       "      <td>9.170000</td>\n",
       "      <td>2.000000</td>\n",
       "      <td>4.700000e+04</td>\n",
       "      <td>12.050000</td>\n",
       "      <td>0.000000</td>\n",
       "      <td>0.000000</td>\n",
       "      <td>0.000000</td>\n",
       "      <td>0.000000</td>\n",
       "      <td>...</td>\n",
       "      <td>0.000000</td>\n",
       "      <td>0.000000</td>\n",
       "      <td>0.000000</td>\n",
       "      <td>0.000000</td>\n",
       "      <td>0.000000</td>\n",
       "      <td>0.000000</td>\n",
       "      <td>0.000000</td>\n",
       "      <td>0.000000</td>\n",
       "      <td>0.000000</td>\n",
       "      <td>0.000000</td>\n",
       "    </tr>\n",
       "    <tr>\n",
       "      <th>50%</th>\n",
       "      <td>13000.000000</td>\n",
       "      <td>36.000000</td>\n",
       "      <td>12.490000</td>\n",
       "      <td>5.000000</td>\n",
       "      <td>6.600000e+04</td>\n",
       "      <td>18.070000</td>\n",
       "      <td>0.000000</td>\n",
       "      <td>0.000000</td>\n",
       "      <td>0.000000</td>\n",
       "      <td>0.000000</td>\n",
       "      <td>...</td>\n",
       "      <td>0.000000</td>\n",
       "      <td>0.000000</td>\n",
       "      <td>0.000000</td>\n",
       "      <td>0.000000</td>\n",
       "      <td>0.000000</td>\n",
       "      <td>0.000000</td>\n",
       "      <td>0.000000</td>\n",
       "      <td>0.000000</td>\n",
       "      <td>0.000000</td>\n",
       "      <td>0.000000</td>\n",
       "    </tr>\n",
       "    <tr>\n",
       "      <th>75%</th>\n",
       "      <td>20000.000000</td>\n",
       "      <td>60.000000</td>\n",
       "      <td>15.990000</td>\n",
       "      <td>10.000000</td>\n",
       "      <td>9.500000e+04</td>\n",
       "      <td>24.870000</td>\n",
       "      <td>0.000000</td>\n",
       "      <td>1.000000</td>\n",
       "      <td>30.000000</td>\n",
       "      <td>0.000000</td>\n",
       "      <td>...</td>\n",
       "      <td>0.000000</td>\n",
       "      <td>0.000000</td>\n",
       "      <td>0.000000</td>\n",
       "      <td>0.000000</td>\n",
       "      <td>0.000000</td>\n",
       "      <td>0.000000</td>\n",
       "      <td>0.000000</td>\n",
       "      <td>0.000000</td>\n",
       "      <td>0.000000</td>\n",
       "      <td>1.000000</td>\n",
       "    </tr>\n",
       "    <tr>\n",
       "      <th>95%</th>\n",
       "      <td>35000.000000</td>\n",
       "      <td>60.000000</td>\n",
       "      <td>22.350000</td>\n",
       "      <td>10.000000</td>\n",
       "      <td>1.686273e+05</td>\n",
       "      <td>34.690000</td>\n",
       "      <td>2.000000</td>\n",
       "      <td>2.000000</td>\n",
       "      <td>68.000000</td>\n",
       "      <td>1.000000</td>\n",
       "      <td>...</td>\n",
       "      <td>0.000000</td>\n",
       "      <td>0.000000</td>\n",
       "      <td>0.000000</td>\n",
       "      <td>0.000000</td>\n",
       "      <td>1.000000</td>\n",
       "      <td>0.000000</td>\n",
       "      <td>0.000000</td>\n",
       "      <td>0.000000</td>\n",
       "      <td>0.000000</td>\n",
       "      <td>1.000000</td>\n",
       "    </tr>\n",
       "    <tr>\n",
       "      <th>99%</th>\n",
       "      <td>40000.000000</td>\n",
       "      <td>60.000000</td>\n",
       "      <td>27.270000</td>\n",
       "      <td>10.000000</td>\n",
       "      <td>2.800000e+05</td>\n",
       "      <td>48.320000</td>\n",
       "      <td>4.000000</td>\n",
       "      <td>3.000000</td>\n",
       "      <td>79.000000</td>\n",
       "      <td>2.000000</td>\n",
       "      <td>...</td>\n",
       "      <td>0.000000</td>\n",
       "      <td>1.000000</td>\n",
       "      <td>1.000000</td>\n",
       "      <td>0.000000</td>\n",
       "      <td>1.000000</td>\n",
       "      <td>0.000000</td>\n",
       "      <td>1.000000</td>\n",
       "      <td>0.000000</td>\n",
       "      <td>0.000000</td>\n",
       "      <td>1.000000</td>\n",
       "    </tr>\n",
       "    <tr>\n",
       "      <th>max</th>\n",
       "      <td>40000.000000</td>\n",
       "      <td>60.000000</td>\n",
       "      <td>30.990000</td>\n",
       "      <td>10.000000</td>\n",
       "      <td>1.100000e+08</td>\n",
       "      <td>999.000000</td>\n",
       "      <td>58.000000</td>\n",
       "      <td>32.000000</td>\n",
       "      <td>226.000000</td>\n",
       "      <td>86.000000</td>\n",
       "      <td>...</td>\n",
       "      <td>1.000000</td>\n",
       "      <td>1.000000</td>\n",
       "      <td>1.000000</td>\n",
       "      <td>1.000000</td>\n",
       "      <td>1.000000</td>\n",
       "      <td>1.000000</td>\n",
       "      <td>1.000000</td>\n",
       "      <td>1.000000</td>\n",
       "      <td>1.000000</td>\n",
       "      <td>1.000000</td>\n",
       "    </tr>\n",
       "  </tbody>\n",
       "</table>\n",
       "<p>10 rows × 57 columns</p>\n",
       "</div>"
      ],
      "text/plain": [
       "         funded_amnt           term       int_rate     emp_length  \\\n",
       "count  877648.000000  877648.000000  877648.000000  877648.000000   \n",
       "mean    15345.913396      43.094872      13.043788       5.418130   \n",
       "std      9466.009368      10.951706       4.859772       3.912846   \n",
       "min       500.000000      36.000000       5.310000       0.000000   \n",
       "25%      8000.000000      36.000000       9.170000       2.000000   \n",
       "50%     13000.000000      36.000000      12.490000       5.000000   \n",
       "75%     20000.000000      60.000000      15.990000      10.000000   \n",
       "95%     35000.000000      60.000000      22.350000      10.000000   \n",
       "99%     40000.000000      60.000000      27.270000      10.000000   \n",
       "max     40000.000000      60.000000      30.990000      10.000000   \n",
       "\n",
       "         annual_inc            dti    delinq_2yrs  inq_last_6mths  \\\n",
       "count  8.776480e+05  877648.000000  877648.000000   877648.000000   \n",
       "mean   7.999860e+04      19.290343       0.288651        0.553079   \n",
       "std    1.435073e+05      16.019488       0.843553        0.858343   \n",
       "min    0.000000e+00       0.000000       0.000000        0.000000   \n",
       "25%    4.700000e+04      12.050000       0.000000        0.000000   \n",
       "50%    6.600000e+04      18.070000       0.000000        0.000000   \n",
       "75%    9.500000e+04      24.870000       0.000000        1.000000   \n",
       "95%    1.686273e+05      34.690000       2.000000        2.000000   \n",
       "99%    2.800000e+05      48.320000       4.000000        3.000000   \n",
       "max    1.100000e+08     999.000000      58.000000       32.000000   \n",
       "\n",
       "       mths_since_last_delinq        pub_rec  ...  purpose:house  \\\n",
       "count           877648.000000  877648.000000  ...  877648.000000   \n",
       "mean                16.608563       0.175903  ...       0.006836   \n",
       "std                 23.092241       0.536300  ...       0.082400   \n",
       "min                  0.000000       0.000000  ...       0.000000   \n",
       "25%                  0.000000       0.000000  ...       0.000000   \n",
       "50%                  0.000000       0.000000  ...       0.000000   \n",
       "75%                 30.000000       0.000000  ...       0.000000   \n",
       "95%                 68.000000       1.000000  ...       0.000000   \n",
       "99%                 79.000000       2.000000  ...       0.000000   \n",
       "max                226.000000      86.000000  ...       1.000000   \n",
       "\n",
       "       purpose:major_purchase  purpose:medical  purpose:moving  purpose:other  \\\n",
       "count           877648.000000    877648.000000   877648.000000  877648.000000   \n",
       "mean                 0.021460         0.011997        0.006465       0.061006   \n",
       "std                  0.144911         0.108871        0.080145       0.239342   \n",
       "min                  0.000000         0.000000        0.000000       0.000000   \n",
       "25%                  0.000000         0.000000        0.000000       0.000000   \n",
       "50%                  0.000000         0.000000        0.000000       0.000000   \n",
       "75%                  0.000000         0.000000        0.000000       0.000000   \n",
       "95%                  0.000000         0.000000        0.000000       1.000000   \n",
       "99%                  1.000000         1.000000        0.000000       1.000000   \n",
       "max                  1.000000         1.000000        1.000000       1.000000   \n",
       "\n",
       "       purpose:renewable_energy  purpose:small_business  purpose:vacation  \\\n",
       "count             877648.000000           877648.000000     877648.000000   \n",
       "mean                   0.000563                0.010189          0.006933   \n",
       "std                    0.023718                0.100423          0.082977   \n",
       "min                    0.000000                0.000000          0.000000   \n",
       "25%                    0.000000                0.000000          0.000000   \n",
       "50%                    0.000000                0.000000          0.000000   \n",
       "75%                    0.000000                0.000000          0.000000   \n",
       "95%                    0.000000                0.000000          0.000000   \n",
       "99%                    0.000000                1.000000          0.000000   \n",
       "max                    1.000000                1.000000          1.000000   \n",
       "\n",
       "       purpose:wedding  initial_list_status:f  \n",
       "count    877648.000000          877648.000000  \n",
       "mean          0.000785               0.268455  \n",
       "std           0.028008               0.443156  \n",
       "min           0.000000               0.000000  \n",
       "25%           0.000000               0.000000  \n",
       "50%           0.000000               0.000000  \n",
       "75%           0.000000               1.000000  \n",
       "95%           0.000000               1.000000  \n",
       "99%           0.000000               1.000000  \n",
       "max           1.000000               1.000000  \n",
       "\n",
       "[10 rows x 57 columns]"
      ]
     },
     "execution_count": 48,
     "metadata": {},
     "output_type": "execute_result"
    }
   ],
   "source": [
    "# medidas resumo das variáveis quantitativas\n",
    "dados_WoE_VI.describe(percentiles = [.25, .5, .75, .95, .99])"
   ]
  },
  {
   "cell_type": "code",
   "execution_count": 49,
   "id": "88a4b9fa",
   "metadata": {},
   "outputs": [
    {
     "data": {
      "text/html": [
       "<div>\n",
       "<style scoped>\n",
       "    .dataframe tbody tr th:only-of-type {\n",
       "        vertical-align: middle;\n",
       "    }\n",
       "\n",
       "    .dataframe tbody tr th {\n",
       "        vertical-align: top;\n",
       "    }\n",
       "\n",
       "    .dataframe thead th {\n",
       "        text-align: right;\n",
       "    }\n",
       "</style>\n",
       "<table border=\"1\" class=\"dataframe\">\n",
       "  <thead>\n",
       "    <tr style=\"text-align: right;\">\n",
       "      <th></th>\n",
       "      <th>count</th>\n",
       "      <th>unique</th>\n",
       "      <th>top</th>\n",
       "      <th>freq</th>\n",
       "    </tr>\n",
       "  </thead>\n",
       "  <tbody>\n",
       "    <tr>\n",
       "      <th>grade</th>\n",
       "      <td>877648</td>\n",
       "      <td>7</td>\n",
       "      <td>B</td>\n",
       "      <td>257221</td>\n",
       "    </tr>\n",
       "    <tr>\n",
       "      <th>home_ownership</th>\n",
       "      <td>877648</td>\n",
       "      <td>6</td>\n",
       "      <td>MORTGAGE</td>\n",
       "      <td>430783</td>\n",
       "    </tr>\n",
       "    <tr>\n",
       "      <th>verification_status</th>\n",
       "      <td>877648</td>\n",
       "      <td>3</td>\n",
       "      <td>Source Verified</td>\n",
       "      <td>341893</td>\n",
       "    </tr>\n",
       "    <tr>\n",
       "      <th>loan_status</th>\n",
       "      <td>877648</td>\n",
       "      <td>10</td>\n",
       "      <td>Fully Paid</td>\n",
       "      <td>448809</td>\n",
       "    </tr>\n",
       "    <tr>\n",
       "      <th>pymnt_plan</th>\n",
       "      <td>877648</td>\n",
       "      <td>1</td>\n",
       "      <td>n</td>\n",
       "      <td>877648</td>\n",
       "    </tr>\n",
       "    <tr>\n",
       "      <th>purpose</th>\n",
       "      <td>877648</td>\n",
       "      <td>14</td>\n",
       "      <td>debt_consolidation</td>\n",
       "      <td>491672</td>\n",
       "    </tr>\n",
       "    <tr>\n",
       "      <th>addr_state</th>\n",
       "      <td>877648</td>\n",
       "      <td>51</td>\n",
       "      <td>CA</td>\n",
       "      <td>121479</td>\n",
       "    </tr>\n",
       "    <tr>\n",
       "      <th>initial_list_status</th>\n",
       "      <td>877648</td>\n",
       "      <td>2</td>\n",
       "      <td>w</td>\n",
       "      <td>642039</td>\n",
       "    </tr>\n",
       "    <tr>\n",
       "      <th>application_type</th>\n",
       "      <td>877648</td>\n",
       "      <td>2</td>\n",
       "      <td>Individual</td>\n",
       "      <td>814440</td>\n",
       "    </tr>\n",
       "  </tbody>\n",
       "</table>\n",
       "</div>"
      ],
      "text/plain": [
       "                      count unique                 top    freq\n",
       "grade                877648      7                   B  257221\n",
       "home_ownership       877648      6            MORTGAGE  430783\n",
       "verification_status  877648      3     Source Verified  341893\n",
       "loan_status          877648     10          Fully Paid  448809\n",
       "pymnt_plan           877648      1                   n  877648\n",
       "purpose              877648     14  debt_consolidation  491672\n",
       "addr_state           877648     51                  CA  121479\n",
       "initial_list_status  877648      2                   w  642039\n",
       "application_type     877648      2          Individual  814440"
      ]
     },
     "execution_count": 49,
     "metadata": {},
     "output_type": "execute_result"
    }
   ],
   "source": [
    "# Estatísticas dos dados categóricos\n",
    "dados_WoE_VI.describe(include = 'object').T"
   ]
  },
  {
   "cell_type": "markdown",
   "id": "7b18ab0c",
   "metadata": {},
   "source": [
    "*Não foi realizado nenhum tratamento quanto a outliers da amostra.*"
   ]
  },
  {
   "cell_type": "markdown",
   "id": "626b5090",
   "metadata": {},
   "source": [
    "## Feature Selection \n",
    "---\n",
    "\n",
    "Foram separadas duas bases de dados, uma contendo features que foram selecionadas pelo *Weight of Evidence* e *Information Value*, ou Peso de Evidência e Valor da Informação, técnicas estatística comumente utilizadas para selecionar e agrupar variáveis em modelos de classificação.\n",
    "\n",
    "A outra base de dados recebeu as variáveis selecionadas pelo LightGBM utilizando a função [feature_importances](https://scikit-learn.org/stable/auto_examples/ensemble/plot_forest_importances.html), em que as features serão avaliadas por seu peso ou contribuição no modelo. "
   ]
  },
  {
   "cell_type": "markdown",
   "id": "4cb6abb7",
   "metadata": {},
   "source": [
    "### Weight of Evidence (WoE)\n",
    "\n",
    "Em análises de respostas binárias, o que ocorre em casos de concessão de crédito, a medida que mostra até que ponto uma variável independente prediz uma variável dependente, ou seja, o peso da evidência, é utilizada a fim de medir o grau de incerteza envolvido na predição de eventos. Neste, será usado para agrupar categorias com WoE similares.\n",
    "\n",
    "É calculada por:\n",
    "\n",
    "<br>\n",
    "\n",
    "\\begin{align}\n",
    "\\text{WoE:} \\qquad &\\ln \\left( \\frac{\\text{% Bons}_i}{\\text{% Ruins}_i} \\right)   \\\\[10pt]\n",
    "\\end{align}\n",
    "\n",
    "<br>"
   ]
  },
  {
   "cell_type": "code",
   "execution_count": 50,
   "id": "0798d030",
   "metadata": {},
   "outputs": [],
   "source": [
    "# executando a função para cálculo de WoE e IV\n",
    "iv, woe = iv_woe(dados_WoE_VI, target = 'target', bins=20)"
   ]
  },
  {
   "cell_type": "code",
   "execution_count": 51,
   "id": "28710402",
   "metadata": {
    "scrolled": true
   },
   "outputs": [
    {
     "data": {
      "text/html": [
       "<div>\n",
       "<style scoped>\n",
       "    .dataframe tbody tr th:only-of-type {\n",
       "        vertical-align: middle;\n",
       "    }\n",
       "\n",
       "    .dataframe tbody tr th {\n",
       "        vertical-align: top;\n",
       "    }\n",
       "\n",
       "    .dataframe thead th {\n",
       "        text-align: right;\n",
       "    }\n",
       "</style>\n",
       "<table border=\"1\" class=\"dataframe\">\n",
       "  <thead>\n",
       "    <tr style=\"text-align: right;\">\n",
       "      <th></th>\n",
       "      <th>Variavel</th>\n",
       "      <th>Cutoff</th>\n",
       "      <th>N</th>\n",
       "      <th>Eventos</th>\n",
       "      <th>%_Eventos</th>\n",
       "      <th>Nao_Eventos</th>\n",
       "      <th>%_Nao_Eventos</th>\n",
       "      <th>WoE</th>\n",
       "      <th>IV</th>\n",
       "    </tr>\n",
       "  </thead>\n",
       "  <tbody>\n",
       "    <tr>\n",
       "      <th>0</th>\n",
       "      <td>funded_amnt</td>\n",
       "      <td>(499.999, 3250.0]</td>\n",
       "      <td>44071</td>\n",
       "      <td>39855</td>\n",
       "      <td>0.052198</td>\n",
       "      <td>4216</td>\n",
       "      <td>0.036945</td>\n",
       "      <td>0.345632</td>\n",
       "      <td>5.272172e-03</td>\n",
       "    </tr>\n",
       "    <tr>\n",
       "      <th>1</th>\n",
       "      <td>funded_amnt</td>\n",
       "      <td>(3250.0, 5000.0]</td>\n",
       "      <td>70194</td>\n",
       "      <td>62440</td>\n",
       "      <td>0.081778</td>\n",
       "      <td>7754</td>\n",
       "      <td>0.067948</td>\n",
       "      <td>0.185268</td>\n",
       "      <td>2.562280e-03</td>\n",
       "    </tr>\n",
       "    <tr>\n",
       "      <th>2</th>\n",
       "      <td>funded_amnt</td>\n",
       "      <td>(5000.0, 6000.0]</td>\n",
       "      <td>40835</td>\n",
       "      <td>36545</td>\n",
       "      <td>0.047863</td>\n",
       "      <td>4290</td>\n",
       "      <td>0.037593</td>\n",
       "      <td>0.241528</td>\n",
       "      <td>2.480532e-03</td>\n",
       "    </tr>\n",
       "    <tr>\n",
       "      <th>3</th>\n",
       "      <td>funded_amnt</td>\n",
       "      <td>(6000.0, 7000.0]</td>\n",
       "      <td>29683</td>\n",
       "      <td>26324</td>\n",
       "      <td>0.034477</td>\n",
       "      <td>3359</td>\n",
       "      <td>0.029435</td>\n",
       "      <td>0.158108</td>\n",
       "      <td>7.971754e-04</td>\n",
       "    </tr>\n",
       "    <tr>\n",
       "      <th>4</th>\n",
       "      <td>funded_amnt</td>\n",
       "      <td>(7000.0, 8000.0]</td>\n",
       "      <td>45321</td>\n",
       "      <td>39813</td>\n",
       "      <td>0.052143</td>\n",
       "      <td>5508</td>\n",
       "      <td>0.048266</td>\n",
       "      <td>0.077262</td>\n",
       "      <td>2.995474e-04</td>\n",
       "    </tr>\n",
       "    <tr>\n",
       "      <th>...</th>\n",
       "      <td>...</td>\n",
       "      <td>...</td>\n",
       "      <td>...</td>\n",
       "      <td>...</td>\n",
       "      <td>...</td>\n",
       "      <td>...</td>\n",
       "      <td>...</td>\n",
       "      <td>...</td>\n",
       "      <td>...</td>\n",
       "    </tr>\n",
       "    <tr>\n",
       "      <th>1</th>\n",
       "      <td>purpose:vacation</td>\n",
       "      <td>1</td>\n",
       "      <td>6085</td>\n",
       "      <td>5296</td>\n",
       "      <td>0.006936</td>\n",
       "      <td>789</td>\n",
       "      <td>0.006914</td>\n",
       "      <td>0.003211</td>\n",
       "      <td>7.141390e-08</td>\n",
       "    </tr>\n",
       "    <tr>\n",
       "      <th>0</th>\n",
       "      <td>purpose:wedding</td>\n",
       "      <td>0</td>\n",
       "      <td>876959</td>\n",
       "      <td>762922</td>\n",
       "      <td>0.999202</td>\n",
       "      <td>114037</td>\n",
       "      <td>0.999299</td>\n",
       "      <td>-0.000097</td>\n",
       "      <td>9.333753e-09</td>\n",
       "    </tr>\n",
       "    <tr>\n",
       "      <th>1</th>\n",
       "      <td>purpose:wedding</td>\n",
       "      <td>1</td>\n",
       "      <td>689</td>\n",
       "      <td>609</td>\n",
       "      <td>0.000798</td>\n",
       "      <td>80</td>\n",
       "      <td>0.000701</td>\n",
       "      <td>0.129062</td>\n",
       "      <td>1.246420e-05</td>\n",
       "    </tr>\n",
       "    <tr>\n",
       "      <th>0</th>\n",
       "      <td>initial_list_status:f</td>\n",
       "      <td>0</td>\n",
       "      <td>642039</td>\n",
       "      <td>566947</td>\n",
       "      <td>0.742533</td>\n",
       "      <td>75092</td>\n",
       "      <td>0.658026</td>\n",
       "      <td>0.120822</td>\n",
       "      <td>1.021029e-02</td>\n",
       "    </tr>\n",
       "    <tr>\n",
       "      <th>1</th>\n",
       "      <td>initial_list_status:f</td>\n",
       "      <td>1</td>\n",
       "      <td>235609</td>\n",
       "      <td>196584</td>\n",
       "      <td>0.257467</td>\n",
       "      <td>39025</td>\n",
       "      <td>0.341974</td>\n",
       "      <td>-0.283842</td>\n",
       "      <td>2.398654e-02</td>\n",
       "    </tr>\n",
       "  </tbody>\n",
       "</table>\n",
       "<p>490 rows × 9 columns</p>\n",
       "</div>"
      ],
      "text/plain": [
       "                 Variavel             Cutoff       N  Eventos  %_Eventos  \\\n",
       "0             funded_amnt  (499.999, 3250.0]   44071    39855   0.052198   \n",
       "1             funded_amnt   (3250.0, 5000.0]   70194    62440   0.081778   \n",
       "2             funded_amnt   (5000.0, 6000.0]   40835    36545   0.047863   \n",
       "3             funded_amnt   (6000.0, 7000.0]   29683    26324   0.034477   \n",
       "4             funded_amnt   (7000.0, 8000.0]   45321    39813   0.052143   \n",
       "..                    ...                ...     ...      ...        ...   \n",
       "1        purpose:vacation                  1    6085     5296   0.006936   \n",
       "0         purpose:wedding                  0  876959   762922   0.999202   \n",
       "1         purpose:wedding                  1     689      609   0.000798   \n",
       "0   initial_list_status:f                  0  642039   566947   0.742533   \n",
       "1   initial_list_status:f                  1  235609   196584   0.257467   \n",
       "\n",
       "    Nao_Eventos  %_Nao_Eventos       WoE            IV  \n",
       "0          4216       0.036945  0.345632  5.272172e-03  \n",
       "1          7754       0.067948  0.185268  2.562280e-03  \n",
       "2          4290       0.037593  0.241528  2.480532e-03  \n",
       "3          3359       0.029435  0.158108  7.971754e-04  \n",
       "4          5508       0.048266  0.077262  2.995474e-04  \n",
       "..          ...            ...       ...           ...  \n",
       "1           789       0.006914  0.003211  7.141390e-08  \n",
       "0        114037       0.999299 -0.000097  9.333753e-09  \n",
       "1            80       0.000701  0.129062  1.246420e-05  \n",
       "0         75092       0.658026  0.120822  1.021029e-02  \n",
       "1         39025       0.341974 -0.283842  2.398654e-02  \n",
       "\n",
       "[490 rows x 9 columns]"
      ]
     },
     "execution_count": 51,
     "metadata": {},
     "output_type": "execute_result"
    }
   ],
   "source": [
    "woe"
   ]
  },
  {
   "cell_type": "markdown",
   "id": "41e507b4",
   "metadata": {},
   "source": [
    "### Information Value (IV)\n",
    "\n",
    "Já o valor da informação (*Information Value* - IV),  que mede a força da relação entre a variável dependente e a independente, irá ajudar a selecionar as variáveis úteis para o modelo de Regressão Logística.\n",
    "\n",
    "O valor da informação é calculado por:\n",
    "\n",
    "<br>\n",
    "\n",
    "\\begin{align}\n",
    "\\text{IV:} \\qquad &\\sum_{i=1}^n \\left( \\text{% Bons}_i - \\text{% Ruins}_i \\right) \\cdot \\ln \\left( \\frac{\\text{% Bons}_i}{\\text{% Ruins}_i} \\right)\n",
    "\\end{align}\n",
    "\n",
    "<br><br>\n",
    "\n",
    "A tabela abaixo mostra a relação entre IV e poder preditivo de uma variável:\n",
    "\n",
    "<br>\n",
    "\n",
    "Valor da Informação|Força Preditiva\n",
    "-------------------|---------------\n",
    "< 0.02             | Insignificante\n",
    "0.02 - 0.1         | Fraca         \n",
    "0.1 - 0.3          | Média         \n",
    "0.3 - 0.5          | Forte         \n",
    "> 0.5              | Superforte  "
   ]
  },
  {
   "cell_type": "markdown",
   "id": "7b1a4665",
   "metadata": {},
   "source": [
    "Considerando a tabela abaixo e a força predivita das variáveis, serão selecionadas apenas as que tiverem valor de informação maior que 0.02 e menores que 0.5."
   ]
  },
  {
   "cell_type": "code",
   "execution_count": 52,
   "id": "699d1591",
   "metadata": {
    "scrolled": false
   },
   "outputs": [
    {
     "data": {
      "text/html": [
       "<div>\n",
       "<style scoped>\n",
       "    .dataframe tbody tr th:only-of-type {\n",
       "        vertical-align: middle;\n",
       "    }\n",
       "\n",
       "    .dataframe tbody tr th {\n",
       "        vertical-align: top;\n",
       "    }\n",
       "\n",
       "    .dataframe thead th {\n",
       "        text-align: right;\n",
       "    }\n",
       "</style>\n",
       "<table border=\"1\" class=\"dataframe\">\n",
       "  <thead>\n",
       "    <tr style=\"text-align: right;\">\n",
       "      <th></th>\n",
       "      <th>Variavel</th>\n",
       "      <th>IV</th>\n",
       "    </tr>\n",
       "  </thead>\n",
       "  <tbody>\n",
       "    <tr>\n",
       "      <th>0</th>\n",
       "      <td>funded_amnt</td>\n",
       "      <td>0.031057</td>\n",
       "    </tr>\n",
       "    <tr>\n",
       "      <th>0</th>\n",
       "      <td>term</td>\n",
       "      <td>0.065489</td>\n",
       "    </tr>\n",
       "    <tr>\n",
       "      <th>0</th>\n",
       "      <td>int_rate</td>\n",
       "      <td>0.430151</td>\n",
       "    </tr>\n",
       "    <tr>\n",
       "      <th>0</th>\n",
       "      <td>home_ownership</td>\n",
       "      <td>0.024007</td>\n",
       "    </tr>\n",
       "    <tr>\n",
       "      <th>0</th>\n",
       "      <td>annual_inc</td>\n",
       "      <td>0.035667</td>\n",
       "    </tr>\n",
       "    <tr>\n",
       "      <th>0</th>\n",
       "      <td>verification_status</td>\n",
       "      <td>0.098472</td>\n",
       "    </tr>\n",
       "    <tr>\n",
       "      <th>0</th>\n",
       "      <td>purpose</td>\n",
       "      <td>0.022435</td>\n",
       "    </tr>\n",
       "    <tr>\n",
       "      <th>0</th>\n",
       "      <td>dti</td>\n",
       "      <td>0.025926</td>\n",
       "    </tr>\n",
       "    <tr>\n",
       "      <th>0</th>\n",
       "      <td>inq_last_6mths</td>\n",
       "      <td>0.035062</td>\n",
       "    </tr>\n",
       "    <tr>\n",
       "      <th>0</th>\n",
       "      <td>revol_util</td>\n",
       "      <td>0.032334</td>\n",
       "    </tr>\n",
       "    <tr>\n",
       "      <th>0</th>\n",
       "      <td>initial_list_status</td>\n",
       "      <td>0.034197</td>\n",
       "    </tr>\n",
       "    <tr>\n",
       "      <th>0</th>\n",
       "      <td>tot_cur_bal</td>\n",
       "      <td>0.036725</td>\n",
       "    </tr>\n",
       "    <tr>\n",
       "      <th>0</th>\n",
       "      <td>mths_since_rcnt_il</td>\n",
       "      <td>0.075603</td>\n",
       "    </tr>\n",
       "    <tr>\n",
       "      <th>0</th>\n",
       "      <td>total_bal_il</td>\n",
       "      <td>0.047051</td>\n",
       "    </tr>\n",
       "    <tr>\n",
       "      <th>0</th>\n",
       "      <td>max_bal_bc</td>\n",
       "      <td>0.082759</td>\n",
       "    </tr>\n",
       "    <tr>\n",
       "      <th>0</th>\n",
       "      <td>total_rev_hi_lim</td>\n",
       "      <td>0.058957</td>\n",
       "    </tr>\n",
       "    <tr>\n",
       "      <th>0</th>\n",
       "      <td>grade:B</td>\n",
       "      <td>0.051935</td>\n",
       "    </tr>\n",
       "    <tr>\n",
       "      <th>0</th>\n",
       "      <td>grade:D</td>\n",
       "      <td>0.068638</td>\n",
       "    </tr>\n",
       "    <tr>\n",
       "      <th>0</th>\n",
       "      <td>grade:E</td>\n",
       "      <td>0.102391</td>\n",
       "    </tr>\n",
       "    <tr>\n",
       "      <th>0</th>\n",
       "      <td>grade:F</td>\n",
       "      <td>0.053236</td>\n",
       "    </tr>\n",
       "    <tr>\n",
       "      <th>0</th>\n",
       "      <td>home_ownership:MORTGAGE</td>\n",
       "      <td>0.021352</td>\n",
       "    </tr>\n",
       "    <tr>\n",
       "      <th>0</th>\n",
       "      <td>verification_status:Not Verified</td>\n",
       "      <td>0.077640</td>\n",
       "    </tr>\n",
       "    <tr>\n",
       "      <th>0</th>\n",
       "      <td>verification_status:Verified</td>\n",
       "      <td>0.062334</td>\n",
       "    </tr>\n",
       "    <tr>\n",
       "      <th>0</th>\n",
       "      <td>initial_list_status:f</td>\n",
       "      <td>0.034197</td>\n",
       "    </tr>\n",
       "  </tbody>\n",
       "</table>\n",
       "</div>"
      ],
      "text/plain": [
       "                           Variavel        IV\n",
       "0                       funded_amnt  0.031057\n",
       "0                              term  0.065489\n",
       "0                          int_rate  0.430151\n",
       "0                    home_ownership  0.024007\n",
       "0                        annual_inc  0.035667\n",
       "0               verification_status  0.098472\n",
       "0                           purpose  0.022435\n",
       "0                               dti  0.025926\n",
       "0                    inq_last_6mths  0.035062\n",
       "0                        revol_util  0.032334\n",
       "0               initial_list_status  0.034197\n",
       "0                       tot_cur_bal  0.036725\n",
       "0                mths_since_rcnt_il  0.075603\n",
       "0                      total_bal_il  0.047051\n",
       "0                        max_bal_bc  0.082759\n",
       "0                  total_rev_hi_lim  0.058957\n",
       "0                           grade:B  0.051935\n",
       "0                           grade:D  0.068638\n",
       "0                           grade:E  0.102391\n",
       "0                           grade:F  0.053236\n",
       "0           home_ownership:MORTGAGE  0.021352\n",
       "0  verification_status:Not Verified  0.077640\n",
       "0      verification_status:Verified  0.062334\n",
       "0             initial_list_status:f  0.034197"
      ]
     },
     "execution_count": 52,
     "metadata": {},
     "output_type": "execute_result"
    }
   ],
   "source": [
    "iv[(iv.IV > 0.02) & (iv.IV < 0.5)]"
   ]
  },
  {
   "cell_type": "markdown",
   "id": "0abee544",
   "metadata": {},
   "source": [
    "Foram selecionados apenas os dados que se estavam dentro dos parâmetros pre-determinados, resultando em 17 variáveis escolhidas pelo método e foi verificada a correlação entre elas."
   ]
  },
  {
   "cell_type": "code",
   "execution_count": 54,
   "id": "25396004",
   "metadata": {},
   "outputs": [],
   "source": [
    "# seleção dos dados\n",
    "dados_WoE_VI = raw_data_sample[['funded_amnt', 'term', 'int_rate', 'home_ownership', 'annual_inc',\n",
    "                                'verification_status', 'purpose', 'dti', 'inq_last_6mths', 'revol_util',\n",
    "                                'initial_list_status', 'tot_cur_bal', 'mths_since_rcnt_il', 'total_bal_il',\n",
    "                                'max_bal_bc', 'total_rev_hi_lim', 'grade', 'total_rec_prncp', 'loan_status', \n",
    "                                'recoveries','target']]"
   ]
  },
  {
   "cell_type": "code",
   "execution_count": 55,
   "id": "6c8738f3",
   "metadata": {},
   "outputs": [
    {
     "data": {
      "image/png": "[encoded data removed]",
      "text/plain": [
       "<Figure size 864x720 with 2 Axes>"
      ]
     },
     "metadata": {
      "needs_background": "light"
     },
     "output_type": "display_data"
    }
   ],
   "source": [
    "# separação dos dados selecionados por IV\n",
    "df = raw_data_sample[['funded_amnt', 'term', 'int_rate', 'home_ownership', 'annual_inc',\n",
    "                                'verification_status', 'purpose', 'dti', 'inq_last_6mths', 'revol_util',\n",
    "                                'initial_list_status', 'tot_cur_bal', 'mths_since_rcnt_il', 'total_bal_il',\n",
    "                                'max_bal_bc', 'total_rev_hi_lim', 'grade', 'target']]\n",
    "\n",
    "# matriz de correlação das variáveis \n",
    "sns.set_context(font_scale = 1.9)\n",
    "plt.figure(figsize=(12,10))\n",
    "sns.heatmap(\n",
    "    df.corr(), \n",
    "    annot = True, \n",
    "    fmt   = '.2f', \n",
    "    cmap  = 'RdBu',\n",
    "    mask  = np.triu(\n",
    "        np.ones_like(df.corr()) \n",
    "    ) \n",
    ");"
   ]
  },
  {
   "cell_type": "code",
   "execution_count": 55,
   "id": "6c13a0b2",
   "metadata": {},
   "outputs": [],
   "source": [
    "# salvando dados\n",
    "dados_WoE_VI.to_csv('dados/dados_WoE_VI.csv', index = False)"
   ]
  },
  {
   "cell_type": "markdown",
   "id": "d8d5d4b0",
   "metadata": {},
   "source": [
    "*Após essas alterações, será realizado um agrupamento de algumas classes das variáveis para o modelo que irá utilizar os dados separados pelo WoE e IV.*"
   ]
  },
  {
   "cell_type": "markdown",
   "id": "01399fdf",
   "metadata": {},
   "source": [
    "### LightGBM\n",
    "\n",
    "O [LightGBM](https://lightgbm.readthedocs.io/en/v3.3.2/) é uma estrutura de aumento de gradiente que usa algoritmos de aprendizado baseados em árvore. É baseado em histograma e coloca valores contínuos em compartimentos discretos, o que leva a um treinamento mais rápido e um uso mais eficiente da memória.\n",
    "\n",
    "Como foram selecionadas 18 features anteriomente, também foram escolhidas as 17 melhores features retornadas pelo feature importance."
   ]
  },
  {
   "cell_type": "code",
   "execution_count": 56,
   "id": "395711bd",
   "metadata": {},
   "outputs": [],
   "source": [
    "dados = raw_data_sample.iloc[:,0:55]\n",
    "\n",
    "X = dados.drop(['target'], axis = 1)\n",
    "y = dados['target']"
   ]
  },
  {
   "cell_type": "code",
   "execution_count": 57,
   "id": "6f6b9daa",
   "metadata": {},
   "outputs": [],
   "source": [
    "for c in X.columns:\n",
    "    col_type = X[c].dtype\n",
    "    if col_type == 'object' or col_type.name == 'category':\n",
    "        X[c] = X[c].astype('category')"
   ]
  },
  {
   "cell_type": "code",
   "execution_count": 58,
   "id": "0caf8eb0",
   "metadata": {},
   "outputs": [],
   "source": [
    "X_train, X_test, y_train, y_test = train_test_split(X, y, test_size = 0.2, random_state = 42, stratify = y)"
   ]
  },
  {
   "cell_type": "code",
   "execution_count": 59,
   "id": "ed94390a",
   "metadata": {},
   "outputs": [],
   "source": [
    "fit_params={\"early_stopping_rounds\":10, \n",
    "            \"eval_metric\" : 'auc', \n",
    "            \"eval_set\" : [(X_test,y_test)],\n",
    "            'eval_names': ['valid'],\n",
    "            'verbose': 100,\n",
    "            'feature_name': 'auto', \n",
    "            'categorical_feature': 'auto' \n",
    "           }"
   ]
  },
  {
   "cell_type": "code",
   "execution_count": 60,
   "id": "5cf6c0e4",
   "metadata": {},
   "outputs": [],
   "source": [
    "clf = lgb.LGBMClassifier(num_leaves = 15, \n",
    "                         max_depth = -1, \n",
    "                         random_state = 42, \n",
    "                         silent = True, \n",
    "                         metric = 'None', \n",
    "                         n_jobs = 4, \n",
    "                         n_estimators = 1000, \n",
    "                         colsample_bytree = 0.9,\n",
    "                         subsample = 0.9, \n",
    "                         learning_rate = 0.1)"
   ]
  },
  {
   "cell_type": "code",
   "execution_count": 61,
   "id": "8009a8ef",
   "metadata": {},
   "outputs": [
    {
     "name": "stdout",
     "output_type": "stream",
     "text": [
      "[100]\tvalid's auc: 0.995763\n"
     ]
    },
    {
     "data": {
      "text/html": [
       "<style>#sk-container-id-1 {color: black;background-color: white;}#sk-container-id-1 pre{padding: 0;}#sk-container-id-1 div.sk-toggleable {background-color: white;}#sk-container-id-1 label.sk-toggleable__label {cursor: pointer;display: block;width: 100%;margin-bottom: 0;padding: 0.3em;box-sizing: border-box;text-align: center;}#sk-container-id-1 label.sk-toggleable__label-arrow:before {content: \"▸\";float: left;margin-right: 0.25em;color: #696969;}#sk-container-id-1 label.sk-toggleable__label-arrow:hover:before {color: black;}#sk-container-id-1 div.sk-estimator:hover label.sk-toggleable__label-arrow:before {color: black;}#sk-container-id-1 div.sk-toggleable__content {max-height: 0;max-width: 0;overflow: hidden;text-align: left;background-color: #f0f8ff;}#sk-container-id-1 div.sk-toggleable__content pre {margin: 0.2em;color: black;border-radius: 0.25em;background-color: #f0f8ff;}#sk-container-id-1 input.sk-toggleable__control:checked~div.sk-toggleable__content {max-height: 200px;max-width: 100%;overflow: auto;}#sk-container-id-1 input.sk-toggleable__control:checked~label.sk-toggleable__label-arrow:before {content: \"▾\";}#sk-container-id-1 div.sk-estimator input.sk-toggleable__control:checked~label.sk-toggleable__label {background-color: #d4ebff;}#sk-container-id-1 div.sk-label input.sk-toggleable__control:checked~label.sk-toggleable__label {background-color: #d4ebff;}#sk-container-id-1 input.sk-hidden--visually {border: 0;clip: rect(1px 1px 1px 1px);clip: rect(1px, 1px, 1px, 1px);height: 1px;margin: -1px;overflow: hidden;padding: 0;position: absolute;width: 1px;}#sk-container-id-1 div.sk-estimator {font-family: monospace;background-color: #f0f8ff;border: 1px dotted black;border-radius: 0.25em;box-sizing: border-box;margin-bottom: 0.5em;}#sk-container-id-1 div.sk-estimator:hover {background-color: #d4ebff;}#sk-container-id-1 div.sk-parallel-item::after {content: \"\";width: 100%;border-bottom: 1px solid gray;flex-grow: 1;}#sk-container-id-1 div.sk-label:hover label.sk-toggleable__label {background-color: #d4ebff;}#sk-container-id-1 div.sk-serial::before {content: \"\";position: absolute;border-left: 1px solid gray;box-sizing: border-box;top: 0;bottom: 0;left: 50%;z-index: 0;}#sk-container-id-1 div.sk-serial {display: flex;flex-direction: column;align-items: center;background-color: white;padding-right: 0.2em;padding-left: 0.2em;position: relative;}#sk-container-id-1 div.sk-item {position: relative;z-index: 1;}#sk-container-id-1 div.sk-parallel {display: flex;align-items: stretch;justify-content: center;background-color: white;position: relative;}#sk-container-id-1 div.sk-item::before, #sk-container-id-1 div.sk-parallel-item::before {content: \"\";position: absolute;border-left: 1px solid gray;box-sizing: border-box;top: 0;bottom: 0;left: 50%;z-index: -1;}#sk-container-id-1 div.sk-parallel-item {display: flex;flex-direction: column;z-index: 1;position: relative;background-color: white;}#sk-container-id-1 div.sk-parallel-item:first-child::after {align-self: flex-end;width: 50%;}#sk-container-id-1 div.sk-parallel-item:last-child::after {align-self: flex-start;width: 50%;}#sk-container-id-1 div.sk-parallel-item:only-child::after {width: 0;}#sk-container-id-1 div.sk-dashed-wrapped {border: 1px dashed gray;margin: 0 0.4em 0.5em 0.4em;box-sizing: border-box;padding-bottom: 0.4em;background-color: white;}#sk-container-id-1 div.sk-label label {font-family: monospace;font-weight: bold;display: inline-block;line-height: 1.2em;}#sk-container-id-1 div.sk-label-container {text-align: center;}#sk-container-id-1 div.sk-container {/* jupyter's `normalize.less` sets `[hidden] { display: none; }` but bootstrap.min.css set `[hidden] { display: none !important; }` so we also need the `!important` here to be able to override the default hidden behavior on the sphinx rendered scikit-learn.org. See: https://github.com/scikit-learn/scikit-learn/issues/21755 */display: inline-block !important;position: relative;}#sk-container-id-1 div.sk-text-repr-fallback {display: none;}</style><div id=\"sk-container-id-1\" class=\"sk-top-container\"><div class=\"sk-text-repr-fallback\"><pre>LGBMClassifier(colsample_bytree=0.9, metric=&#x27;None&#x27;, n_estimators=1000, n_jobs=4,\n",
       "               num_leaves=15, random_state=42, silent=True, subsample=0.9)</pre><b>In a Jupyter environment, please rerun this cell to show the HTML representation or trust the notebook. <br />On GitHub, the HTML representation is unable to render, please try loading this page with nbviewer.org.</b></div><div class=\"sk-container\" hidden><div class=\"sk-item\"><div class=\"sk-estimator sk-toggleable\"><input class=\"sk-toggleable__control sk-hidden--visually\" id=\"sk-estimator-id-1\" type=\"checkbox\" checked><label for=\"sk-estimator-id-1\" class=\"sk-toggleable__label sk-toggleable__label-arrow\">LGBMClassifier</label><div class=\"sk-toggleable__content\"><pre>LGBMClassifier(colsample_bytree=0.9, metric=&#x27;None&#x27;, n_estimators=1000, n_jobs=4,\n",
       "               num_leaves=15, random_state=42, silent=True, subsample=0.9)</pre></div></div></div></div></div>"
      ],
      "text/plain": [
       "LGBMClassifier(colsample_bytree=0.9, metric='None', n_estimators=1000, n_jobs=4,\n",
       "               num_leaves=15, random_state=42, silent=True, subsample=0.9)"
      ]
     },
     "execution_count": 61,
     "metadata": {},
     "output_type": "execute_result"
    }
   ],
   "source": [
    "clf.fit(X_train, y_train, **fit_params)"
   ]
  },
  {
   "cell_type": "code",
   "execution_count": 62,
   "id": "9d0fb9cc",
   "metadata": {
    "scrolled": false
   },
   "outputs": [
    {
     "data": {
      "image/png": "[encoded data removed]",
      "text/plain": [
       "<Figure size 576x864 with 1 Axes>"
      ]
     },
     "metadata": {
      "needs_background": "light"
     },
     "output_type": "display_data"
    }
   ],
   "source": [
    "feat_imp = pd.Series(clf.feature_importances_, index = X.columns)\n",
    "feat_imp.nlargest(30).plot(kind = 'barh', figsize=(8,12));"
   ]
  },
  {
   "cell_type": "markdown",
   "id": "9c34bf27",
   "metadata": {},
   "source": [
    "Separando as variáveis para a verificação de correlação."
   ]
  },
  {
   "cell_type": "code",
   "execution_count": 63,
   "id": "fef4d398",
   "metadata": {},
   "outputs": [],
   "source": [
    "# separando as features principais que não apresentaram correlação acima de 0.5\n",
    "dados_LightGBM = raw_data_sample[['last_pymnt_amnt', 'funded_amnt', 'max_bal_bc', \n",
    "                                  'out_prncp', 'mths_since_last_credit_pull_d', 'all_util',\n",
    "                                  'term', 'int_rate', 'addr_state', 'grade', \n",
    "                                  'mths_since_earliest_cr_line', 'tot_cur_bal', 'total_rev_hi_lim',\n",
    "                                  'verification_status', 'dti', 'delinq_2yrs', 'open_acc', 'target']]"
   ]
  },
  {
   "cell_type": "code",
   "execution_count": 64,
   "id": "a86b497a",
   "metadata": {},
   "outputs": [
    {
     "data": {
      "image/png": "[encoded data removed]",
      "text/plain": [
       "<Figure size 864x720 with 2 Axes>"
      ]
     },
     "metadata": {
      "needs_background": "light"
     },
     "output_type": "display_data"
    }
   ],
   "source": [
    "# matriz de correlação das variáveis \n",
    "sns.set_context(font_scale = 1.9)\n",
    "plt.figure(figsize = (12,10))\n",
    "sns.heatmap(\n",
    "    dados_LightGBM.corr(), \n",
    "    annot = True, \n",
    "    fmt   = '.2f', \n",
    "    cmap  = 'RdBu',\n",
    "    mask  = np.triu(\n",
    "        np.ones_like(dados_LightGBM.corr()) \n",
    "    ) \n",
    ");"
   ]
  },
  {
   "cell_type": "code",
   "execution_count": 65,
   "id": "deb406c9",
   "metadata": {},
   "outputs": [],
   "source": [
    "# salvando dados\n",
    "dados_LightGBM.to_csv('dados/dados_LightGBM.csv', index = False)"
   ]
  },
  {
   "cell_type": "code",
   "execution_count": 66,
   "id": "c7b10a75",
   "metadata": {},
   "outputs": [],
   "source": [
    "# criando dummies para variáveis categóricas\n",
    "var_dummies = [pd.get_dummies(dados_LightGBM['addr_state'], prefix='addr_state', prefix_sep=':'),\n",
    "               pd.get_dummies(dados_LightGBM['grade'], prefix='grade', prefix_sep=':'),\n",
    "               pd.get_dummies(dados_LightGBM['verification_status'], prefix='verification_status', prefix_sep=':')]\n",
    "\n",
    "var_dummies = pd.concat(var_dummies, axis = 1)\n",
    "dados_LightGBM = pd.concat([dados_LightGBM, var_dummies], axis = 1)"
   ]
  },
  {
   "cell_type": "markdown",
   "id": "a31c79f6",
   "metadata": {},
   "source": [
    "Retirando uma categoria criada de cada variável para evitar multicolinearidade."
   ]
  },
  {
   "cell_type": "code",
   "execution_count": 67,
   "id": "811078b0",
   "metadata": {},
   "outputs": [],
   "source": [
    "dados_LightGBM.drop(['grade:A', 'addr_state:WY', 'verification_status:Verified'], axis = 1, inplace = True)"
   ]
  },
  {
   "cell_type": "markdown",
   "id": "b1c44006",
   "metadata": {},
   "source": [
    "Retirando variáveis que foram criados dummies."
   ]
  },
  {
   "cell_type": "code",
   "execution_count": 68,
   "id": "d468732d",
   "metadata": {},
   "outputs": [],
   "source": [
    "dados_LightGBM.drop(['addr_state', 'grade', 'verification_status'], axis = 1, inplace = True)"
   ]
  },
  {
   "cell_type": "code",
   "execution_count": 69,
   "id": "4ae6d1a4",
   "metadata": {},
   "outputs": [],
   "source": [
    "# salvando dados\n",
    "dados_LightGBM.to_csv('dados/dados_LightGBM_final.csv', index = False)"
   ]
  },
  {
   "cell_type": "markdown",
   "id": "cfebfe45",
   "metadata": {},
   "source": [
    "*A intenção neste momento do projeto é analisar qual modelo irá performar melhor na classificação, diante das duas formas de seleção de features diferentes, uma mais comumente utilizada no meio de análises de risco de crédito, WoE e IV, e a outra mais automática e atual, com o LightGBM.*"
   ]
  },
  {
   "cell_type": "markdown",
   "id": "0f67f6e2",
   "metadata": {},
   "source": [
    "---"
   ]
  }
 ],
 "metadata": {
  "hide_input": false,
  "kernelspec": {
   "display_name": "Python 3 (ipykernel)",
   "language": "python",
   "name": "python3"
  },
  "language_info": {
   "codemirror_mode": {
    "name": "ipython",
    "version": 3
   },
   "file_extension": ".py",
   "mimetype": "text/x-python",
   "name": "python",
   "nbconvert_exporter": "python",
   "pygments_lexer": "ipython3",
   "version": "3.9.7"
  }
 },
 "nbformat": 4,
 "nbformat_minor": 5
}
