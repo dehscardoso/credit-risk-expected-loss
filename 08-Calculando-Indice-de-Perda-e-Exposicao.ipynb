{
 "cells": [
  {
   "cell_type": "markdown",
   "id": "526ea75f",
   "metadata": {},
   "source": [
    "<img src = \"https://thumbs2.imgbox.com/32/93/xRH3CBEG_t.png\" width=\"250\">"
   ]
  },
  {
   "cell_type": "markdown",
   "id": "d1052b71",
   "metadata": {},
   "source": [
    "# Calculando o Índice de Perda por Inadimplência e Exposição em Caso de Inadimplência\n",
    "---\n"
   ]
  },
  {
   "cell_type": "code",
   "execution_count": 1,
   "id": "5006c7c7",
   "metadata": {},
   "outputs": [],
   "source": [
    "# importanto bibliotecas\n",
    "import numpy as np\n",
    "import pandas as pd\n",
    "import seaborn as sns\n",
    "import matplotlib.pyplot as plt\n",
    "\n",
    "import warnings\n",
    "warnings.filterwarnings(\"ignore\")"
   ]
  },
  {
   "cell_type": "code",
   "execution_count": 2,
   "id": "3da7f73c",
   "metadata": {},
   "outputs": [],
   "source": [
    "# importando dados\n",
    "df_dados = pd.read_csv('dados/dados_WoE_VI_final.csv')"
   ]
  },
  {
   "cell_type": "code",
   "execution_count": 3,
   "id": "5d099863",
   "metadata": {},
   "outputs": [
    {
     "data": {
      "text/html": [
       "<div>\n",
       "<style scoped>\n",
       "    .dataframe tbody tr th:only-of-type {\n",
       "        vertical-align: middle;\n",
       "    }\n",
       "\n",
       "    .dataframe tbody tr th {\n",
       "        vertical-align: top;\n",
       "    }\n",
       "\n",
       "    .dataframe thead th {\n",
       "        text-align: right;\n",
       "    }\n",
       "</style>\n",
       "<table border=\"1\" class=\"dataframe\">\n",
       "  <thead>\n",
       "    <tr style=\"text-align: right;\">\n",
       "      <th></th>\n",
       "      <th>purpose:credit_card</th>\n",
       "      <th>purpose:debt_consolidation</th>\n",
       "      <th>purpose:home_improvement</th>\n",
       "      <th>home_ownership:OWN</th>\n",
       "      <th>verification_status:Not Verified</th>\n",
       "      <th>verification_status:Source Verified</th>\n",
       "      <th>initial_list_status:f</th>\n",
       "      <th>grade:B</th>\n",
       "      <th>grade:C</th>\n",
       "      <th>grade:D</th>\n",
       "      <th>...</th>\n",
       "      <th>total_rev_hi_lim:10000-20000</th>\n",
       "      <th>total_rev_hi_lim:20000-40000</th>\n",
       "      <th>total_rev_hi_lim:40000-60000</th>\n",
       "      <th>total_rev_hi_lim:60000-80000</th>\n",
       "      <th>total_rev_hi_lim:80000-100000</th>\n",
       "      <th>funded_amnt</th>\n",
       "      <th>total_rec_prncp</th>\n",
       "      <th>loan_status</th>\n",
       "      <th>recoveries</th>\n",
       "      <th>target</th>\n",
       "    </tr>\n",
       "  </thead>\n",
       "  <tbody>\n",
       "    <tr>\n",
       "      <th>0</th>\n",
       "      <td>0</td>\n",
       "      <td>0</td>\n",
       "      <td>1</td>\n",
       "      <td>1</td>\n",
       "      <td>0</td>\n",
       "      <td>1</td>\n",
       "      <td>0</td>\n",
       "      <td>0</td>\n",
       "      <td>0</td>\n",
       "      <td>0</td>\n",
       "      <td>...</td>\n",
       "      <td>0</td>\n",
       "      <td>0</td>\n",
       "      <td>0</td>\n",
       "      <td>0</td>\n",
       "      <td>0</td>\n",
       "      <td>9000.0</td>\n",
       "      <td>9000.00</td>\n",
       "      <td>Fully Paid</td>\n",
       "      <td>0.0</td>\n",
       "      <td>1</td>\n",
       "    </tr>\n",
       "    <tr>\n",
       "      <th>1</th>\n",
       "      <td>0</td>\n",
       "      <td>1</td>\n",
       "      <td>0</td>\n",
       "      <td>0</td>\n",
       "      <td>0</td>\n",
       "      <td>1</td>\n",
       "      <td>0</td>\n",
       "      <td>1</td>\n",
       "      <td>0</td>\n",
       "      <td>0</td>\n",
       "      <td>...</td>\n",
       "      <td>1</td>\n",
       "      <td>0</td>\n",
       "      <td>0</td>\n",
       "      <td>0</td>\n",
       "      <td>0</td>\n",
       "      <td>8300.0</td>\n",
       "      <td>8300.00</td>\n",
       "      <td>Fully Paid</td>\n",
       "      <td>0.0</td>\n",
       "      <td>1</td>\n",
       "    </tr>\n",
       "    <tr>\n",
       "      <th>2</th>\n",
       "      <td>0</td>\n",
       "      <td>1</td>\n",
       "      <td>0</td>\n",
       "      <td>0</td>\n",
       "      <td>1</td>\n",
       "      <td>0</td>\n",
       "      <td>1</td>\n",
       "      <td>0</td>\n",
       "      <td>0</td>\n",
       "      <td>1</td>\n",
       "      <td>...</td>\n",
       "      <td>0</td>\n",
       "      <td>0</td>\n",
       "      <td>0</td>\n",
       "      <td>0</td>\n",
       "      <td>0</td>\n",
       "      <td>4225.0</td>\n",
       "      <td>4225.00</td>\n",
       "      <td>Fully Paid</td>\n",
       "      <td>0.0</td>\n",
       "      <td>1</td>\n",
       "    </tr>\n",
       "    <tr>\n",
       "      <th>3</th>\n",
       "      <td>0</td>\n",
       "      <td>1</td>\n",
       "      <td>0</td>\n",
       "      <td>0</td>\n",
       "      <td>0</td>\n",
       "      <td>1</td>\n",
       "      <td>1</td>\n",
       "      <td>0</td>\n",
       "      <td>0</td>\n",
       "      <td>0</td>\n",
       "      <td>...</td>\n",
       "      <td>0</td>\n",
       "      <td>0</td>\n",
       "      <td>0</td>\n",
       "      <td>1</td>\n",
       "      <td>0</td>\n",
       "      <td>28000.0</td>\n",
       "      <td>28000.00</td>\n",
       "      <td>Fully Paid</td>\n",
       "      <td>0.0</td>\n",
       "      <td>1</td>\n",
       "    </tr>\n",
       "    <tr>\n",
       "      <th>4</th>\n",
       "      <td>0</td>\n",
       "      <td>1</td>\n",
       "      <td>0</td>\n",
       "      <td>0</td>\n",
       "      <td>1</td>\n",
       "      <td>0</td>\n",
       "      <td>0</td>\n",
       "      <td>0</td>\n",
       "      <td>0</td>\n",
       "      <td>0</td>\n",
       "      <td>...</td>\n",
       "      <td>0</td>\n",
       "      <td>0</td>\n",
       "      <td>1</td>\n",
       "      <td>0</td>\n",
       "      <td>0</td>\n",
       "      <td>3000.0</td>\n",
       "      <td>1861.51</td>\n",
       "      <td>Current</td>\n",
       "      <td>0.0</td>\n",
       "      <td>1</td>\n",
       "    </tr>\n",
       "  </tbody>\n",
       "</table>\n",
       "<p>5 rows × 82 columns</p>\n",
       "</div>"
      ],
      "text/plain": [
       "   purpose:credit_card  purpose:debt_consolidation  purpose:home_improvement  \\\n",
       "0                    0                           0                         1   \n",
       "1                    0                           1                         0   \n",
       "2                    0                           1                         0   \n",
       "3                    0                           1                         0   \n",
       "4                    0                           1                         0   \n",
       "\n",
       "   home_ownership:OWN  verification_status:Not Verified  \\\n",
       "0                   1                                 0   \n",
       "1                   0                                 0   \n",
       "2                   0                                 1   \n",
       "3                   0                                 0   \n",
       "4                   0                                 1   \n",
       "\n",
       "   verification_status:Source Verified  initial_list_status:f  grade:B  \\\n",
       "0                                    1                      0        0   \n",
       "1                                    1                      0        1   \n",
       "2                                    0                      1        0   \n",
       "3                                    1                      1        0   \n",
       "4                                    0                      0        0   \n",
       "\n",
       "   grade:C  grade:D  ...  total_rev_hi_lim:10000-20000  \\\n",
       "0        0        0  ...                             0   \n",
       "1        0        0  ...                             1   \n",
       "2        0        1  ...                             0   \n",
       "3        0        0  ...                             0   \n",
       "4        0        0  ...                             0   \n",
       "\n",
       "   total_rev_hi_lim:20000-40000  total_rev_hi_lim:40000-60000  \\\n",
       "0                             0                             0   \n",
       "1                             0                             0   \n",
       "2                             0                             0   \n",
       "3                             0                             0   \n",
       "4                             0                             1   \n",
       "\n",
       "   total_rev_hi_lim:60000-80000  total_rev_hi_lim:80000-100000  funded_amnt  \\\n",
       "0                             0                              0       9000.0   \n",
       "1                             0                              0       8300.0   \n",
       "2                             0                              0       4225.0   \n",
       "3                             1                              0      28000.0   \n",
       "4                             0                              0       3000.0   \n",
       "\n",
       "   total_rec_prncp  loan_status  recoveries  target  \n",
       "0          9000.00   Fully Paid         0.0       1  \n",
       "1          8300.00   Fully Paid         0.0       1  \n",
       "2          4225.00   Fully Paid         0.0       1  \n",
       "3         28000.00   Fully Paid         0.0       1  \n",
       "4          1861.51      Current         0.0       1  \n",
       "\n",
       "[5 rows x 82 columns]"
      ]
     },
     "execution_count": 3,
     "metadata": {},
     "output_type": "execute_result"
    }
   ],
   "source": [
    "df_dados.head()"
   ]
  },
  {
   "cell_type": "markdown",
   "id": "453f7a7f",
   "metadata": {},
   "source": [
    "### Loss Given Default - LGD\n",
    "---\n",
    "\n",
    "Para calcular LGD, perda por inadimplência, é preciso calcular a porcentagem de exposição recuperada após a inadimplência do mutuário. A LGD total de uma instituição financeira é calculada após uma análise de todos os empréstimos pendentes usando as perdas e a exposição acumuladas. \n",
    "\n",
    "Seu cálculo será:\n",
    "\n",
    "`LGD = 1 - taxa de recuperação`"
   ]
  },
  {
   "cell_type": "markdown",
   "id": "77f93281",
   "metadata": {},
   "source": [
    "Primeiro serão selecionandos apenas os dados dos mutuários que entraram em default."
   ]
  },
  {
   "cell_type": "code",
   "execution_count": 4,
   "id": "27b8d32f",
   "metadata": {},
   "outputs": [],
   "source": [
    "LC_defaults = df_dados[df_dados['loan_status'].isin(['Charged Off','Does not meet the credit policy. Status:Charged Off'])]"
   ]
  },
  {
   "cell_type": "code",
   "execution_count": 5,
   "id": "a3b0df18",
   "metadata": {},
   "outputs": [
    {
     "data": {
      "text/plain": [
       "(109122, 82)"
      ]
     },
     "execution_count": 5,
     "metadata": {},
     "output_type": "execute_result"
    }
   ],
   "source": [
    "LC_defaults.shape"
   ]
  },
  {
   "cell_type": "markdown",
   "id": "6addcd49",
   "metadata": {},
   "source": [
    "#### Variáveis independentes"
   ]
  },
  {
   "cell_type": "code",
   "execution_count": 6,
   "id": "1418385e",
   "metadata": {
    "scrolled": true
   },
   "outputs": [
    {
     "data": {
      "text/plain": [
       "purpose:credit_card                                      0\n",
       "purpose:debt_consolidation                               0\n",
       "purpose:home_improvement                                 0\n",
       "home_ownership:OWN                                       0\n",
       "verification_status:Not Verified                         0\n",
       "verification_status:Source Verified                      0\n",
       "initial_list_status:f                                    0\n",
       "grade:B                                                  0\n",
       "grade:C                                                  0\n",
       "grade:D                                                  0\n",
       "grade:E                                                  0\n",
       "grade:F                                                  0\n",
       "grade:G                                                  0\n",
       "home_ownership:RENT_OTHER_NONE_ANY                       0\n",
       "purpose:other__medical                                   0\n",
       "purpose:major_purchase__vacation__house__wedding__car    0\n",
       "term:36                                                  0\n",
       "int_rate:7.484-10.466                                    0\n",
       "int_rate:10.466-13.014                                   0\n",
       "int_rate:13.014-15.582                                   0\n",
       "int_rate:15.582-18.15                                    0\n",
       "int_rate:18.15-20.718                                    0\n",
       "int_rate:20.718-23.286                                   0\n",
       "int_rate:23.286-25.854                                   0\n",
       "int_rate:>25.854                                         0\n",
       "annual_inc:30000-45000                                   0\n",
       "annual_inc:45000-60000                                   0\n",
       "annual_inc:60000-75000                                   0\n",
       "annual_inc:75000-90000                                   0\n",
       "annual_inc:90000-105000                                  0\n",
       "annual_inc:105000-120000                                 0\n",
       "annual_inc:120000-135000                                 0\n",
       "annual_inc:>135000                                       0\n",
       "dti:<199.8                                               0\n",
       "dti:399.6-599.4                                          0\n",
       "dti:599.4-699.3                                          0\n",
       "dti:699.3-799.2                                          0\n",
       "dti:>799.2                                               0\n",
       "inq_last_6mths:<3.2                                      0\n",
       "inq_last_6mths:6.4-9.6                                   0\n",
       "inq_last_6mths:>9.6                                      0\n",
       "revol_util:20-30                                         0\n",
       "revol_util:30-40                                         0\n",
       "revol_util:40-50                                         0\n",
       "revol_util:50-60                                         0\n",
       "revol_util:60-70                                         0\n",
       "revol_util:>70                                           0\n",
       "tot_cur_bal:<40000                                       0\n",
       "tot_cur_bal:40000-80000                                  0\n",
       "tot_cur_bal:80000-120000                                 0\n",
       "tot_cur_bal:160000-200000                                0\n",
       "tot_cur_bal:200000-240000                                0\n",
       "tot_cur_bal:240000-320000                                0\n",
       "tot_cur_bal:320000-400000                                0\n",
       "tot_cur_bal:>400000                                      0\n",
       "mths_since_rcnt_il:<10                                   0\n",
       "mths_since_rcnt_il:10-20                                 0\n",
       "mths_since_rcnt_il:40-70                                 0\n",
       "mths_since_rcnt_il:>70                                   0\n",
       "total_bal_il:1000-7000                                   0\n",
       "total_bal_il:>7000                                       0\n",
       "funded_amnt:1450-2400                                    0\n",
       "funded_amnt:2400-3350                                    0\n",
       "funded_amnt:3350-5250                                    0\n",
       "funded_amnt:5250-6200                                    0\n",
       "funded_amnt:6200-8100                                    0\n",
       "funded_amnt:8100-9050                                    0\n",
       "funded_amnt:>9050                                        0\n",
       "max_bal_bc:<12500                                        0\n",
       "max_bal_bc:25000-37500                                   0\n",
       "max_bal_bc:>37500                                        0\n",
       "total_rev_hi_lim:<10000                                  0\n",
       "total_rev_hi_lim:10000-20000                             0\n",
       "total_rev_hi_lim:20000-40000                             0\n",
       "total_rev_hi_lim:40000-60000                             0\n",
       "total_rev_hi_lim:60000-80000                             0\n",
       "total_rev_hi_lim:80000-100000                            0\n",
       "funded_amnt                                              0\n",
       "total_rec_prncp                                          0\n",
       "loan_status                                              0\n",
       "recoveries                                               0\n",
       "target                                                   0\n",
       "dtype: int64"
      ]
     },
     "execution_count": 6,
     "metadata": {},
     "output_type": "execute_result"
    }
   ],
   "source": [
    "# verificando valores nan\n",
    "# nenhum tratamento será necessário para as variáveis independentes\n",
    "pd.options.display.max_rows = None\n",
    "\n",
    "LC_defaults.isnull().sum()"
   ]
  },
  {
   "cell_type": "markdown",
   "id": "11fc7a93",
   "metadata": {},
   "source": [
    "#### Variáveis dependentes\n",
    "\n",
    "- **recoveries:** Pós cobrança da recuperação bruta\n",
    "- **funded_amnt:** O valor total comprometido com esse empréstimo naquele momento\n",
    "\n",
    "O cálculo da taxa de recuperação será realizado, mas seu valor máximo fica um pouco acima de 1 (por ser uma taxa ela deve estar entre 0 e 1), o que pode acontecer durante os cálculos."
   ]
  },
  {
   "cell_type": "code",
   "execution_count": 7,
   "id": "08ae0d4d",
   "metadata": {},
   "outputs": [
    {
     "data": {
      "text/plain": [
       "count    109122.000000\n",
       "mean          0.083664\n",
       "std           0.102014\n",
       "min           0.000000\n",
       "25%           0.000000\n",
       "50%           0.068741\n",
       "75%           0.118890\n",
       "max           1.218959\n",
       "Name: taxa_recuperacao, dtype: float64"
      ]
     },
     "execution_count": 7,
     "metadata": {},
     "output_type": "execute_result"
    }
   ],
   "source": [
    "LC_defaults['taxa_recuperacao'] = LC_defaults['recoveries'] / LC_defaults['funded_amnt']\n",
    "LC_defaults['taxa_recuperacao'].describe()"
   ]
  },
  {
   "cell_type": "code",
   "execution_count": 8,
   "id": "be5610da",
   "metadata": {},
   "outputs": [
    {
     "data": {
      "text/plain": [
       "count    109122.000000\n",
       "mean          0.083650\n",
       "std           0.101881\n",
       "min           0.000000\n",
       "25%           0.000000\n",
       "50%           0.068741\n",
       "75%           0.118890\n",
       "max           1.000000\n",
       "Name: taxa_recuperacao, dtype: float64"
      ]
     },
     "execution_count": 8,
     "metadata": {},
     "output_type": "execute_result"
    }
   ],
   "source": [
    "# corrigindo a taxa de recuperação\n",
    "LC_defaults['taxa_recuperacao'] = np.where(LC_defaults['taxa_recuperacao'] > 1, 1, LC_defaults['taxa_recuperacao'])\n",
    "LC_defaults['taxa_recuperacao'] = np.where(LC_defaults['taxa_recuperacao'] < 0, 0, LC_defaults['taxa_recuperacao'])\n",
    "LC_defaults['taxa_recuperacao'].describe()"
   ]
  },
  {
   "cell_type": "code",
   "execution_count": 9,
   "id": "ae834f88",
   "metadata": {},
   "outputs": [
    {
     "data": {
      "image/png": "[encoded data removed]",
      "text/plain": [
       "<Figure size 432x288 with 1 Axes>"
      ]
     },
     "metadata": {
      "needs_background": "light"
     },
     "output_type": "display_data"
    }
   ],
   "source": [
    "plt.title('Distribuição da Taxa de Recuperação')\n",
    "plt.hist(LC_defaults['taxa_recuperacao'], bins = 50);"
   ]
  },
  {
   "cell_type": "markdown",
   "id": "179d0e0e",
   "metadata": {},
   "source": [
    "Criando variável para taxa de recuperação, onde será aplicada a regressão logística e se a `taxa_recuperacao` for zero, a taxa de recuperação será zero. Onde for maior do que zero, será usada a Regressão Linear para estimá-la."
   ]
  },
  {
   "cell_type": "code",
   "execution_count": 10,
   "id": "a3fc7a45",
   "metadata": {},
   "outputs": [],
   "source": [
    "LC_defaults['taxa_recuperacao_0_1'] = np.where(LC_defaults['taxa_recuperacao'] == 0, 0, 1)"
   ]
  },
  {
   "cell_type": "markdown",
   "id": "8e4d1301",
   "metadata": {},
   "source": [
    "### Exposure at Default - EAD\n",
    "---\n",
    "\n",
    "EAD, exposição em caso de inadimplência é o valor total ao qual uma instituição financeira está exposta quando um empréstimo entra em default. \n",
    "\n",
    "Pode ser calculado por:\n",
    "\n",
    "`EAD = valor total financiado * fator de conversão de crédito`\n",
    "\n",
    "#### Calculando o fator de conversão de crédito\n",
    "\n",
    "- **funded_amnt:** O valor total comprometido com esse empréstimo naquele momento\n",
    "- **total_rec_prncp:** Principal recebido até o momento"
   ]
  },
  {
   "cell_type": "code",
   "execution_count": 11,
   "id": "c188637e",
   "metadata": {},
   "outputs": [
    {
     "data": {
      "text/plain": [
       "count    109122.000000\n",
       "mean          0.688478\n",
       "std           0.224716\n",
       "min           0.000000\n",
       "25%           0.549790\n",
       "50%           0.740939\n",
       "75%           0.868476\n",
       "max           1.000000\n",
       "Name: fator_conversao_credito, dtype: float64"
      ]
     },
     "execution_count": 11,
     "metadata": {},
     "output_type": "execute_result"
    }
   ],
   "source": [
    "LC_defaults['fator_conversao_credito'] = (LC_defaults['funded_amnt'] - LC_defaults['total_rec_prncp']) / LC_defaults['funded_amnt']\n",
    "LC_defaults['fator_conversao_credito'].describe()"
   ]
  },
  {
   "cell_type": "markdown",
   "id": "a47a3cda",
   "metadata": {},
   "source": [
    "Observando a distribuição beta, a mesma da taxa de recuperação, que nesse caso será aplicada a Regressão Linear, já que fatores de conversão são mais homogeaneamente distribuídos. "
   ]
  },
  {
   "cell_type": "code",
   "execution_count": 12,
   "id": "e27bfd2c",
   "metadata": {},
   "outputs": [
    {
     "data": {
      "image/png": "[encoded data removed]",
      "text/plain": [
       "<Figure size 432x288 with 1 Axes>"
      ]
     },
     "metadata": {
      "needs_background": "light"
     },
     "output_type": "display_data"
    }
   ],
   "source": [
    "plt.title('Distribuição do Fator de Conversão de Crédito')\n",
    "plt.hist(LC_defaults['fator_conversao_credito'], bins = 100);"
   ]
  },
  {
   "cell_type": "markdown",
   "id": "f603f06b",
   "metadata": {},
   "source": [
    "---"
   ]
  },
  {
   "cell_type": "markdown",
   "id": "634b7a9c",
   "metadata": {},
   "source": [
    "*Esse dataset foi criado para a Regressão Linear do notebook de índice de perda por inadimplência, será junção das variáveis e dummies das variáveis selecionadas por WoE e IV com as taxas e fator de conversão criados neste notebook*"
   ]
  },
  {
   "cell_type": "code",
   "execution_count": 14,
   "id": "0a9d950c",
   "metadata": {},
   "outputs": [],
   "source": [
    "dados_WoE_VI = pd.read_csv('dados/dados_WoE_VI.csv')"
   ]
  },
  {
   "cell_type": "code",
   "execution_count": 15,
   "id": "718a0cac",
   "metadata": {},
   "outputs": [],
   "source": [
    "# criando dummies para variáveis categóricas\n",
    "var_dummies = [pd.get_dummies(dados_WoE_VI['purpose'], prefix = 'purpose', prefix_sep = ':'),\n",
    "               pd.get_dummies(dados_WoE_VI['home_ownership'], prefix = 'home_ownership', prefix_sep = ':'),\n",
    "               pd.get_dummies(dados_WoE_VI['verification_status'], prefix = 'verification_status', prefix_sep = ':'),\n",
    "               pd.get_dummies(dados_WoE_VI['initial_list_status'], prefix = 'initial_list_status', prefix_sep = ':'),\n",
    "               pd.get_dummies(dados_WoE_VI['grade'], prefix = 'grade', prefix_sep = ':')]\n",
    "\n",
    "var_dummies  = pd.concat(var_dummies, axis = 1)\n",
    "dados_WoE_VI = pd.concat([dados_WoE_VI, var_dummies], axis = 1)"
   ]
  },
  {
   "cell_type": "code",
   "execution_count": 16,
   "id": "206ef70d",
   "metadata": {},
   "outputs": [],
   "source": [
    "df2 = pd.concat([dados_WoE_VI, LC_defaults[['taxa_recuperacao', 'taxa_recuperacao_0_1', 'fator_conversao_credito']]], axis = 1)\n",
    "df2.fillna(0, inplace=True)"
   ]
  },
  {
   "cell_type": "code",
   "execution_count": 17,
   "id": "23a61d28",
   "metadata": {},
   "outputs": [],
   "source": [
    "# retirando categorias para evitar multicolinearidade e variáveis das quais foram criados os dummies\n",
    "df2.drop(['purpose:debt_consolidation', 'home_ownership:RENT',  \n",
    "          'verification_status:Source Verified','loan_status', \n",
    "          'initial_list_status:f', 'grade:A', , 'home_ownership', \n",
    "          'verification_status', 'purpose', 'initial_list_status', \n",
    "          'grade'], axis = 1, inplace = True)"
   ]
  },
  {
   "cell_type": "code",
   "execution_count": 18,
   "id": "b8a92947",
   "metadata": {},
   "outputs": [],
   "source": [
    "df2.to_csv('dados/dados_WoE_VI_LGD_EAD_regressao.csv', index=False)"
   ]
  },
  {
   "cell_type": "markdown",
   "id": "f952fa1f",
   "metadata": {},
   "source": [
    "---"
   ]
  }
 ],
 "metadata": {
  "hide_input": false,
  "kernelspec": {
   "display_name": "Python 3 (ipykernel)",
   "language": "python",
   "name": "python3"
  },
  "language_info": {
   "codemirror_mode": {
    "name": "ipython",
    "version": 3
   },
   "file_extension": ".py",
   "mimetype": "text/x-python",
   "name": "python",
   "nbconvert_exporter": "python",
   "pygments_lexer": "ipython3",
   "version": "3.9.7"
  }
 },
 "nbformat": 4,
 "nbformat_minor": 5
}
